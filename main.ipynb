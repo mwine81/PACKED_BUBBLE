{
 "cells": [
  {
   "cell_type": "code",
   "execution_count": 2,
   "id": "f2395af2",
   "metadata": {},
   "outputs": [],
   "source": [
    "from helpers import fetch_data, aggregate_data, base_query\n",
    "import polars as pl\n",
    "import pandas as pd\n",
    "from polars import col as c\n",
    "import polars as pl\n",
    "from polars import col as c\n",
    "import polars.selectors as cs\n",
    "import plotly.express as px"
   ]
  },
  {
   "cell_type": "code",
   "execution_count": null,
   "id": "c37ac146",
   "metadata": {},
   "outputs": [
    {
     "data": {
      "application/vnd.plotly.v1+json": {
       "config": {
        "plotlyServerURL": "https://plot.ly"
       },
       "data": [
        {
         "coloraxis": "coloraxis",
         "geo": "geo",
         "hovertemplate": "<b>%{hovertext}</b><br><br>state=%{location}<br>diff_per_rx=%{z}<extra></extra>",
         "hovertext": [
          "ME",
          "NV",
          "SC",
          "PA",
          "LA",
          "MN",
          "IA",
          "AL",
          "SD",
          "NJ",
          "MI",
          "MS",
          "RI",
          "HI",
          "MD",
          "AK",
          "GA",
          "WA",
          "WV",
          "KS",
          "MA",
          "KY",
          "NY",
          "NM",
          "OR",
          "NE",
          "CA",
          "AZ",
          "MT",
          "VT",
          "NC",
          "IL",
          "UT",
          "WI",
          "DE",
          "FL",
          "AR",
          "DC",
          "MO",
          "OH",
          "XX",
          "TN",
          "TX",
          "ND",
          "CO",
          "PR",
          "ID",
          "CT",
          "OK",
          "VA",
          "IN",
          "NH",
          "WY"
         ],
         "locationmode": "USA-states",
         "locations": [
          "ME",
          "NV",
          "SC",
          "PA",
          "LA",
          "MN",
          "IA",
          "AL",
          "SD",
          "NJ",
          "MI",
          "MS",
          "RI",
          "HI",
          "MD",
          "AK",
          "GA",
          "WA",
          "WV",
          "KS",
          "MA",
          "KY",
          "NY",
          "NM",
          "OR",
          "NE",
          "CA",
          "AZ",
          "MT",
          "VT",
          "NC",
          "IL",
          "UT",
          "WI",
          "DE",
          "FL",
          "AR",
          "DC",
          "MO",
          "OH",
          "XX",
          "TN",
          "TX",
          "ND",
          "CO",
          "PR",
          "ID",
          "CT",
          "OK",
          "VA",
          "IN",
          "NH",
          "WY"
         ],
         "name": "",
         "type": "choropleth",
         "z": {
          "bdata": "uB6F61G4vr97FK5H4XqkP5qZmZmZmbm/uB6F61G4rr/sUbgeheuxv3sUrkfherS/exSuR+F6hL+4HoXrUbiev+xRuB6F67G/exSuR+F6hL97FK5H4XqUv7gehetRuK6/CtejcD0Kt797FK5H4XqkP3sUrkfheqS/uB6F61G4nr97FK5H4XqEP3sUrkfheoS/mpmZmZmZqb97FK5H4XqEv7gehetRuL6/mpmZmZmZub97FK5H4Xqkv3sUrkfheoQ/uB6F61G4nj97FK5H4XqUP3sUrkfheqQ/7FG4HoXrsT97FK5H4XqEP7gehetRuM6/7FG4HoXrsb97FK5H4XqEPwAAAAAAAAAAAAAAAAAAAIC4HoXrUbiuv3sUrkfhepQ/exSuR+F6lL+amZmZmZm5P7gehetRuJ6/KVyPwvUovL+4HoXrUbiev+xRuB6F67G/exSuR+F6hL+amZmZmZmpv3sUrkfhepQ/KVyPwvUovD97FK5H4XqEv3E9CtejcM2/exSuR+F6lL8K16NwPQq3v7gehetRuM6/uB6F61G4vr+4HoXrUbievw==",
          "dtype": "f8"
         }
        }
       ],
       "layout": {
        "coloraxis": {
         "colorbar": {
          "title": {
           "text": "diff_per_rx"
          }
         },
         "colorscale": [
          [
           0,
           "#0d0887"
          ],
          [
           0.1111111111111111,
           "#46039f"
          ],
          [
           0.2222222222222222,
           "#7201a8"
          ],
          [
           0.3333333333333333,
           "#9c179e"
          ],
          [
           0.4444444444444444,
           "#bd3786"
          ],
          [
           0.5555555555555556,
           "#d8576b"
          ],
          [
           0.6666666666666666,
           "#ed7953"
          ],
          [
           0.7777777777777778,
           "#fb9f3a"
          ],
          [
           0.8888888888888888,
           "#fdca26"
          ],
          [
           1,
           "#f0f921"
          ]
         ]
        },
        "geo": {
         "center": {},
         "domain": {
          "x": [
           0,
           1
          ],
          "y": [
           0,
           1
          ]
         },
         "scope": "usa"
        },
        "legend": {
         "tracegroupgap": 0
        },
        "template": {
         "data": {
          "bar": [
           {
            "error_x": {
             "color": "#2a3f5f"
            },
            "error_y": {
             "color": "#2a3f5f"
            },
            "marker": {
             "line": {
              "color": "#E5ECF6",
              "width": 0.5
             },
             "pattern": {
              "fillmode": "overlay",
              "size": 10,
              "solidity": 0.2
             }
            },
            "type": "bar"
           }
          ],
          "barpolar": [
           {
            "marker": {
             "line": {
              "color": "#E5ECF6",
              "width": 0.5
             },
             "pattern": {
              "fillmode": "overlay",
              "size": 10,
              "solidity": 0.2
             }
            },
            "type": "barpolar"
           }
          ],
          "carpet": [
           {
            "aaxis": {
             "endlinecolor": "#2a3f5f",
             "gridcolor": "white",
             "linecolor": "white",
             "minorgridcolor": "white",
             "startlinecolor": "#2a3f5f"
            },
            "baxis": {
             "endlinecolor": "#2a3f5f",
             "gridcolor": "white",
             "linecolor": "white",
             "minorgridcolor": "white",
             "startlinecolor": "#2a3f5f"
            },
            "type": "carpet"
           }
          ],
          "choropleth": [
           {
            "colorbar": {
             "outlinewidth": 0,
             "ticks": ""
            },
            "type": "choropleth"
           }
          ],
          "contour": [
           {
            "colorbar": {
             "outlinewidth": 0,
             "ticks": ""
            },
            "colorscale": [
             [
              0,
              "#0d0887"
             ],
             [
              0.1111111111111111,
              "#46039f"
             ],
             [
              0.2222222222222222,
              "#7201a8"
             ],
             [
              0.3333333333333333,
              "#9c179e"
             ],
             [
              0.4444444444444444,
              "#bd3786"
             ],
             [
              0.5555555555555556,
              "#d8576b"
             ],
             [
              0.6666666666666666,
              "#ed7953"
             ],
             [
              0.7777777777777778,
              "#fb9f3a"
             ],
             [
              0.8888888888888888,
              "#fdca26"
             ],
             [
              1,
              "#f0f921"
             ]
            ],
            "type": "contour"
           }
          ],
          "contourcarpet": [
           {
            "colorbar": {
             "outlinewidth": 0,
             "ticks": ""
            },
            "type": "contourcarpet"
           }
          ],
          "heatmap": [
           {
            "colorbar": {
             "outlinewidth": 0,
             "ticks": ""
            },
            "colorscale": [
             [
              0,
              "#0d0887"
             ],
             [
              0.1111111111111111,
              "#46039f"
             ],
             [
              0.2222222222222222,
              "#7201a8"
             ],
             [
              0.3333333333333333,
              "#9c179e"
             ],
             [
              0.4444444444444444,
              "#bd3786"
             ],
             [
              0.5555555555555556,
              "#d8576b"
             ],
             [
              0.6666666666666666,
              "#ed7953"
             ],
             [
              0.7777777777777778,
              "#fb9f3a"
             ],
             [
              0.8888888888888888,
              "#fdca26"
             ],
             [
              1,
              "#f0f921"
             ]
            ],
            "type": "heatmap"
           }
          ],
          "histogram": [
           {
            "marker": {
             "pattern": {
              "fillmode": "overlay",
              "size": 10,
              "solidity": 0.2
             }
            },
            "type": "histogram"
           }
          ],
          "histogram2d": [
           {
            "colorbar": {
             "outlinewidth": 0,
             "ticks": ""
            },
            "colorscale": [
             [
              0,
              "#0d0887"
             ],
             [
              0.1111111111111111,
              "#46039f"
             ],
             [
              0.2222222222222222,
              "#7201a8"
             ],
             [
              0.3333333333333333,
              "#9c179e"
             ],
             [
              0.4444444444444444,
              "#bd3786"
             ],
             [
              0.5555555555555556,
              "#d8576b"
             ],
             [
              0.6666666666666666,
              "#ed7953"
             ],
             [
              0.7777777777777778,
              "#fb9f3a"
             ],
             [
              0.8888888888888888,
              "#fdca26"
             ],
             [
              1,
              "#f0f921"
             ]
            ],
            "type": "histogram2d"
           }
          ],
          "histogram2dcontour": [
           {
            "colorbar": {
             "outlinewidth": 0,
             "ticks": ""
            },
            "colorscale": [
             [
              0,
              "#0d0887"
             ],
             [
              0.1111111111111111,
              "#46039f"
             ],
             [
              0.2222222222222222,
              "#7201a8"
             ],
             [
              0.3333333333333333,
              "#9c179e"
             ],
             [
              0.4444444444444444,
              "#bd3786"
             ],
             [
              0.5555555555555556,
              "#d8576b"
             ],
             [
              0.6666666666666666,
              "#ed7953"
             ],
             [
              0.7777777777777778,
              "#fb9f3a"
             ],
             [
              0.8888888888888888,
              "#fdca26"
             ],
             [
              1,
              "#f0f921"
             ]
            ],
            "type": "histogram2dcontour"
           }
          ],
          "mesh3d": [
           {
            "colorbar": {
             "outlinewidth": 0,
             "ticks": ""
            },
            "type": "mesh3d"
           }
          ],
          "parcoords": [
           {
            "line": {
             "colorbar": {
              "outlinewidth": 0,
              "ticks": ""
             }
            },
            "type": "parcoords"
           }
          ],
          "pie": [
           {
            "automargin": true,
            "type": "pie"
           }
          ],
          "scatter": [
           {
            "fillpattern": {
             "fillmode": "overlay",
             "size": 10,
             "solidity": 0.2
            },
            "type": "scatter"
           }
          ],
          "scatter3d": [
           {
            "line": {
             "colorbar": {
              "outlinewidth": 0,
              "ticks": ""
             }
            },
            "marker": {
             "colorbar": {
              "outlinewidth": 0,
              "ticks": ""
             }
            },
            "type": "scatter3d"
           }
          ],
          "scattercarpet": [
           {
            "marker": {
             "colorbar": {
              "outlinewidth": 0,
              "ticks": ""
             }
            },
            "type": "scattercarpet"
           }
          ],
          "scattergeo": [
           {
            "marker": {
             "colorbar": {
              "outlinewidth": 0,
              "ticks": ""
             }
            },
            "type": "scattergeo"
           }
          ],
          "scattergl": [
           {
            "marker": {
             "colorbar": {
              "outlinewidth": 0,
              "ticks": ""
             }
            },
            "type": "scattergl"
           }
          ],
          "scattermap": [
           {
            "marker": {
             "colorbar": {
              "outlinewidth": 0,
              "ticks": ""
             }
            },
            "type": "scattermap"
           }
          ],
          "scattermapbox": [
           {
            "marker": {
             "colorbar": {
              "outlinewidth": 0,
              "ticks": ""
             }
            },
            "type": "scattermapbox"
           }
          ],
          "scatterpolar": [
           {
            "marker": {
             "colorbar": {
              "outlinewidth": 0,
              "ticks": ""
             }
            },
            "type": "scatterpolar"
           }
          ],
          "scatterpolargl": [
           {
            "marker": {
             "colorbar": {
              "outlinewidth": 0,
              "ticks": ""
             }
            },
            "type": "scatterpolargl"
           }
          ],
          "scatterternary": [
           {
            "marker": {
             "colorbar": {
              "outlinewidth": 0,
              "ticks": ""
             }
            },
            "type": "scatterternary"
           }
          ],
          "surface": [
           {
            "colorbar": {
             "outlinewidth": 0,
             "ticks": ""
            },
            "colorscale": [
             [
              0,
              "#0d0887"
             ],
             [
              0.1111111111111111,
              "#46039f"
             ],
             [
              0.2222222222222222,
              "#7201a8"
             ],
             [
              0.3333333333333333,
              "#9c179e"
             ],
             [
              0.4444444444444444,
              "#bd3786"
             ],
             [
              0.5555555555555556,
              "#d8576b"
             ],
             [
              0.6666666666666666,
              "#ed7953"
             ],
             [
              0.7777777777777778,
              "#fb9f3a"
             ],
             [
              0.8888888888888888,
              "#fdca26"
             ],
             [
              1,
              "#f0f921"
             ]
            ],
            "type": "surface"
           }
          ],
          "table": [
           {
            "cells": {
             "fill": {
              "color": "#EBF0F8"
             },
             "line": {
              "color": "white"
             }
            },
            "header": {
             "fill": {
              "color": "#C8D4E3"
             },
             "line": {
              "color": "white"
             }
            },
            "type": "table"
           }
          ]
         },
         "layout": {
          "annotationdefaults": {
           "arrowcolor": "#2a3f5f",
           "arrowhead": 0,
           "arrowwidth": 1
          },
          "autotypenumbers": "strict",
          "coloraxis": {
           "colorbar": {
            "outlinewidth": 0,
            "ticks": ""
           }
          },
          "colorscale": {
           "diverging": [
            [
             0,
             "#8e0152"
            ],
            [
             0.1,
             "#c51b7d"
            ],
            [
             0.2,
             "#de77ae"
            ],
            [
             0.3,
             "#f1b6da"
            ],
            [
             0.4,
             "#fde0ef"
            ],
            [
             0.5,
             "#f7f7f7"
            ],
            [
             0.6,
             "#e6f5d0"
            ],
            [
             0.7,
             "#b8e186"
            ],
            [
             0.8,
             "#7fbc41"
            ],
            [
             0.9,
             "#4d9221"
            ],
            [
             1,
             "#276419"
            ]
           ],
           "sequential": [
            [
             0,
             "#0d0887"
            ],
            [
             0.1111111111111111,
             "#46039f"
            ],
            [
             0.2222222222222222,
             "#7201a8"
            ],
            [
             0.3333333333333333,
             "#9c179e"
            ],
            [
             0.4444444444444444,
             "#bd3786"
            ],
            [
             0.5555555555555556,
             "#d8576b"
            ],
            [
             0.6666666666666666,
             "#ed7953"
            ],
            [
             0.7777777777777778,
             "#fb9f3a"
            ],
            [
             0.8888888888888888,
             "#fdca26"
            ],
            [
             1,
             "#f0f921"
            ]
           ],
           "sequentialminus": [
            [
             0,
             "#0d0887"
            ],
            [
             0.1111111111111111,
             "#46039f"
            ],
            [
             0.2222222222222222,
             "#7201a8"
            ],
            [
             0.3333333333333333,
             "#9c179e"
            ],
            [
             0.4444444444444444,
             "#bd3786"
            ],
            [
             0.5555555555555556,
             "#d8576b"
            ],
            [
             0.6666666666666666,
             "#ed7953"
            ],
            [
             0.7777777777777778,
             "#fb9f3a"
            ],
            [
             0.8888888888888888,
             "#fdca26"
            ],
            [
             1,
             "#f0f921"
            ]
           ]
          },
          "colorway": [
           "#636efa",
           "#EF553B",
           "#00cc96",
           "#ab63fa",
           "#FFA15A",
           "#19d3f3",
           "#FF6692",
           "#B6E880",
           "#FF97FF",
           "#FECB52"
          ],
          "font": {
           "color": "#2a3f5f"
          },
          "geo": {
           "bgcolor": "white",
           "lakecolor": "white",
           "landcolor": "#E5ECF6",
           "showlakes": true,
           "showland": true,
           "subunitcolor": "white"
          },
          "hoverlabel": {
           "align": "left"
          },
          "hovermode": "closest",
          "mapbox": {
           "style": "light"
          },
          "paper_bgcolor": "white",
          "plot_bgcolor": "#E5ECF6",
          "polar": {
           "angularaxis": {
            "gridcolor": "white",
            "linecolor": "white",
            "ticks": ""
           },
           "bgcolor": "#E5ECF6",
           "radialaxis": {
            "gridcolor": "white",
            "linecolor": "white",
            "ticks": ""
           }
          },
          "scene": {
           "xaxis": {
            "backgroundcolor": "#E5ECF6",
            "gridcolor": "white",
            "gridwidth": 2,
            "linecolor": "white",
            "showbackground": true,
            "ticks": "",
            "zerolinecolor": "white"
           },
           "yaxis": {
            "backgroundcolor": "#E5ECF6",
            "gridcolor": "white",
            "gridwidth": 2,
            "linecolor": "white",
            "showbackground": true,
            "ticks": "",
            "zerolinecolor": "white"
           },
           "zaxis": {
            "backgroundcolor": "#E5ECF6",
            "gridcolor": "white",
            "gridwidth": 2,
            "linecolor": "white",
            "showbackground": true,
            "ticks": "",
            "zerolinecolor": "white"
           }
          },
          "shapedefaults": {
           "line": {
            "color": "#2a3f5f"
           }
          },
          "ternary": {
           "aaxis": {
            "gridcolor": "white",
            "linecolor": "white",
            "ticks": ""
           },
           "baxis": {
            "gridcolor": "white",
            "linecolor": "white",
            "ticks": ""
           },
           "bgcolor": "#E5ECF6",
           "caxis": {
            "gridcolor": "white",
            "linecolor": "white",
            "ticks": ""
           }
          },
          "title": {
           "x": 0.05
          },
          "xaxis": {
           "automargin": true,
           "gridcolor": "white",
           "linecolor": "white",
           "ticks": "",
           "title": {
            "standoff": 15
           },
           "zerolinecolor": "white",
           "zerolinewidth": 2
          },
          "yaxis": {
           "automargin": true,
           "gridcolor": "white",
           "linecolor": "white",
           "ticks": "",
           "title": {
            "standoff": 15
           },
           "zerolinecolor": "white",
           "zerolinewidth": 2
          }
         }
        },
        "title": {
         "text": "Average Difference in Cost per Prescription by State"
        }
       }
      }
     },
     "metadata": {},
     "output_type": "display_data"
    }
   ],
   "source": [
    "base = base_query(28)\n",
    "base_data = fetch_data(base)\n",
    "state_data = aggregate_data(base_data, \"state\").collect()\n",
    "\n",
    "def map_fig(data):\n",
    "    fig = px.choropleth(\n",
    "        state_data,\n",
    "        locations=\"state\",\n",
    "        locationmode=\"USA-states\",\n",
    "        color=\"diff_per_rx\",\n",
    "        hover_name=\"state\",\n",
    "        title=\"Average Difference in Cost per Prescription by State\",\n",
    "        scope=\"usa\",\n",
    "    )\n",
    "\n",
    "    return fig\n",
    "\n"
   ]
  },
  {
   "cell_type": "code",
   "execution_count": null,
   "id": "0fbcec5d",
   "metadata": {},
   "outputs": [],
   "source": [
    "def fetch_data(date_id: int, state_filter: str, group_by_col: list[str], **kwargs) -> pl.LazyFrame:\n",
    "    # add context for group_by_col to be either 'product' or 'product_group'\n",
    "    # if group_by_col not in ['product', 'product_group']:\n",
    "    #     raise ValueError(\"group_by_col must be either 'product' or 'product_group'\")\n",
    "\n",
    "    unit_price_change = (c.unit_price - c.previous_unit_price).alias('unit_price_change')\n",
    "    new_nadac = (c.unit_price * c.units).round(2).alias('new_nadac')\n",
    "    old_nadac = (c.previous_unit_price * c.units).round(2).alias('old_nadac')\n",
    "    total_diff = (new_nadac - old_nadac).alias('total_diff')\n",
    "    diff_per_rx = (c.total_diff / c.rx_count).round(2).alias('diff_per_rx')\n",
    "\n",
    "\n",
    "    # avg nadac change per unit\n",
    "    def avg_unit_change() -> pl.Expr:\n",
    "        return (c.avg_new_nadac - c.avg_old_nadac).round(2).alias('avg_unit_change')\n",
    "    \n",
    "    def classification()-> pl.Expr:\n",
    "        # when total_diff is less than 0, return 'Decrease', otherwise return 'Increase'\n",
    "        return pl.when(c.total_diff < 0).then(pl.lit('Decrease')).otherwise(pl.lit('Increase')).alias('classification')\n",
    "    # add absolut columns for charting\n",
    "    def abs_diff_col() -> pl.Expr:\n",
    "        return cs.matches('(?i)diff').abs().name.suffix('_abs')\n",
    "    \n",
    "    # calculate percent change from old nadac to new nadac\n",
    "    def percent_change() -> pl.Expr:\n",
    "        return ((c.new_nadac - c.old_nadac) / c.old_nadac).round(4).alias('percent_change')    \n",
    "\n",
    "    avg_new_nadac = (c.new_nadac / c.units).round(4).alias('avg_new_nadac')\n",
    "    avg_old_nadac = (c.old_nadac / c.units).round(4).alias('avg_old_nadac')\n",
    "    \n",
    "    sdud = load_sdud().filter(c.state == state_filter)\n",
    "    nadac = load_nadac().filter(c.date_id == date_id)\n",
    "\n",
    "    data = sdud.join(nadac, on='ndc').with_columns(unit_price_change.round(4),new_nadac, old_nadac).with_columns((c.new_nadac - c.old_nadac).alias('total_diff'))\n",
    "    data = data.join(load_medispan().select(c.ndc, c.generic_name.alias('product'), c.gpi_10_generic_name.alias('product_group')), on='ndc')\n",
    "\n",
    "    \n",
    "    if kwargs.get('product_group_filter'):\n",
    "        data = data.filter(c.product_group == kwargs['product_group_filter'])\n",
    "    \n",
    "    data = (\n",
    "        data\n",
    "        .group_by(group_by_col)\n",
    "        .agg(pl.col(['units','rx_count','total_diff', 'new_nadac', 'old_nadac']).sum())\n",
    "        .with_columns(avg_new_nadac, avg_old_nadac)\n",
    "        .with_columns(diff_per_rx)\n",
    "        .with_columns(abs_diff_col(), classification(), avg_unit_change(), percent_change())\n",
    "    )\n",
    "    return data"
   ]
  },
  {
   "cell_type": "code",
   "execution_count": 2,
   "id": "92c86d05",
   "metadata": {},
   "outputs": [
    {
     "data": {
      "application/vnd.plotly.v1+json": {
       "config": {
        "plotlyServerURL": "https://plot.ly"
       },
       "data": [
        {
         "customdata": [
          [
           "Exemestane",
           "Decrease",
           -0.02,
           1.0328,
           1.0519,
           -31546,
           -0.77,
           40904,
           1658851,
           -0.0181
          ],
          [
           "Silodosin",
           "Decrease",
           -0.22,
           0.5337,
           0.7501,
           -82787,
           -8.29,
           9982,
           382572,
           -0.2885
          ],
          [
           "Terbinafine",
           "Decrease",
           0,
           0.1576,
           0.1556,
           -141148,
           -0.35,
           406250,
           12457344.56640625,
           0.0131
          ],
          [
           "Pravastatin",
           "Decrease",
           -0.02,
           0.0836,
           0.1046,
           -819738,
           -1.02,
           807346,
           39057916.5,
           -0.2006
          ],
          [
           "Rifampin",
           "Increase",
           0.03,
           0.6969,
           0.6679,
           142528,
           1.74,
           81945,
           4912822.162200928,
           0.0434
          ],
          [
           "Midodrine",
           "Decrease",
           -0.05,
           0.2982,
           0.3532,
           -1195034,
           -4.51,
           265100,
           21715956.475097656,
           -0.1558
          ],
          [
           "Vancomycin",
           "Decrease",
           -0.45,
           1.7166,
           2.1671,
           -536389,
           -18.56,
           28895,
           1190783.2196655273,
           -0.2079
          ],
          [
           "Rizatriptan",
           "Decrease",
           -0.2,
           0.6077,
           0.8092,
           -1559964,
           -2.01,
           777507,
           7742849.099609375,
           -0.249
          ],
          [
           "Hydralazine",
           "Decrease",
           0,
           0.0515,
           0.0552,
           -255536,
           -0.39,
           649101,
           69270808.45458984,
           -0.0668
          ],
          [
           "Sumatriptan",
           "Decrease",
           -0.07,
           0.479,
           0.5494,
           -1051101,
           -0.68,
           1537481,
           14913365.127197266,
           -0.1283
          ],
          [
           "Indapamide",
           "Decrease",
           0,
           0.1322,
           0.1322,
           -56,
           0,
           35806,
           1713622.5,
           -0.0003
          ],
          [
           "Nonsteroidal Anti-inflammatory Agent Combination - 2 Ingred",
           "Increase",
           0.62,
           3.489,
           2.8667,
           121545,
           14.23,
           8539,
           600030,
           0.2171
          ],
          [
           "Progesterone",
           "Increase",
           0,
           0.349,
           0.346,
           64848,
           0.12,
           527461,
           21635848.609375,
           0.0087
          ],
          [
           "Propylthiouracil",
           "Decrease",
           -0.08,
           0.4311,
           0.5116,
           -160824,
           -8.92,
           18038,
           1998311,
           -0.1573
          ],
          [
           "Celecoxib",
           "Decrease",
           -0.03,
           0.113,
           0.1397,
           -1537365,
           -1.36,
           1127544,
           55007581.165527344,
           -0.1913
          ],
          [
           "Almotriptan",
           "Decrease",
           -2.67,
           17.569,
           20.237,
           -84208,
           -26.36,
           3194,
           31562,
           -0.1318
          ],
          [
           "Tamsulosin",
           "Decrease",
           -0.01,
           0.0574,
           0.0687,
           -1066096,
           -0.52,
           2045830,
           94302765.21626282,
           -0.1646
          ],
          [
           "Piroxicam",
           "Decrease",
           -0.01,
           0.4021,
           0.417,
           -5774,
           -0.55,
           10488,
           385930.56005859375,
           -0.0359
          ],
          [
           "Tramadol Combination - Two Ingredient",
           "Increase",
           0.01,
           0.1288,
           0.1153,
           9002,
           0.52,
           17332,
           669130,
           0.1167
          ],
          [
           "Propranolol",
           "Decrease",
           -0.02,
           0.1063,
           0.1252,
           -3613403,
           -1.35,
           2673847,
           191133832.42321777,
           -0.151
          ],
          [
           "Doxycycline",
           "Decrease",
           -0.02,
           0.1752,
           0.1963,
           -1874544,
           -0.52,
           3603754,
           89094526.83578491,
           -0.1072
          ],
          [
           "Minocycline",
           "Decrease",
           -0.04,
           0.3286,
           0.3683,
           -540269,
           -1.8,
           300149,
           13599595.907226562,
           -0.1079
          ],
          [
           "Citrates",
           "Decrease",
           -0.08,
           0.2959,
           0.3737,
           -682266,
           -7.52,
           90720,
           8655098.03125,
           -0.208
          ],
          [
           "Diphenoxylate",
           "Decrease",
           -0.03,
           0.1713,
           0.1986,
           -188063,
           -1.75,
           107523,
           6895215,
           -0.1373
          ],
          [
           "Phenazopyridine HCl",
           "Decrease",
           -0.17,
           0.2299,
           0.4006,
           -897135,
           -1.8,
           498240,
           5255351.429443359,
           -0.4261
          ],
          [
           "Bupropion",
           "Decrease",
           -0.02,
           0.1676,
           0.1864,
           -4428851,
           -0.84,
           5272150,
           235715184.8951378,
           -0.1008
          ],
          [
           "Anticholinergic Combination - Two Ingredient",
           "Decrease",
           -0.08,
           0.3148,
           0.3907,
           -21692,
           -5.94,
           3650,
           285821,
           -0.1943
          ],
          [
           "Cefuroxime",
           "Decrease",
           -0.08,
           0.4598,
           0.5386,
           -311005,
           -1.32,
           236286,
           3945918.2001953125,
           -0.1463
          ],
          [
           "Isoniazid",
           "Decrease",
           0,
           0.19,
           0.1934,
           -4570,
           -0.11,
           39771,
           1353921.25,
           -0.0175
          ],
          [
           "Sirolimus",
           "Decrease",
           -0.97,
           4.0779,
           5.0521,
           -2087124,
           -63.96,
           32633,
           2142487,
           -0.1928
          ],
          [
           "Antimalarial Combination - Two Ingredient",
           "Increase",
           0.25,
           2.3678,
           2.1154,
           301001,
           9.52,
           31623,
           1192668.5,
           0.1193
          ],
          [
           "Amphetamine",
           "Decrease",
           -1.13,
           0.701,
           1.8345,
           -348612,
           -75.83,
           4597,
           307541,
           -0.6179
          ],
          [
           "Fludrocortisone",
           "Decrease",
           -0.04,
           0.4279,
           0.4663,
           -269720,
           -1.77,
           152647,
           7016197.90625,
           -0.0824
          ],
          [
           "Metolazone",
           "Decrease",
           -0.08,
           0.4971,
           0.577,
           -136732,
           -2.13,
           64202,
           1711065.2890625,
           -0.1385
          ],
          [
           "Isosorbide Dinitrate",
           "Decrease",
           -0.02,
           0.3378,
           0.3595,
           -169110,
           -2.05,
           82470,
           7806995.5,
           -0.0603
          ],
          [
           "Benazepril",
           "Decrease",
           0,
           0.082,
           0.0845,
           -32438,
           -0.15,
           214979,
           13050081.5,
           -0.0294
          ],
          [
           "Linezolid",
           "Increase",
           0.03,
           1.8651,
           1.8312,
           23853,
           0.69,
           34542,
           703263.192199707,
           0.0185
          ],
          [
           "Dexlansoprazole",
           "Increase",
           1.41,
           7.0591,
           5.65,
           5718056,
           54.7,
           104530,
           4057910.109375,
           0.2494
          ],
          [
           "Platelet Aggregation Inhibitor Combination - Two Ingredient",
           "Decrease",
           -0.26,
           0.7984,
           1.0547,
           -70952,
           -18.02,
           3938,
           276808,
           -0.243
          ],
          [
           "Choline Fenofibrate",
           "Decrease",
           -0.08,
           0.4633,
           0.5413,
           -34825,
           -3.41,
           10199,
           446626,
           -0.1441
          ],
          [
           "Ciprofloxacin",
           "Decrease",
           -0.01,
           0.1477,
           0.1538,
           -66197,
           -0.09,
           711299,
           10708919.100250244,
           -0.0402
          ],
          [
           "Methazolamide",
           "Decrease",
           -1.84,
           2.3262,
           4.1661,
           -375547,
           -144.94,
           2591,
           204115.5,
           -0.4416
          ],
          [
           "Betaxolol",
           "Decrease",
           -0.06,
           0.5423,
           0.6017,
           -2179,
           -2.96,
           736,
           36691,
           -0.0987
          ],
          [
           "Protriptyline",
           "Decrease",
           0.43,
           3.0857,
           2.655,
           -15613,
           -10.18,
           1533,
           143203,
           0.1622
          ],
          [
           "Ziprasidone",
           "Decrease",
           -0.02,
           0.3401,
           0.3557,
           -386012,
           -0.78,
           497961,
           24711136.458491325,
           -0.0439
          ],
          [
           "Ramipril",
           "Decrease",
           0,
           0.0671,
           0.0715,
           -23548,
           -0.26,
           91778,
           5391026.06640625,
           -0.0611
          ],
          [
           "Bumetanide",
           "Decrease",
           -0.03,
           0.3095,
           0.3388,
           -514366,
           -1.82,
           283055,
           17577510.65234375,
           -0.0864
          ],
          [
           "Acetazolamide",
           "Decrease",
           -0.2,
           0.2722,
           0.4736,
           -2492775,
           -17.03,
           146358,
           12376016.66381836,
           -0.4253
          ],
          [
           "Fenofibrate",
           "Decrease",
           -0.06,
           0.1684,
           0.224,
           -2788701,
           -2.46,
           1133245,
           50095194.296875,
           -0.2485
          ],
          [
           "Levetiracetam",
           "Decrease",
           -0.02,
           0.1449,
           0.1692,
           -4274780,
           -2.26,
           1889247,
           175365665.58200836,
           -0.144
          ],
          [
           "Ketoconazole",
           "Decrease",
           -0.1,
           0.7369,
           0.8389,
           -19733,
           -2.05,
           9608,
           193413.1005859375,
           -0.1216
          ],
          [
           "Angiotensin II Receptor Ant-Ca Channel Blocker-Thiazides",
           "Increase",
           0.05,
           1.6364,
           1.5834,
           25506,
           2.2,
           11579,
           480684,
           0.0335
          ],
          [
           "Quinine",
           "Decrease",
           -0.01,
           1.5405,
           1.5554,
           -581,
           -0.59,
           978,
           38817,
           -0.0096
          ],
          [
           "Norethindrone (Contraceptive)",
           "Decrease",
           0,
           0.1595,
           0.1603,
           -38098,
           -0.04,
           911654,
           47548068.44555664,
           -0.005
          ],
          [
           "Indomethacin",
           "Decrease",
           -0.01,
           0.1224,
           0.1297,
           -58544,
           -0.34,
           170207,
           7995054.65625,
           -0.0565
          ],
          [
           "Pramipexole",
           "Increase",
           0,
           0.0617,
           0.0587,
           41431,
           0.18,
           225098,
           13794592,
           0.0512
          ],
          [
           "Acarbose",
           "Decrease",
           0,
           0.2184,
           0.221,
           -13546,
           -0.29,
           45925,
           5285550.5,
           -0.0116
          ],
          [
           "Flavoxate",
           "Increase",
           0.08,
           0.8116,
           0.7319,
           5688,
           5.38,
           1057,
           71463,
           0.1088
          ],
          [
           "Chlordiazepoxide",
           "Increase",
           0.08,
           0.1573,
           0.0757,
           179738,
           1.65,
           109101,
           2686368.610961914,
           1.0785
          ],
          [
           "Levothyroxine",
           "Decrease",
           -0.07,
           0.1293,
           0.2012,
           -25077026,
           -3.42,
           7330073,
           348340285.97932816,
           -0.3575
          ],
          [
           "Duloxetine",
           "Decrease",
           -0.03,
           0.1313,
           0.1575,
           -5481122,
           -1.26,
           4345603,
           209396559.46136665,
           -0.1661
          ],
          [
           "Bromocriptine",
           "Decrease",
           -0.26,
           1.7392,
           2.0037,
           -303894,
           -17.63,
           17237,
           1148992.75,
           -0.132
          ],
          [
           "Eletriptan",
           "Decrease",
           -1.54,
           3.4967,
           5.036,
           -490025,
           -14.02,
           34946,
           318347,
           -0.3057
          ],
          [
           "Potassium Chloride",
           "Decrease",
           0,
           0.159,
           0.1604,
           -840382,
           -0.65,
           1300995,
           65570081.59375,
           -0.0089
          ],
          [
           "Clozapine",
           "Increase",
           0.06,
           0.7133,
           0.6556,
           1725345,
           2.92,
           590087,
           29931442.8125,
           0.0879
          ],
          [
           "Atazanavir",
           "Decrease",
           -1.63,
           3.4834,
           5.1095,
           -159479,
           -55.34,
           2882,
           98078,
           -0.3182
          ],
          [
           "Olmesartan",
           "Decrease",
           -0.02,
           0.1021,
           0.12,
           -264468,
           -0.9,
           294711,
           14757842,
           -0.1493
          ],
          [
           "Diuretic Combination - Two Ingredient",
           "Decrease",
           0,
           0.1759,
           0.1798,
           -50492,
           -0.19,
           263717,
           12849678.716217041,
           -0.0219
          ],
          [
           "Diclofenac",
           "Decrease",
           -0.01,
           0.1329,
           0.1459,
           -1080517,
           -0.87,
           1241956,
           66411619.828125,
           -0.0891
          ],
          [
           "Selective Serotonin Agonist-NSAID Combination -2 Ingredient",
           "Decrease",
           -16.68,
           18.9969,
           35.6731,
           -220442,
           -180.1,
           1224,
           13219,
           -0.4675
          ],
          [
           "Voriconazole",
           "Decrease",
           -1.05,
           1.8873,
           2.9381,
           -410840,
           -59.78,
           6872,
           390969.6669921875,
           -0.3577
          ],
          [
           "Atenolol",
           "Increase",
           0,
           0.0283,
           0.0271,
           62079,
           0.07,
           903035,
           51840364.18722534,
           0.0442
          ],
          [
           "Dapsone",
           "Increase",
           0.12,
           0.8501,
           0.7287,
           112165,
           5.27,
           21284,
           923636.32421875,
           0.1667
          ],
          [
           "Theophylline",
           "Decrease",
           -0.21,
           1.8897,
           2.0983,
           -184287,
           -10.08,
           18275,
           883285.5,
           -0.0994
          ],
          [
           "Antiemetic Combination - Two Ingredient",
           "Decrease",
           -0.98,
           2.1918,
           3.1674,
           -1310680,
           -60.84,
           21542,
           1343382.109375,
           -0.308
          ],
          [
           "Biphasic Contraceptives - Oral Two Ingredient",
           "Decrease",
           -0.16,
           0.2549,
           0.4121,
           -530255,
           -8.48,
           62501,
           3356135.177734375,
           -0.3814
          ],
          [
           "Omeprazole",
           "Decrease",
           0,
           0.0468,
           0.0485,
           -687915,
           -0.08,
           9085849,
           403935216.0935669,
           -0.0351
          ],
          [
           "Carbamazepine",
           "Decrease",
           -0.06,
           0.454,
           0.515,
           -2714424,
           -6.27,
           432833,
           44533513.865600586,
           -0.1184
          ],
          [
           "Acyclovir",
           "Increase",
           0.01,
           0.115,
           0.1086,
           205010,
           0.3,
           684260,
           32408289.892333984,
           0.0582
          ],
          [
           "Leucovorin",
           "Increase",
           0.65,
           3.0889,
           2.4357,
           1003502,
           26.6,
           37732,
           1536248.9255371094,
           0.2682
          ],
          [
           "Asenapine",
           "Decrease",
           -0.16,
           2.9492,
           3.1053,
           -246213,
           -7.22,
           34110,
           1576743.5,
           -0.0503
          ],
          [
           "Orphenadrine",
           "Increase",
           0.16,
           0.489,
           0.3248,
           377321,
           5.8,
           65059,
           2298056.958984375,
           0.5055
          ],
          [
           "Baclofen",
           "Decrease",
           -0.01,
           0.0839,
           0.0902,
           -2119101,
           -0.98,
           2159008,
           168404487.95239258,
           -0.0695
          ],
          [
           "Hydroxyzine",
           "Decrease",
           0,
           0.0716,
           0.0744,
           -1245917,
           -0.17,
           7197873,
           436699379.05218506,
           -0.0383
          ],
          [
           "Cefprozil",
           "Increase",
           0.07,
           0.954,
           0.8847,
           28087,
           1.3,
           21609,
           405148,
           0.0784
          ],
          [
           "Torsemide",
           "Decrease",
           -0.01,
           0.0893,
           0.0946,
           -103665,
           -0.39,
           269110,
           19586822.5625,
           -0.056
          ],
          [
           "Entacapone",
           "Decrease",
           -0.16,
           0.413,
           0.5702,
           -121911,
           -19.86,
           6139,
           775425,
           -0.2757
          ],
          [
           "Alprazolam",
           "Decrease",
           0,
           0.028,
           0.0297,
           -296238,
           -0.1,
           3103823,
           171861071.0625,
           -0.058
          ],
          [
           "Rosuvastatin",
           "Decrease",
           -0.01,
           0.0761,
           0.0829,
           -1130492,
           -0.36,
           3151371,
           157045888.33000183,
           -0.0831
          ],
          [
           "Entecavir",
           "Decrease",
           -0.56,
           0.5669,
           1.1259,
           -1260446,
           -21.03,
           59947,
           2254770,
           -0.4965
          ],
          [
           "Glycopyrrolate",
           "Decrease",
           -0.08,
           0.1421,
           0.221,
           -1437139,
           -6.03,
           238260,
           18211488.583984375,
           -0.3571
          ],
          [
           "Codeine Combination - Two Ingredient",
           "Increase",
           0.07,
           0.2153,
           0.1416,
           1529079,
           2.42,
           630920,
           20762293.90625,
           0.52
          ],
          [
           "Captopril",
           "Decrease",
           -0.08,
           0.4377,
           0.5177,
           -64250,
           -6.02,
           10669,
           803199.5242385864,
           -0.1545
          ],
          [
           "Prednisone",
           "Decrease",
           -0.01,
           0.0909,
           0.0976,
           -813772,
           -0.15,
           5590748,
           108590824.9142456,
           -0.0683
          ],
          [
           "Desloratadine",
           "Decrease",
           -0.03,
           0.328,
           0.362,
           -22523,
           -1.21,
           18543,
           662365,
           -0.0939
          ],
          [
           "Divalproex",
           "Decrease",
           -0.05,
           0.1662,
           0.2199,
           -12500432,
           -4.31,
           2902871,
           232488393.6328125,
           -0.2445
          ],
          [
           "Sulfonylurea-Biguanide Combination - Two Ingredient",
           "Decrease",
           0,
           0.1888,
           0.1934,
           -32688,
           -0.56,
           58481,
           7065747,
           -0.0239
          ],
          [
           "Lovastatin",
           "Decrease",
           -0.01,
           0.0521,
           0.0599,
           -77409,
           -0.4,
           195411,
           9969259.50390625,
           -0.1296
          ],
          [
           "B-Complex w/ Vitamin C & Folic Acid",
           "Increase",
           0.03,
           0.1834,
           0.1486,
           40141,
           1.2,
           33353,
           1152860,
           0.2343
          ],
          [
           "Levodopa Combination - Two Ingredient",
           "Increase",
           0.02,
           0.1333,
           0.1157,
           273821,
           2.22,
           123252,
           15588075.633239746,
           0.1519
          ],
          [
           "Ondansetron",
           "Decrease",
           -0.02,
           0.1611,
           0.1809,
           -3707426,
           -0.42,
           8863353,
           180160783.229187,
           -0.1097
          ],
          [
           "Albendazole",
           "Decrease",
           -5.66,
           5.8543,
           11.5159,
           -1535019,
           -33.9,
           45276,
           271127.97900390625,
           -0.4916
          ],
          [
           "Guanfacine",
           "Increase",
           0.04,
           0.3095,
           0.2739,
           589664,
           0.16,
           3610901,
           137870148.43164062,
           0.1303
          ],
          [
           "Valproic Acid",
           "Decrease",
           -0.01,
           0.2161,
           0.2238,
           -56391,
           -0.98,
           57284,
           7299486.109375,
           -0.0345
          ],
          [
           "Triphasic Contraceptives - Oral Two Ingredient",
           "Decrease",
           -0.02,
           0.1613,
           0.1791,
           -656767,
           -0.86,
           764304,
           36862352.63769531,
           -0.0995
          ],
          [
           "Vilazodone",
           "Increase",
           0.41,
           1.6054,
           1.1974,
           73056,
           0.69,
           106006,
           3514841.25,
           0.3408
          ],
          [
           "Erythromycin Base",
           "Decrease",
           -0.6,
           4.3633,
           4.9639,
           -558572,
           -57.75,
           9673,
           591703.75,
           -0.121
          ],
          [
           "Prostatic Hypertrophy Agent Combination - Two Ingredient",
           "Decrease",
           -0.47,
           1.8573,
           2.3272,
           -25222,
           -21.82,
           1156,
           53677,
           -0.2019
          ],
          [
           "Pyridostigmine",
           "Decrease",
           -0.05,
           0.5403,
           0.5864,
           -253166,
           -5.54,
           45739,
           5494874.234375,
           -0.0786
          ],
          [
           "Ketorolac",
           "Decrease",
           -0.09,
           0.6566,
           0.7499,
           -253948,
           -1.53,
           165965,
           2721613.5,
           -0.1244
          ],
          [
           "Diethylpropion",
           "Increase",
           0.11,
           0.7425,
           0.6316,
           3932,
           4.44,
           886,
           35479,
           0.1756
          ],
          [
           "Modafinil",
           "Decrease",
           -0.05,
           0.5048,
           0.5508,
           -226939,
           -1.97,
           115416,
           4548811.443359375,
           -0.0835
          ],
          [
           "Clomipramine",
           "Decrease",
           -0.35,
           0.3756,
           0.723,
           -1484776,
           -21.09,
           70393,
           4129345.8803710938,
           -0.4805
          ],
          [
           "Telmisartan",
           "Decrease",
           -0.07,
           0.2611,
           0.3347,
           -331531,
           -3.73,
           88975,
           4502983.5,
           -0.22
          ],
          [
           "Pindolol",
           "Increase",
           0.01,
           0.7609,
           0.7515,
           2167,
           0.65,
           3312,
           229984,
           0.0125
          ],
          [
           "Icosapent",
           "Increase",
           0.63,
           1.5882,
           0.9536,
           9069720,
           89.9,
           100885,
           14292231,
           0.6655
          ],
          [
           "Imipramine",
           "Decrease",
           0.01,
           0.1156,
           0.1066,
           -21437,
           -0.29,
           74379,
           3945902,
           0.0846
          ],
          [
           "Cyproheptadine",
           "Decrease",
           -0.06,
           0.0915,
           0.1479,
           -1621578,
           -2.87,
           564471,
           28259171.974609375,
           -0.3812
          ],
          [
           "Sotalol",
           "Decrease",
           -0.01,
           0.0853,
           0.0918,
           -59010,
           -1.05,
           55983,
           4809093.822265625,
           -0.0708
          ],
          [
           "Prenatal Vitamins w/ Ferrous Fumarate-Folic Acid",
           "Increase",
           0.01,
           0.1312,
           0.1221,
           195783,
           0.37,
           526188,
           21496436.125,
           0.0746
          ],
          [
           "Cyclobenzaprine",
           "Decrease",
           0,
           0.0241,
           0.0267,
           -654272,
           -0.14,
           4729310,
           203117794.625,
           -0.0974
          ],
          [
           "Clobazam",
           "Decrease",
           -0.03,
           0.4605,
           0.4934,
           -592821,
           -2.15,
           275916,
           17977439.2265625,
           -0.0668
          ],
          [
           "Colesevelam",
           "Increase",
           0.04,
           0.4108,
           0.3661,
           120676,
           6.62,
           18237,
           2701603,
           0.122
          ],
          [
           "Nebivolol",
           "Increase",
           0.02,
           0.2458,
           0.2294,
           21324,
           0.26,
           82292,
           3831763.1108398438,
           0.0718
          ],
          [
           "Phenobarbital",
           "Decrease",
           -0.08,
           0.2301,
           0.3129,
           -873912,
           -5.74,
           152296,
           9766126.555297852,
           -0.2648
          ],
          [
           "Cabergoline",
           "Decrease",
           -0.56,
           1.9016,
           2.4569,
           -403721,
           -5.37,
           75126,
           727002.439453125,
           -0.226
          ],
          [
           "Itraconazole",
           "Decrease",
           -0.63,
           0.9718,
           1.6011,
           -663742,
           -35.75,
           18565,
           1054754.0673828125,
           -0.393
          ],
          [
           "Furosemide",
           "Increase",
           0,
           0.0322,
           0.0315,
           106664,
           0.04,
           2989333,
           145552253.51257324,
           0.0233
          ],
          [
           "Levocarnitine",
           "Increase",
           0.15,
           0.8432,
           0.6896,
           486217,
           17.53,
           27740,
           3164245.75,
           0.2228
          ],
          [
           "Triphasic Contraceptives - Oral Three Ingredient",
           "Decrease",
           -0.14,
           0.926,
           1.0683,
           -60300,
           -7.16,
           8425,
           423725.9892578125,
           -0.1332
          ],
          [
           "Roflumilast",
           "Decrease",
           -0.2,
           0.8175,
           1.0181,
           -181789,
           -6.74,
           26974,
           906135,
           -0.1971
          ],
          [
           "Prenatal without A w/ Fe Fumarate-L Methylfolate-FA-DHA",
           "Increase",
           0.01,
           1.0495,
           1.0385,
           10951,
           0.52,
           21135,
           992575,
           0.0106
          ],
          [
           "Bisoprolol",
           "Increase",
           0.01,
           0.3324,
           0.3244,
           43552,
           0.41,
           107070,
           5395709.25,
           0.0249
          ],
          [
           "Carvedilol",
           "Decrease",
           0,
           0.0327,
           0.0351,
           -501728,
           -0.21,
           2353215,
           217294000.46158028,
           -0.0659
          ],
          [
           "Venlafaxine",
           "Decrease",
           -0.02,
           0.1636,
           0.1861,
           -2907606,
           -1.22,
           2387168,
           105934663.02323532,
           -0.1209
          ],
          [
           "Paricalcitol",
           "Decrease",
           -0.01,
           1.0046,
           1.0176,
           -633,
           -0.4,
           1590,
           48622,
           -0.0128
          ],
          [
           "Nifedipine",
           "Decrease",
           -0.06,
           0.1748,
           0.2377,
           -3413277,
           -3.13,
           1091585,
           54283854.08700943,
           -0.2646
          ],
          [
           "Sildenafil",
           "Decrease",
           -0.02,
           0.0689,
           0.0851,
           -79488,
           -1.37,
           58230,
           4924329.993759155,
           -0.1898
          ],
          [
           "Combination Contraceptives - Oral Two Ingredient",
           "Decrease",
           -0.05,
           0.2221,
           0.2677,
           -7476774,
           -2.39,
           3126687,
           163921105.5093994,
           -0.1704
          ],
          [
           "Cilostazol",
           "Decrease",
           -0.01,
           0.1238,
           0.1294,
           -38275,
           -0.38,
           101309,
           6937953,
           -0.0426
          ],
          [
           "Digoxin",
           "Increase",
           0.01,
           0.2124,
           0.2041,
           46531,
           0.35,
           132785,
           5573862.515625,
           0.0409
          ],
          [
           "Hydrocortisone",
           "Increase",
           0,
           0.2326,
           0.2315,
           16924,
           0.1,
           166043,
           15508313.008544922,
           0.0047
          ],
          [
           "Ivermectin",
           "Decrease",
           -0.15,
           3.5696,
           3.7187,
           -48773,
           -1.32,
           36933,
           327187.80078125,
           -0.0401
          ],
          [
           "Cephalexin",
           "Decrease",
           -0.01,
           0.1107,
           0.1218,
           -820627,
           -0.27,
           3082581,
           73676133.47460938,
           -0.0914
          ],
          [
           "Lanthanum",
           "Increase",
           3.58,
           7.1981,
           3.6222,
           8689,
           334.19,
           26,
           2430,
           0.9872
          ],
          [
           "Medroxyprogesterone",
           "Increase",
           0,
           0.1385,
           0.134,
           47994,
           0.12,
           384906,
           10736350.484375,
           0.0334
          ],
          [
           "Liothyronine",
           "Decrease",
           -0.03,
           0.3247,
           0.3522,
           -230554,
           -1.76,
           131363,
           8391076,
           -0.078
          ],
          [
           "Moxifloxacin",
           "Decrease",
           -0.24,
           1.3543,
           1.5961,
           -58045,
           -2.12,
           27329,
           240068.68995666504,
           -0.1515
          ],
          [
           "Cyclosporine",
           "Decrease",
           -0.15,
           0.7097,
           0.8592,
           -354556,
           -17.88,
           19831,
           2371850,
           -0.174
          ],
          [
           "Ranolazine",
           "Decrease",
           -0.04,
           0.2622,
           0.3055,
           -441110,
           -3.52,
           125450,
           10199478,
           -0.1416
          ],
          [
           "Zonisamide",
           "Decrease",
           -0.01,
           0.1093,
           0.119,
           -418120,
           -1.09,
           385097,
           43138241.048828125,
           -0.0814
          ],
          [
           "Azithromycin",
           "Decrease",
           -0.14,
           0.3836,
           0.5187,
           -2738524,
           -0.8,
           3425600,
           20272610.76863098,
           -0.2604
          ],
          [
           "Amoxicillin",
           "Decrease",
           0,
           0.0908,
           0.0915,
           -89047,
           -0.02,
           5783021,
           130050886.4609375,
           -0.0075
          ],
          [
           "Ethambutol",
           "Decrease",
           -0.12,
           0.5438,
           0.6608,
           -85751,
           -7.86,
           10903,
           732899.6999511719,
           -0.1771
          ],
          [
           "Meclizine",
           "Decrease",
           -0.01,
           0.0986,
           0.1098,
           -331237,
           -0.5,
           656891,
           29368706.375,
           -0.1027
          ],
          [
           "Riluzole",
           "Increase",
           0.01,
           0.4593,
           0.4499,
           5223,
           0.61,
           8547,
           555574,
           0.0209
          ],
          [
           "Misoprostol",
           "Decrease",
           -0.02,
           0.6593,
           0.6806,
           -27454,
           -0.18,
           153086,
           1284388.778503418,
           -0.0314
          ],
          [
           "Folic Acid",
           "Increase",
           0,
           0.0286,
           0.0278,
           100253,
           0.03,
           3090122,
           124123764.09570312,
           0.0291
          ],
          [
           "Clonazepam",
           "Decrease",
           0,
           0.0637,
           0.0665,
           -317876,
           -0.16,
           2016271,
           105895498.82373047,
           -0.0414
          ],
          [
           "Norethindrone",
           "Decrease",
           -0.04,
           0.3343,
           0.3773,
           -534722,
           -2.16,
           248013,
           12436746,
           -0.114
          ],
          [
           "Warfarin",
           "Decrease",
           -0.01,
           0.0986,
           0.109,
           -265362,
           -0.51,
           519874,
           25406814.656835556,
           -0.0958
          ],
          [
           "Rasagiline",
           "Decrease",
           -0.24,
           1.5508,
           1.7896,
           -29746,
           -10.56,
           2816,
           124586.5,
           -0.1334
          ],
          [
           "Thyroid",
           "Increase",
           0.08,
           0.8009,
           0.7221,
           350790,
           3.58,
           98104,
           4454113,
           0.1091
          ],
          [
           "Fosinopril",
           "Decrease",
           -0.02,
           0.1728,
           0.189,
           -6619,
           -0.84,
           7923,
           409225,
           -0.0856
          ],
          [
           "Ibandronate",
           "Decrease",
           -1.13,
           4.09,
           5.2231,
           -49409,
           -1.87,
           26391,
           41578,
           -0.2169
          ],
          [
           "Gabapentin",
           "Decrease",
           0,
           0.0631,
           0.0667,
           -3815270,
           -0.34,
           11259531,
           1035822770.8449707,
           -0.0552
          ],
          [
           "Eplerenone",
           "Decrease",
           -0.03,
           0.7348,
           0.76,
           -63851,
           -1.45,
           44114,
           2356580,
           -0.0332
          ],
          [
           "Cinacalcet",
           "Decrease",
           -3.88,
           0.5184,
           4.4011,
           -15166433,
           -65.88,
           230229,
           3906110.4364800453,
           -0.8822
          ],
          [
           "Bethanechol",
           "Decrease",
           0,
           0.2726,
           0.2772,
           -12931,
           -0.38,
           34006,
           2821724.1581497192,
           -0.0165
          ],
          [
           "Anti-infective Misc. Combination - Two Ingredient",
           "Decrease",
           0,
           0.0625,
           0.0639,
           -50962,
           -0.02,
           2053988,
           35876201.98339844,
           -0.0222
          ],
          [
           "Abacavir",
           "Decrease",
           -0.35,
           0.6411,
           0.9888,
           -78957,
           -20.73,
           3808,
           227088,
           -0.3517
          ],
          [
           "Megestrol",
           "Increase",
           0.01,
           0.1889,
           0.1837,
           17237,
           0.3,
           57386,
           3504482.5,
           0.0287
          ],
          [
           "Tranylcypromine",
           "Increase",
           0.01,
           0.8332,
           0.8246,
           2613,
           1.33,
           1971,
           303311.39990234375,
           0.0104
          ],
          [
           "Benzonatate",
           "Decrease",
           -0.01,
           0.0968,
           0.1097,
           -957964,
           -0.4,
           2391909,
           74222195.11279297,
           -0.1177
          ],
          [
           "Tinidazole",
           "Decrease",
           -0.06,
           2.554,
           2.6156,
           -10506,
           -0.55,
           19082,
           170576.04248046875,
           -0.0236
          ],
          [
           "Triazolam",
           "Decrease",
           -0.25,
           0.9015,
           1.1487,
           -65920,
           -2.46,
           26746,
           266768.5,
           -0.2151
          ],
          [
           "Labetalol",
           "Decrease",
           0,
           0.1551,
           0.1595,
           -310340,
           -0.54,
           574833,
           54850367.21606445,
           -0.0274
          ],
          [
           "Pregabalin",
           "Decrease",
           -0.03,
           0.0727,
           0.0979,
           -3530093,
           -1.93,
           1833081,
           127580588.07910919,
           -0.2576
          ],
          [
           "Loperamide",
           "Increase",
           0.04,
           0.2675,
           0.2266,
           390988,
           1.76,
           222475,
           9559182.017974854,
           0.1805
          ],
          [
           "Hydroxyurea",
           "Decrease",
           -0.04,
           0.2434,
           0.2798,
           -307257,
           -2.49,
           123596,
           8428242.779685974,
           -0.1303
          ],
          [
           "Glyburide",
           "Decrease",
           -0.01,
           0.0979,
           0.1037,
           -61820,
           -0.52,
           119242,
           10765237.4296875,
           -0.0554
          ],
          [
           "Sodium Fluoride",
           "Increase",
           0.01,
           0.0697,
           0.0563,
           50357,
           0.74,
           68133,
           3751241,
           0.2385
          ],
          [
           "Penicillin V",
           "Decrease",
           -0.02,
           0.0904,
           0.1066,
           -223723,
           -0.47,
           478616,
           13852760.5,
           -0.1516
          ],
          [
           "Dutasteride",
           "Decrease",
           -0.02,
           0.1869,
           0.2066,
           -33348,
           -0.86,
           38671,
           1696383.53125,
           -0.0952
          ],
          [
           "Losartan",
           "Decrease",
           -0.02,
           0.0553,
           0.0749,
           -5383922,
           -1.02,
           5299876,
           275498628.6484375,
           -0.2609
          ],
          [
           "Valganciclovir",
           "Decrease",
           -0.47,
           2.9762,
           3.4467,
           -608021,
           -25.16,
           24163,
           1292218,
           -0.1365
          ],
          [
           "Methocarbamol",
           "Decrease",
           -0.02,
           0.0468,
           0.0666,
           -2300115,
           -1.16,
           1989755,
           115796435.25,
           -0.2981
          ],
          [
           "Dronabinol",
           "Decrease",
           -0.35,
           2.4057,
           2.7604,
           -187468,
           -18.19,
           10304,
           528500.5,
           -0.1285
          ],
          [
           "Fluvoxamine",
           "Decrease",
           -0.14,
           0.6406,
           0.7846,
           -2468744,
           -7.59,
           325431,
           17147575.0390625,
           -0.1835
          ],
          [
           "Leflunomide",
           "Decrease",
           -0.2,
           0.4695,
           0.6659,
           -869067,
           -7.61,
           114239,
           4424918.5,
           -0.2949
          ],
          [
           "Lorazepam",
           "Decrease",
           0,
           0.0413,
           0.0417,
           -36086,
           -0.02,
           2044661,
           84738267.890625,
           -0.0102
          ],
          [
           "Abiraterone",
           "Increase",
           0.86,
           1.7045,
           0.8454,
           873618,
           69.2,
           12625,
           1407112,
           1.0163
          ],
          [
           "Amantadine",
           "Decrease",
           -0.21,
           0.451,
           0.6612,
           -3055735,
           -14.13,
           216207,
           14535909.580078125,
           -0.3179
          ],
          [
           "Amlodipine",
           "Increase",
           0,
           0.0149,
           0.0141,
           322896,
           0.04,
           8447914,
           427021450.3754883,
           0.0535
          ],
          [
           "Fluphenazine",
           "Decrease",
           -0.16,
           1.6952,
           1.8542,
           -1838238,
           -27.39,
           67124,
           3475573.5,
           -0.0857
          ],
          [
           "Dicyclomine",
           "Increase",
           0.01,
           0.1392,
           0.1243,
           423502,
           0.95,
           444644,
           28389472.908203125,
           0.1201
          ],
          [
           "Acebutolol",
           "Increase",
           0.17,
           0.7332,
           0.562,
           32354,
           6.37,
           5081,
           381990,
           0.3046
          ],
          [
           "Penicillin Combination - Two Ingredient",
           "Increase",
           0.01,
           0.3509,
           0.3422,
           530920,
           0.14,
           3751079,
           65319051.484375,
           0.0255
          ],
          [
           "Aliskiren",
           "Decrease",
           -0.46,
           5.2495,
           5.7121,
           -8541,
           -18.81,
           454,
           18467,
           -0.081
          ],
          [
           "Tamoxifen",
           "Decrease",
           -0.05,
           0.2916,
           0.3412,
           -255943,
           -2.13,
           120195,
           5164084.5,
           -0.1453
          ],
          [
           "Nadolol",
           "Decrease",
           -0.17,
           0.2745,
           0.4475,
           -743798,
           -10.4,
           71508,
           3600227.078918457,
           -0.3866
          ],
          [
           "Methadone",
           "Decrease",
           -0.01,
           0.1056,
           0.1204,
           -102556,
           -1.12,
           91472,
           6914285.91998291,
           -0.1232
          ],
          [
           "Risedronate",
           "Decrease",
           -0.93,
           5.2826,
           6.2118,
           -21389,
           -4.1,
           5220,
           23023,
           -0.1496
          ],
          [
           "Azathioprine",
           "Decrease",
           -0.06,
           0.1855,
           0.2472,
           -563817,
           -4.45,
           126647,
           9137059.09375,
           -0.2496
          ],
          [
           "Nortriptyline",
           "Decrease",
           -0.02,
           0.0905,
           0.1082,
           -453097,
           -1.01,
           449397,
           25125383.1953125,
           -0.1638
          ],
          [
           "Sertraline",
           "Decrease",
           -0.01,
           0.0771,
           0.0886,
           -4374657,
           -0.52,
           8355329,
           380125785.0544739,
           -0.1299
          ],
          [
           "Promethazine",
           "Decrease",
           0,
           0.0499,
           0.05,
           -5485,
           -0.01,
           940335,
           32360088.29537964,
           -0.0034
          ],
          [
           "Intest Cholest Absorp Inhib-HMG CoA Reduct Inhib Comb 2 Ing",
           "Decrease",
           -0.23,
           0.6381,
           0.8654,
           -53439,
           -9.89,
           5405,
           235148,
           -0.2626
          ],
          [
           "Antiretroviral Combination - Three Ingredient",
           "Increase",
           0.66,
           5.0466,
           4.3855,
           180313,
           23.65,
           7624,
           272741,
           0.1508
          ],
          [
           "Clonidine",
           "Decrease",
           -0.09,
           0.0628,
           0.1508,
           -22685566,
           -4.56,
           4979703,
           257857187.29382324,
           -0.5834
          ],
          [
           "Balsalazide",
           "Increase",
           0.21,
           0.422,
           0.2089,
           12863,
           1.12,
           11527,
           2685261,
           1.02
          ],
          [
           "Ursodiol",
           "Decrease",
           -0.15,
           0.6771,
           0.8258,
           -1715663,
           -11.88,
           144411,
           11537030.721191406,
           -0.1801
          ],
          [
           "Dabigatran",
           "Increase",
           4.24,
           6.4588,
           2.2174,
           1925881,
           272.48,
           7068,
           454066,
           1.9128
          ],
          [
           "Terazosin",
           "Decrease",
           -0.01,
           0.1438,
           0.158,
           -62358,
           -0.78,
           80162,
           4387244.2001953125,
           -0.09
          ],
          [
           "Armodafinil",
           "Decrease",
           -0.22,
           0.8556,
           1.0788,
           -274092,
           -7.12,
           38486,
           1228237.6110839844,
           -0.2069
          ],
          [
           "Granisetron",
           "Increase",
           0.06,
           2.2337,
           2.1722,
           3042,
           1.28,
           2377,
           61441.47772216797,
           0.0283
          ],
          [
           "Amiodarone",
           "Decrease",
           -0.04,
           0.208,
           0.2507,
           -419033,
           -1.97,
           212596,
           9820862.609863281,
           -0.1702
          ],
          [
           "Sevelamer",
           "Decrease",
           -0.07,
           0.2343,
           0.3051,
           -1443102,
           -14.87,
           97069,
           20380031,
           -0.2321
          ],
          [
           "Felbamate",
           "Decrease",
           0.4,
           1.3271,
           0.9316,
           -46718,
           -4.57,
           10216,
           1450841.900390625,
           0.4245
          ],
          [
           "Combination Contraceptives - Oral Three Ingredient",
           "Decrease",
           -0.1,
           0.2103,
           0.3059,
           -5812698,
           -5.02,
           1158611,
           60798711.802490234,
           -0.3126
          ],
          [
           "Prasugrel",
           "Decrease",
           -0.21,
           0.2943,
           0.5044,
           -668632,
           -9.23,
           72465,
           3181436,
           -0.4166
          ],
          [
           "Montelukast",
           "Decrease",
           -0.01,
           0.0653,
           0.0727,
           -1888756,
           -0.3,
           6254899,
           256852973.5275879,
           -0.1012
          ],
          [
           "Bicalutamide",
           "Increase",
           0,
           0.2901,
           0.2893,
           499,
           0.03,
           18933,
           660387,
           0.0026
          ],
          [
           "Lithium",
           "Decrease",
           0,
           0.1171,
           0.1181,
           -72158,
           -0.06,
           1119490,
           72910847.625,
           -0.0084
          ],
          [
           "Verapamil",
           "Decrease",
           -0.01,
           0.3994,
           0.4111,
           -157241,
           -0.71,
           222223,
           13416519.447814941,
           -0.0285
          ],
          [
           "Angiotensin II Recept Antag & Ca Chan Block Comb - 2 Ingred",
           "Decrease",
           -0.02,
           0.5003,
           0.5211,
           -123217,
           -1.01,
           121936,
           5929636,
           -0.0399
          ],
          [
           "Spironolactone",
           "Decrease",
           -0.01,
           0.0978,
           0.1119,
           -1739409,
           -0.79,
           2212868,
           123258658.58395386,
           -0.1261
          ],
          [
           "Loxapine",
           "Increase",
           0.07,
           0.6775,
           0.6045,
           136160,
           4.67,
           29133,
           1864192.109375,
           0.1208
          ],
          [
           "Levocetirizine",
           "Decrease",
           -0.01,
           0.0653,
           0.0748,
           -317053,
           -0.34,
           932273,
           33424964.5,
           -0.1268
          ],
          [
           "Raloxifene",
           "Decrease",
           -0.07,
           0.2722,
           0.3412,
           -81266,
           -2.93,
           27693,
           1177338,
           -0.2023
          ],
          [
           "Colchicine",
           "Decrease",
           -0.59,
           0.6067,
           1.1918,
           -4515882,
           -20.73,
           217870,
           7717695.00390625,
           -0.4909
          ],
          [
           "Methimazole",
           "Increase",
           0,
           0.0893,
           0.0889,
           5920,
           0.02,
           280415,
           15571570.708984375,
           0.0043
          ],
          [
           "Clopidogrel",
           "Decrease",
           -0.01,
           0.0599,
           0.0666,
           -427628,
           -0.3,
           1434592,
           63358359.10266113,
           -0.1013
          ],
          [
           "Tranexamic Acid",
           "Decrease",
           -0.23,
           1.4077,
           1.6418,
           -862657,
           -7.59,
           113630,
           3684781.16796875,
           -0.1426
          ],
          [
           "Desipramine",
           "Decrease",
           -0.24,
           0.2878,
           0.5278,
           -96214,
           -12.93,
           7442,
           400816,
           -0.4548
          ],
          [
           "Candesartan",
           "Decrease",
           -0.16,
           0.7346,
           0.897,
           -188816,
           -7.79,
           24253,
           1162615.65625,
           -0.1811
          ],
          [
           "Primidone",
           "Decrease",
           0,
           0.1697,
           0.1701,
           -3840,
           -0.03,
           115629,
           9610587.25,
           -0.0023
          ],
          [
           "Alogliptin",
           "Decrease",
           -0.23,
           5.1368,
           5.3699,
           -1206740,
           -9.96,
           121109,
           5177882.9375,
           -0.0434
          ],
          [
           "Citalopram",
           "Increase",
           0,
           0.0338,
           0.0331,
           64275,
           0.03,
           2107498,
           88786493.08880615,
           0.0219
          ],
          [
           "Galantamine",
           "Increase",
           0.03,
           0.8175,
           0.7885,
           4412,
           1.37,
           3226,
           152204,
           0.0368
          ],
          [
           "Frovatriptan",
           "Increase",
           1.82,
           11.7526,
           9.9322,
           90252,
           18.4,
           4906,
           49578,
           0.1833
          ],
          [
           "Febuxostat",
           "Decrease",
           -0.31,
           0.6846,
           0.9973,
           -349575,
           -13.23,
           26419,
           1118098,
           -0.3135
          ],
          [
           "Analgesics-Sedative Combination - Two Ingredient",
           "Increase",
           0.15,
           1.1497,
           1.0034,
           54804,
           7.17,
           7647,
           374723,
           0.1458
          ],
          [
           "Zolpidem",
           "Decrease",
           -0.01,
           0.0387,
           0.0458,
           -288168,
           -0.2,
           1463579,
           40930923.14501953,
           -0.1538
          ],
          [
           "Codeine Combination - Four Ingredient",
           "Increase",
           0.15,
           1.0268,
           0.8792,
           90217,
           7.45,
           12105,
           611204,
           0.1679
          ],
          [
           "Oxaprozin",
           "Decrease",
           -0.89,
           0.6114,
           1.5001,
           -295783,
           -47.85,
           6181,
           332826,
           -0.5924
          ],
          [
           "Opioid Combination - Two Ingredient",
           "Decrease",
           -0.02,
           0.1589,
           0.1764,
           -2480004,
           -1.05,
           2353810,
           141621683.677536,
           -0.0993
          ],
          [
           "Quetiapine",
           "Decrease",
           -0.01,
           0.0892,
           0.1028,
           -3345335,
           -0.58,
           5760305,
           246859685.26037598,
           -0.1319
          ],
          [
           "Dantrolene",
           "Increase",
           0.02,
           0.5447,
           0.5207,
           29980,
           2.65,
           11296,
           1247718.4609375,
           0.0462
          ],
          [
           "ACE Inhibitors & Thiazide/Thiazide-Like - Two Ingredient",
           "Decrease",
           0,
           0.0541,
           0.0567,
           -186506,
           -0.15,
           1250697,
           72048020.125,
           -0.0456
          ],
          [
           "Oxycodone",
           "Decrease",
           -0.02,
           0.1246,
           0.1403,
           -2433183,
           -0.89,
           2744685,
           144951675.703125,
           -0.1125
          ],
          [
           "Codeine",
           "Decrease",
           -0.08,
           0.5514,
           0.6281,
           -10846,
           -5.71,
           1900,
           141333,
           -0.1222
          ],
          [
           "Morphine",
           "Decrease",
           -0.02,
           0.312,
           0.3305,
           -407170,
           -1.08,
           377068,
           21934897.85440445,
           -0.0562
          ],
          [
           "Rabeprazole",
           "Decrease",
           -0.05,
           0.2127,
           0.2591,
           -87163,
           -2.42,
           36044,
           1877510.5,
           -0.1792
          ],
          [
           "Ampicillin",
           "Decrease",
           -0.01,
           0.4774,
           0.485,
           -5586,
           -0.22,
           25101,
           735570.7890625,
           -0.0157
          ],
          [
           "Lacosamide",
           "Increase",
           0.07,
           0.3722,
           0.3032,
           2126578,
           4.48,
           474390,
           32079383.109375,
           0.2278
          ],
          [
           "Potassium & Sodium Phosphates",
           "Decrease",
           -0.04,
           0.2078,
           0.2429,
           -102471,
           -3.34,
           30669,
           2918615.3125,
           -0.1445
          ],
          [
           "Antiretroviral Combination - Two Ingredient",
           "Decrease",
           -0.01,
           0.6156,
           0.6208,
           -75632,
           -0.42,
           179168,
           7112357.109375,
           -0.0084
          ],
          [
           "Diazepam",
           "Increase",
           0,
           0.0293,
           0.0249,
           169412,
           0.17,
           1002980,
           38546570.58358765,
           0.1762
          ],
          [
           "Esomeprazole",
           "Decrease",
           -0.02,
           0.1732,
           0.1919,
           -464775,
           -0.86,
           543055,
           24194241.814453125,
           -0.0975
          ],
          [
           "Valacyclovir",
           "Decrease",
           -0.02,
           0.3734,
           0.3898,
           -942638,
           -0.5,
           1880744,
           57506812.259765625,
           -0.0421
          ],
          [
           "Olanzapine",
           "Decrease",
           -0.02,
           0.1577,
           0.1749,
           -1494813,
           -0.59,
           2514716,
           86647341.3876648,
           -0.0986
          ],
          [
           "Dexmethylphenidate",
           "Decrease",
           -0.55,
           0.8178,
           1.3723,
           -26937089,
           -18.81,
           1431862,
           48575196.953125,
           -0.4041
          ],
          [
           "Repaglinide",
           "Decrease",
           -0.02,
           0.1219,
           0.1441,
           -108527,
           -2.65,
           40897,
           4890403,
           -0.154
          ],
          [
           "Ezetimibe",
           "Decrease",
           -0.01,
           0.1042,
           0.1139,
           -1077401,
           -1.08,
           995661,
           46630937.9765625,
           -0.0854
          ],
          [
           "Trazodone",
           "Decrease",
           -0.01,
           0.0745,
           0.0861,
           -3494539,
           -0.49,
           7170761,
           303011173.0444336,
           -0.134
          ],
          [
           "Pentoxifylline",
           "Decrease",
           -0.06,
           0.2299,
           0.2906,
           -210227,
           -3.83,
           54869,
           3464192.3125,
           -0.2088
          ],
          [
           "Atomoxetine",
           "Decrease",
           -0.09,
           0.9509,
           1.0364,
           -4769061,
           -2.91,
           1639701,
           55747425.408203125,
           -0.0825
          ],
          [
           "Isosorbide Mononitrate",
           "Decrease",
           -0.01,
           0.1052,
           0.1129,
           -164866,
           -0.35,
           473299,
           21390845.5,
           -0.0683
          ],
          [
           "Budesonide",
           "Decrease",
           -0.41,
           1.9389,
           2.3477,
           -2325851,
           -42.6,
           54603,
           4145978.8984375,
           -0.1741
          ],
          [
           "Proton Pump Inhibitor-Antacid Combination - Two Ingredient",
           "Decrease",
           -3.91,
           0.7662,
           4.6726,
           -765498,
           -164.45,
           4655,
           195961,
           -0.836
          ],
          [
           "Etodolac",
           "Decrease",
           -0.03,
           0.3736,
           0.4061,
           -90811,
           -1.68,
           53964,
           2795838,
           -0.08
          ],
          [
           "Valsartan",
           "Decrease",
           -0.01,
           0.2086,
           0.216,
           -616622,
           -1.08,
           571207,
           29968194.5,
           -0.0344
          ],
          [
           "Nystatin",
           "Decrease",
           -0.03,
           0.3765,
           0.4108,
           -26324,
           -2.95,
           8932,
           769281.318359375,
           -0.0833
          ],
          [
           "Prochlorperazine",
           "Increase",
           0.04,
           0.396,
           0.3569,
           277175,
           1.45,
           190597,
           7095156.5,
           0.1094
          ],
          [
           "Irbesartan",
           "Decrease",
           -0.06,
           0.1972,
           0.2548,
           -560156,
           -2.95,
           189632,
           9724431.025390625,
           -0.2261
          ],
          [
           "Aripiprazole",
           "Decrease",
           -0.05,
           0.158,
           0.2089,
           -8459976,
           -1.84,
           4595463,
           150806595.91764832,
           -0.2435
          ],
          [
           "Estazolam",
           "Decrease",
           -0.34,
           0.9579,
           1.2976,
           -14585,
           -10.14,
           1438,
           42927,
           -0.2618
          ],
          [
           "Memantine",
           "Decrease",
           -0.02,
           0.0981,
           0.1143,
           -237116,
           -1,
           237917,
           13061175.6640625,
           -0.1423
          ],
          [
           "Methylphenidate",
           "Decrease",
           -0.14,
           0.5872,
           0.7259,
           -16284801,
           -5.33,
           3056614,
           117412394.02392578,
           -0.1911
          ],
          [
           "Chlorpromazine",
           "Decrease",
           -0.53,
           1.1019,
           1.6355,
           -6568843,
           -33.7,
           194907,
           12310843.13104248,
           -0.3263
          ],
          [
           "Desmopressin",
           "Decrease",
           -0.02,
           0.4062,
           0.4235,
           -394156,
           -1.15,
           343572,
           22843414.828125,
           -0.0407
          ],
          [
           "Ca Channel Blocker & HMG CoA Reductase Inhib Comb 2 Ingred",
           "Decrease",
           -0.48,
           1.6276,
           2.1065,
           -49745,
           -21.86,
           2276,
           103878,
           -0.2273
          ],
          [
           "Varenicline",
           "Increase",
           4.95,
           6.0758,
           1.1285,
           14558204,
           97.07,
           149980,
           7957212,
           4.3838
          ],
          [
           "Pilocarpine",
           "Decrease",
           -0.06,
           0.2848,
           0.3402,
           -234832,
           -5.61,
           41857,
           4240960,
           -0.1628
          ],
          [
           "Selegiline",
           "Decrease",
           -0.15,
           0.8336,
           0.9866,
           -32727,
           -11,
           2974,
           213828,
           -0.1551
          ],
          [
           "Mercaptopurine",
           "Decrease",
           -0.18,
           0.902,
           1.0824,
           -236957,
           -8.26,
           28701,
           1313845.0390625,
           -0.1666
          ],
          [
           "Amiloride",
           "Decrease",
           -0.1,
           0.1813,
           0.2821,
           -146713,
           -6.71,
           21873,
           1455331.77734375,
           -0.3573
          ],
          [
           "Darifenacin",
           "Decrease",
           -0.49,
           1.4392,
           1.9338,
           -35671,
           -17.96,
           1986,
           72138,
           -0.2557
          ],
          [
           "Pantoprazole",
           "Decrease",
           0,
           0.0556,
           0.0574,
           -523174,
           -0.09,
           5791814,
           258781389.53637695,
           -0.0314
          ],
          [
           "Amitriptyline",
           "Decrease",
           -0.02,
           0.0756,
           0.0935,
           -1540403,
           -0.82,
           1888862,
           86088044.17840576,
           -0.1915
          ],
          [
           "Acitretin",
           "Decrease",
           -1.81,
           7.2281,
           9.0366,
           -483871,
           -67.19,
           7201,
           267547.9599609375,
           -0.2001
          ],
          [
           "Gemfibrozil",
           "Increase",
           0,
           0.1083,
           0.1081,
           4197,
           0.02,
           275154,
           19709559,
           0.002
          ],
          [
           "Continuous Contraceptives Oral - Two Ingredient",
           "Decrease",
           -0.09,
           1.2411,
           1.3288,
           -23951,
           -4.44,
           5389,
           273220.3759765625,
           -0.066
          ],
          [
           "Pioglitazone",
           "Decrease",
           -0.01,
           0.1145,
           0.1229,
           -213944,
           -0.41,
           524801,
           25544929,
           -0.0682
          ],
          [
           "Clarithromycin",
           "Increase",
           0,
           0.493,
           0.4892,
           15924,
           0.1,
           162394,
           4186930,
           0.0078
          ],
          [
           "Tramadol",
           "Decrease",
           -0.01,
           0.0457,
           0.0534,
           -536776,
           -0.45,
           1182454,
           60236642.916015625,
           -0.1437
          ],
          [
           "Metformin",
           "Decrease",
           -0.01,
           0.0305,
           0.0381,
           -7261143,
           -0.8,
           9054441,
           909052123.75,
           -0.1993
          ],
          [
           "Lubiprostone",
           "Increase",
           1.01,
           4.414,
           3.4,
           5124071,
           65.33,
           78437,
           5053298.34375,
           0.2982
          ],
          [
           "Hydromorphone",
           "Decrease",
           -0.04,
           0.1029,
           0.1394,
           -342935,
           -2.12,
           162117,
           9387441.078125,
           -0.262
          ],
          [
           "Nitrofurantoin",
           "Decrease",
           -0.06,
           0.4201,
           0.4798,
           -1150510,
           -0.8,
           1429457,
           19265841.19738388,
           -0.1245
          ],
          [
           "Paroxetine",
           "Decrease",
           0,
           0.1338,
           0.1377,
           -214789,
           -0.16,
           1341596,
           55248077.50097656,
           -0.0282
          ],
          [
           "Rufinamide",
           "Increase",
           0.21,
           4.6371,
           4.4285,
           390253,
           33.72,
           11572,
           1870959,
           0.0471
          ],
          [
           "Tenofovir",
           "Decrease",
           -0.09,
           0.5673,
           0.6584,
           -327168,
           -3.51,
           93182,
           3590248.90625,
           -0.1384
          ],
          [
           "Nitroglycerin",
           "Decrease",
           -0.11,
           0.1989,
           0.3047,
           -1174886,
           -4.05,
           290039,
           11109642.438110352,
           -0.3471
          ],
          [
           "Doxazosin",
           "Decrease",
           -0.11,
           0.0984,
           0.2119,
           -940670,
           -5.5,
           171050,
           8290775,
           -0.5355
          ],
          [
           "Niacin",
           "Decrease",
           -0.06,
           0.2692,
           0.3319,
           -48763,
           -3.17,
           15366,
           778297,
           -0.1888
          ],
          [
           "Haloperidol",
           "Decrease",
           -0.05,
           0.381,
           0.4284,
           -1343743,
           -2.35,
           571908,
           28322187.541015625,
           -0.1107
          ],
          [
           "Buspirone",
           "Decrease",
           0,
           0.0583,
           0.0585,
           -120081,
           -0.02,
           4869529,
           365504777.7673645,
           -0.0037
          ],
          [
           "Desvenlafaxine",
           "Decrease",
           -0.12,
           0.5515,
           0.668,
           -3157145,
           -4.24,
           743895,
           27084313.125,
           -0.1745
          ],
          [
           "Glipizide",
           "Increase",
           0,
           0.0651,
           0.0647,
           45547,
           0.03,
           1386079,
           112710394.125,
           0.0062
          ],
          [
           "Fesoterodine",
           "Increase",
           0.23,
           1.1143,
           0.8874,
           145748,
           8.21,
           17752,
           642401,
           0.2557
          ],
          [
           "Lansoprazole",
           "Increase",
           0.08,
           0.6484,
           0.5701,
           1178650,
           3.4,
           346940,
           15057970.856445312,
           0.1373
          ],
          [
           "Dextroamphetamine",
           "Decrease",
           -0.08,
           0.7196,
           0.8025,
           -505151,
           -4.78,
           105751,
           6093583,
           -0.1033
          ],
          [
           "Carisoprodol",
           "Decrease",
           -0.04,
           0.0665,
           0.1018,
           -149236,
           -2.42,
           61762,
           4226347,
           -0.3469
          ],
          [
           "Fluoxetine",
           "Decrease",
           -0.02,
           0.0621,
           0.0782,
           -4763304,
           -0.72,
           6604345,
           294627130.5670166,
           -0.2052
          ],
          [
           "Naproxen",
           "Decrease",
           0,
           0.0948,
           0.0993,
           -530027,
           -0.19,
           2760185,
           118471601.25,
           -0.0451
          ],
          [
           "Dipeptidyl Peptidase-4 Inhibitor-Biguanide - Two Ingredient",
           "Increase",
           0.15,
           2.6662,
           2.514,
           290924,
           11.68,
           24909,
           1912090,
           0.0605
          ],
          [
           "Zafirlukast",
           "Increase",
           0.01,
           0.901,
           0.8945,
           5042,
           0.49,
           10376,
           774044,
           0.0073
          ],
          [
           "Ritonavir",
           "Decrease",
           -0.38,
           0.8957,
           1.2761,
           -185901,
           -15.45,
           12036,
           488670,
           -0.2981
          ],
          [
           "Omega-3-acid",
           "Decrease",
           0,
           0.1801,
           0.1801,
           -2869,
           -0.01,
           485792,
           56119096.5,
           -0.0003
          ],
          [
           "Zaleplon",
           "Decrease",
           -0.01,
           0.196,
           0.2019,
           -7318,
           -0.19,
           38954,
           1249538,
           -0.029
          ],
          [
           "Griseofulvin",
           "Decrease",
           -0.13,
           7.1122,
           7.2395,
           -23146,
           -4.42,
           5241,
           181768,
           -0.0176
          ],
          [
           "Metaxalone",
           "Increase",
           0.04,
           0.61,
           0.574,
           56475,
           2.34,
           24144,
           1568980.5,
           0.0627
          ],
          [
           "Allopurinol",
           "Decrease",
           -0.01,
           0.0603,
           0.0683,
           -408957,
           -0.44,
           935091,
           50969043.6494751,
           -0.1174
          ],
          [
           "Estradiol",
           "Decrease",
           -0.01,
           0.1033,
           0.1087,
           -154702,
           -0.36,
           434278,
           28484482.46875,
           -0.05
          ],
          [
           "Tolterodine",
           "Decrease",
           -0.29,
           0.5378,
           0.827,
           -1023251,
           -12.96,
           78964,
           3538801.1103515625,
           -0.3497
          ],
          [
           "Angiotensin II Receptor Antagonists & Thiazides - Two Ingred",
           "Decrease",
           -0.03,
           0.1599,
           0.1883,
           -2248580,
           -1.44,
           1563969,
           79018677,
           -0.1509
          ],
          [
           "Ibuprofen",
           "Increase",
           0,
           0.0651,
           0.0651,
           6367,
           0,
           10847134,
           482723572.6086426,
           0.0002
          ],
          [
           "Colestipol",
           "Increase",
           0.07,
           0.8094,
           0.7394,
           502052,
           6.48,
           77457,
           7174593.453125,
           0.0946
          ],
          [
           "Cefadroxil",
           "Increase",
           0.03,
           0.3566,
           0.3296,
           66323,
           0.58,
           115095,
           2453182,
           0.082
          ],
          [
           "Flecainide",
           "Decrease",
           -0.06,
           0.1813,
           0.2423,
           -407519,
           -4.86,
           83818,
           6681594.09173584,
           -0.2518
          ],
          [
           "Levofloxacin",
           "Decrease",
           -0.03,
           0.2202,
           0.2465,
           -111825,
           -0.22,
           502208,
           4250236.091796875,
           -0.1068
          ],
          [
           "Oxcarbazepine",
           "Decrease",
           0,
           0.2326,
           0.2333,
           -78132,
           -0.05,
           1508779,
           113102898.8125,
           -0.003
          ],
          [
           "Mexiletine",
           "Decrease",
           -0.09,
           0.5004,
           0.5906,
           -170194,
           -10.35,
           16436,
           1624652.0590820312,
           -0.1528
          ],
          [
           "Droxidopa",
           "Increase",
           0.4,
           2.1284,
           1.7244,
           24602,
           45.39,
           542,
           60895,
           0.2343
          ],
          [
           "Pediatric Multivitamins w/ Fluoride",
           "Decrease",
           -0.02,
           0.08,
           0.1038,
           -196489,
           -0.95,
           207231,
           8273554.30078125,
           -0.2289
          ],
          [
           "Cimetidine",
           "Decrease",
           -0.09,
           0.476,
           0.5626,
           -189660,
           -5.14,
           36868,
           2191719.0883789062,
           -0.1538
          ],
          [
           "Lisinopril",
           "Increase",
           0,
           0.0279,
           0.0263,
           563989,
           0.08,
           7075753,
           364243279.17578125,
           0.0589
          ],
          [
           "Metronidazole",
           "Decrease",
           -0.01,
           0.134,
           0.1474,
           -555757,
           -0.22,
           2528279,
           41491487.2240448,
           -0.0909
          ],
          [
           "Methotrexate",
           "Decrease",
           -0.13,
           0.1936,
           0.3209,
           -1959646,
           -4.04,
           485130,
           15401334.80078125,
           -0.3966
          ],
          [
           "Dalfampridine",
           "Decrease",
           -0.15,
           0.6288,
           0.7817,
           -172198,
           -9.68,
           17798,
           1125636.5,
           -0.1957
          ],
          [
           "Anastrozole",
           "Decrease",
           -0.01,
           0.11,
           0.1192,
           -63755,
           -0.35,
           181396,
           6955919.7001953125,
           -0.0769
          ],
          [
           "Mefloquine",
           "Decrease",
           -0.84,
           3.1214,
           3.9582,
           -55468,
           -5.17,
           10725,
           66289.77124023438,
           -0.2114
          ],
          [
           "Hydrocodone Combination - Two Ingredient",
           "Increase",
           0.01,
           0.124,
           0.1183,
           1409625,
           0.29,
           4924795,
           244479962.51953125,
           0.0487
          ],
          [
           "Ethosuximide",
           "Decrease",
           -0.18,
           0.4238,
           0.6032,
           -671024,
           -22.21,
           30206,
           3740466.3828125,
           -0.2974
          ],
          [
           "Felodipine",
           "Decrease",
           -0.04,
           0.193,
           0.2327,
           -31678,
           -2.17,
           14630,
           798097,
           -0.1706
          ],
          [
           "Nateglinide",
           "Decrease",
           -0.04,
           0.2744,
           0.3118,
           -67075,
           -4.43,
           15146,
           1794383,
           -0.1199
          ],
          [
           "Clindamycin",
           "Decrease",
           -0.01,
           0.2083,
           0.2221,
           -444670,
           -0.42,
           1071082,
           32207162.734375,
           -0.0622
          ],
          [
           "Paliperidone",
           "Decrease",
           -2,
           2.8578,
           4.86,
           -18070906,
           -65.43,
           276202,
           9025556.109375,
           -0.412
          ],
          [
           "Finasteride",
           "Decrease",
           -0.01,
           0.063,
           0.0724,
           -144953,
           -0.39,
           368696,
           15349196.754882812,
           -0.1304
          ],
          [
           "Ergocalciferol",
           "Increase",
           0,
           0.1379,
           0.1332,
           211597,
           0.03,
           7948535,
           45139763.740234375,
           0.0352
          ],
          [
           "Risperidone",
           "Increase",
           0,
           0.0753,
           0.0732,
           312288,
           0.1,
           3177845,
           152221612.81759644,
           0.028
          ],
          [
           "Sulfasalazine",
           "Decrease",
           0,
           0.1829,
           0.1858,
           -44720,
           -0.39,
           113343,
           15388843.132629395,
           -0.0156
          ],
          [
           "Estrogen & Progestin - Two Ingredient",
           "Decrease",
           -0.19,
           1.0873,
           1.2733,
           -228077,
           -7.2,
           31667,
           1226304,
           -0.1461
          ],
          [
           "Diltiazem",
           "Decrease",
           -0.02,
           0.3948,
           0.4178,
           -631172,
           -1.23,
           512327,
           27394867.046875,
           -0.0551
          ],
          [
           "Atorvastatin",
           "Decrease",
           -0.01,
           0.0519,
           0.0619,
           -5750877,
           -0.52,
           11033108,
           543071538.5158691,
           -0.1623
          ],
          [
           "Dofetilide",
           "Decrease",
           -0.46,
           0.6701,
           1.1328,
           -578772,
           -38.86,
           14894,
           1250973,
           -0.4084
          ],
          [
           "Fluconazole",
           "Decrease",
           -0.07,
           0.5883,
           0.6597,
           -952146,
           -0.27,
           3591864,
           11673059.865623474,
           -0.1082
          ],
          [
           "Temazepam",
           "Decrease",
           -0.04,
           0.1382,
           0.1825,
           -397075,
           -1.28,
           310039,
           8964036,
           -0.2428
          ],
          [
           "Cefpodoxime",
           "Decrease",
           -0.43,
           2.6067,
           3.0326,
           -440426,
           -7.04,
           62583,
           1034143.0107421875,
           -0.1404
          ],
          [
           "Chlorthalidone",
           "Decrease",
           -0.01,
           0.1208,
           0.1305,
           -309568,
           -0.48,
           650130,
           31603727,
           -0.0747
          ],
          [
           "Tetrabenazine",
           "Increase",
           1.68,
           2.5945,
           0.9151,
           116234,
           23.11,
           5029,
           378776,
           1.8352
          ],
          [
           "Oseltamivir",
           "Decrease",
           -0.39,
           1.7919,
           2.1797,
           -192008,
           -5.15,
           37254,
           495108.599609375,
           -0.1779
          ],
          [
           "Escitalopram",
           "Decrease",
           -0.01,
           0.0639,
           0.0695,
           -1413708,
           -0.23,
           6159287,
           252171890.13464355,
           -0.0806
          ],
          [
           "Trandolapril",
           "Decrease",
           -0.09,
           0.1571,
           0.2474,
           -2720,
           -5.69,
           478,
           30129,
           -0.3651
          ],
          [
           "Rivastigmine",
           "Decrease",
           -0.06,
           0.2269,
           0.2866,
           -34716,
           -3.53,
           9824,
           581639,
           -0.2083
          ],
          [
           "Naratriptan",
           "Decrease",
           -0.32,
           1.3979,
           1.7222,
           -156038,
           -3.07,
           50895,
           481069,
           -0.1883
          ],
          [
           "Beta Blocker & Diuretic Combination - Two Ingredient",
           "Decrease",
           -0.02,
           0.3437,
           0.3639,
           -107070,
           -0.99,
           108340,
           5296745.5,
           -0.0556
          ],
          [
           "Acamprosate",
           "Decrease",
           -0.16,
           0.5057,
           0.6686,
           -2580100,
           -23.17,
           111365,
           15840314,
           -0.2436
          ],
          [
           "Extended-Cycle Contraceptives - Oral Two Ingredient",
           "Decrease",
           -0.15,
           0.2765,
           0.425,
           -1942016,
           -13.58,
           142984,
           13069865.302734375,
           -0.3496
          ],
          [
           "Nabumetone",
           "Decrease",
           -0.03,
           0.1935,
           0.2259,
           -362718,
           -1.48,
           245525,
           11185298.0078125,
           -0.1435
          ],
          [
           "Calcium Acetate",
           "Decrease",
           -0.04,
           0.2324,
           0.2722,
           -520603,
           -8.03,
           64852,
           13067895.65625,
           -0.1463
          ],
          [
           "Solifenacin",
           "Decrease",
           0,
           0.2192,
           0.2224,
           -22025,
           -0.12,
           183392,
           6823995.0078125,
           -0.0145
          ],
          [
           "Hyoscyamine",
           "Decrease",
           -0.02,
           0.1347,
           0.1579,
           -195585,
           -1.43,
           136468,
           8415481.84375,
           -0.1472
          ],
          [
           "Cefdinir",
           "Decrease",
           -0.01,
           0.4752,
           0.4821,
           -122249,
           -0.12,
           1033180,
           17711760.20703125,
           -0.0143
          ],
          [
           "Mirtazapine",
           "Decrease",
           -0.02,
           0.211,
           0.2275,
           -1480478,
           -0.55,
           2668352,
           89756173.1370306,
           -0.0725
          ],
          [
           "Hydrocodone-Homatropine",
           "Increase",
           0.2,
           1.0065,
           0.8092,
           377,
           9.2,
           41,
           1911,
           0.2438
          ],
          [
           "Oxybutynin",
           "Decrease",
           -0.05,
           0.1002,
           0.1457,
           -2436139,
           -2.32,
           1050294,
           53583037.17480469,
           -0.3121
          ],
          [
           "Imatinib",
           "Decrease",
           -1.73,
           1.4289,
           3.1588,
           -1093817,
           -69.58,
           15720,
           632289.498046875,
           -0.5477
          ],
          [
           "Eszopiclone",
           "Decrease",
           -0.05,
           0.1134,
           0.1671,
           -332827,
           -1.52,
           218887,
           6189236.109375,
           -0.3218
          ],
          [
           "Thiazolidinedione-Biguanide Combination - Two Ingredient",
           "Decrease",
           -0.01,
           0.5851,
           0.5919,
           -1885,
           -0.53,
           3555,
           275499,
           -0.0116
          ],
          [
           "Dimethyl Fumarate",
           "Decrease",
           -0.68,
           0.4654,
           1.1404,
           -504986,
           -42.17,
           11974,
           748088,
           -0.5919
          ],
          [
           "Fluvastatin",
           "Decrease",
           -0.46,
           3.5745,
           4.0344,
           -15875,
           -21.84,
           727,
           34526,
           -0.114
          ],
          [
           "Perphenazine",
           "Decrease",
           -0.21,
           0.3359,
           0.5509,
           -1216424,
           -13.36,
           91047,
           5657998.734375,
           -0.3903
          ],
          [
           "Tadalafil",
           "Decrease",
           -0.15,
           0.302,
           0.4553,
           -268000,
           -7.26,
           36910,
           1747713.75,
           -0.3368
          ],
          [
           "Tacrolimus",
           "Decrease",
           -0.07,
           0.2898,
           0.3561,
           -3508254,
           -8.66,
           405166,
           52928029.42562103,
           -0.1862
          ],
          [
           "Phenytoin",
           "Decrease",
           -0.03,
           0.1567,
           0.1838,
           -648140,
           -3.28,
           197413,
           23859900.171875,
           -0.1478
          ],
          [
           "Clorazepate",
           "Decrease",
           -0.05,
           1.3941,
           1.4422,
           -43748,
           -3.3,
           13273,
           907985.83203125,
           -0.0334
          ],
          [
           "Trospium",
           "Decrease",
           -0.01,
           0.9021,
           0.9099,
           -18036,
           -0.46,
           39352,
           2307658.5,
           -0.0086
          ],
          [
           "Alfuzosin",
           "Decrease",
           -0.03,
           0.116,
           0.1457,
           -105236,
           -1.32,
           79864,
           3550021,
           -0.2035
          ],
          [
           "Meloxicam",
           "Decrease",
           0,
           0.0223,
           0.0224,
           -14265,
           0,
           3579731,
           122988346.35546875,
           -0.0052
          ],
          [
           "Metoprolol",
           "Increase",
           0,
           0.0641,
           0.0616,
           963808,
           0.16,
           6072252,
           384126382.63327026,
           0.0409
          ],
          [
           "Buprenorphine",
           "Decrease",
           -0.14,
           0.9194,
           1.0638,
           -14367328,
           -4.83,
           2974110,
           99505807.06280518,
           -0.1357
          ],
          [
           "Sulindac",
           "Increase",
           0.01,
           0.2283,
           0.2143,
           38469,
           0.65,
           58999,
           2749432,
           0.0653
          ],
          [
           "Isotretinoin",
           "Decrease",
           -1.15,
           3.9785,
           5.1264,
           -9614295,
           -54.79,
           175469,
           8375050,
           -0.2239
          ],
          [
           "Enalapril",
           "Increase",
           0.01,
           0.1186,
           0.1129,
           143235,
           0.36,
           394510,
           24916846.663330078,
           0.0509
          ],
          [
           "Trimethoprim",
           "Increase",
           0.93,
           1.532,
           0.6016,
           230493,
           30.71,
           7506,
           247753.16015625,
           1.5463
          ],
          [
           "Alendronate",
           "Decrease",
           -0.02,
           0.2805,
           0.2989,
           -83356,
           -0.12,
           682064,
           4520283.171875,
           -0.0617
          ],
          [
           "Tizanidine",
           "Decrease",
           -0.01,
           0.0559,
           0.0613,
           -774966,
           -0.35,
           2230798,
           145085813.5,
           -0.0872
          ],
          [
           "Ropinirole",
           "Decrease",
           -0.01,
           0.0653,
           0.0728,
           -237515,
           -0.4,
           590396,
           31520853.5,
           -0.1035
          ],
          [
           "Calcitriol",
           "Decrease",
           -0.01,
           0.2349,
           0.2492,
           -162685,
           -0.36,
           456513,
           11340839.50390625,
           -0.0576
          ],
          [
           "Cevimeline",
           "Decrease",
           -0.08,
           0.9077,
           0.989,
           -97248,
           -8.09,
           12016,
           1195948,
           -0.0822
          ],
          [
           "Benztropine",
           "Decrease",
           -0.01,
           0.0827,
           0.0935,
           -585939,
           -0.55,
           1074597,
           53984889.127197266,
           -0.116
          ],
          [
           "Letrozole",
           "Decrease",
           -0.03,
           0.1023,
           0.1336,
           -103267,
           -1.02,
           101731,
           3304258,
           -0.234
          ],
          [
           "Amphetamine Mixtures - Two Ingredient",
           "Decrease",
           -0.1,
           0.3782,
           0.4822,
           -21485750,
           -4.56,
           4713555,
           206454252.765625,
           -0.2158
          ],
          [
           "Tetracycline",
           "Decrease",
           -0.06,
           1.0018,
           1.0612,
           -112728,
           -3.03,
           37170,
           1895022.4401855469,
           -0.0561
          ],
          [
           "Doxepin",
           "Increase",
           0.01,
           0.471,
           0.4572,
           106482,
           0.17,
           626975,
           25262731.967773438,
           0.0302
          ],
          [
           "Simvastatin",
           "Decrease",
           0,
           0.032,
           0.0325,
           -40141,
           -0.02,
           1645613,
           77056385.08276367,
           -0.016
          ],
          [
           "Topiramate",
           "Decrease",
           0,
           0.1011,
           0.0997,
           -426465,
           -0.15,
           2890391,
           201173384.38752747,
           0.0144
          ],
          [
           "Cefixime",
           "Increase",
           1.11,
           10.7608,
           9.6471,
           58996,
           5.57,
           10584,
           52974.63391113281,
           0.1154
          ],
          [
           "Analgesics-Sedative Combination - Three Ingredient",
           "Decrease",
           -0.04,
           0.2336,
           0.2704,
           -819106,
           -1.67,
           490687,
           19036169.234375,
           -0.1361
          ],
          [
           "Famciclovir",
           "Increase",
           0.02,
           0.6921,
           0.6758,
           9958,
           0.63,
           15871,
           611075.501953125,
           0.0241
          ],
          [
           "Metoclopramide",
           "Increase",
           0.01,
           0.0464,
           0.0403,
           209157,
           0.33,
           625766,
           34628367.23876953,
           0.1497
          ],
          [
           "Hydrochlorothiazide",
           "Decrease",
           0,
           0.0226,
           0.0249,
           -425950,
           -0.12,
           3648414,
           181934115.00593567,
           -0.0939
          ],
          [
           "Trihexyphenidyl",
           "Increase",
           0,
           0.0785,
           0.078,
           3486,
           0.03,
           102924,
           7747638.375,
           0.0058
          ],
          [
           "Mycophenolate",
           "Decrease",
           -0.11,
           0.2827,
           0.3946,
           -5356284,
           -15.09,
           354965,
           47879927.06564331,
           -0.2835
          ],
          [
           "Disulfiram",
           "Decrease",
           -0.23,
           1.8399,
           2.0709,
           -267925,
           -7.85,
           34144,
           1159891.5,
           -0.1115
          ],
          [
           "Naltrexone",
           "Decrease",
           -0.1,
           0.6309,
           0.7264,
           -1783524,
           -2.9,
           615112,
           18546252.803649902,
           -0.1314
          ],
          [
           "Famotidine",
           "Decrease",
           0,
           0.0399,
           0.0428,
           -843977,
           -0.15,
           5546886,
           285486408.5839844,
           -0.069
          ],
          [
           "Zolmitriptan",
           "Decrease",
           -0.29,
           1.9639,
           2.2539,
           -66057,
           -2.57,
           25685,
           227820,
           -0.1286
          ],
          [
           "Methenamine",
           "Decrease",
           -0.32,
           0.4626,
           0.7866,
           -1175345,
           -19.1,
           61541,
           3627312.5,
           -0.4119
          ],
          [
           "Mesalamine",
           "Increase",
           0.13,
           2.7224,
           2.588,
           1366052,
           18.36,
           74401,
           10165427.109375,
           0.0519
          ],
          [
           "Lamotrigine",
           "Decrease",
           -0.07,
           0.1725,
           0.2395,
           -18617347,
           -4.17,
           4466680,
           275326202.9560547,
           -0.28
          ],
          [
           "Methylprednisolone",
           "Decrease",
           -0.01,
           0.1671,
           0.1724,
           -242567,
           -0.11,
           2163954,
           45628194.71019745,
           -0.0308
          ],
          [
           "Oxazepam",
           "Decrease",
           -0.1,
           0.8497,
           0.9476,
           -15010,
           -3.83,
           3918,
           153359,
           -0.1033
          ],
          [
           "Estradiol Vaginal",
           "Decrease",
           -3.26,
           8.1542,
           11.4131,
           -2918158,
           -44.36,
           65784,
           895438,
           -0.2855
          ],
          [
           "Propafenone",
           "Decrease",
           -0.01,
           0.2984,
           0.3081,
           -44445,
           -2.98,
           14936,
           1357605.0471191406,
           -0.0317
          ],
          [
           "Ramelteon",
           "Decrease",
           -0.43,
           1.0336,
           1.4633,
           -804186,
           -12.43,
           64680,
           1871233.5,
           -0.2937
          ],
          [
           "Aprepitant",
           "Increase",
           11.58,
           75.3207,
           63.7382,
           214977,
           24.5,
           8774,
           18560.57501220703,
           0.1817
          ],
          [
           "Capecitabine",
           "Decrease",
           -0.37,
           0.5561,
           0.9244,
           -949073,
           -33.79,
           28085,
           2576561.783203125,
           -0.3985
          ],
          [
           "Chlorzoxazone",
           "Increase",
           0,
           0.2559,
           0.2521,
           6124,
           0.27,
           22925,
           1628192,
           0.0149
          ],
          [
           "Dexamethasone",
           "Decrease",
           -0.05,
           0.3755,
           0.4299,
           -338929,
           -0.62,
           546036,
           5655160.269485474,
           -0.1266
          ],
          [
           "Urinary Antiseptic-Antispas &/or Analgesics - 4 Ingredient",
           "Decrease",
           -0.59,
           3.0353,
           3.6281,
           -55345,
           -28.98,
           1910,
           93370,
           -0.1634
          ],
          [
           "Albuterol",
           "Decrease",
           -1.49,
           0.3126,
           1.8009,
           -330314,
           -123.16,
           2682,
           221954.5,
           -0.8264
          ],
          [
           "Phentermine",
           "Decrease",
           -0.01,
           0.1193,
           0.13,
           -34433,
           -0.32,
           106805,
           3223374.53125,
           -0.0822
          ],
          [
           "ACE Inhibitors & Ca Channel Blocker Combination - 2 Ingred",
           "Decrease",
           -0.01,
           0.1401,
           0.1477,
           -88544,
           -0.39,
           226399,
           11552300,
           -0.0519
          ],
          [
           "Salsalate",
           "Decrease",
           -1.1,
           0.3467,
           1.449,
           -51949,
           -78.35,
           663,
           47130,
           -0.7607
          ],
          [
           "Sucralfate",
           "Decrease",
           0,
           0.1932,
           0.1948,
           -80243,
           -0.14,
           561888,
           50760871.390625,
           -0.0081
          ],
          [
           "Donepezil",
           "Decrease",
           0,
           0.0588,
           0.0599,
           -11594,
           -0.04,
           310795,
           11202248,
           -0.0173
          ],
          [
           "Prazosin",
           "Decrease",
           -0.04,
           0.2666,
           0.3094,
           -2817047,
           -1.95,
           1447253,
           65857492.73324585,
           -0.1383
          ],
          [
           "Hydroxychloroquine",
           "Decrease",
           -0.04,
           0.2072,
           0.2441,
           -1546820,
           -2.33,
           662537,
           41935166.326171875,
           -0.1511
          ],
          [
           "Combination Gout Drugs - Two Ingredient",
           "Increase",
           0.12,
           1.0406,
           0.9243,
           17572,
           6.19,
           2839,
           151089,
           0.1258
          ],
          [
           "Glimepiride",
           "Decrease",
           -0.01,
           0.0404,
           0.0458,
           -239723,
           -0.36,
           659364,
           44509896.625,
           -0.1177
          ],
          [
           "Minoxidil",
           "Increase",
           0.02,
           0.1349,
           0.1196,
           118817,
           0.76,
           156594,
           7786606.919921875,
           0.1276
          ],
          [
           "Phendimetrazine",
           "Decrease",
           0,
           0.1314,
           0.1317,
           -7,
           -0.02,
           331,
           24512,
           -0.0024
          ]
         ],
         "hovertemplate": "<b>Product:</b> %{customdata[0]}<br><b>Classification:</b> %{customdata[1]}<br><b>Avg Unit Change:</b> %{customdata[2]:$.2f}<br><b>Avg New NADAC:</b> %{customdata[3]:$.2f}<br><b>Avg Old NADAC:</b> %{customdata[4]:$.2f}<br><b>Total Diff:</b> %{customdata[5]:$,.0f}<br><b>Avg Diff Per Rx:</b> %{customdata[6]:$.2f}<br><b>Rx Count:</b> %{customdata[7]:,.0f}<br><b>Units:</b> %{customdata[8]:,.0f}<br><b>Avg Percent Change:</b> %{customdata[9]:.1%}<br><extra></extra>",
         "legendgroup": "",
         "marker": {
          "color": {
           "bdata": "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",
           "dtype": "f8"
          },
          "coloraxis": "coloraxis",
          "line": {
           "color": "rgba(44, 62, 80, 0.9)",
           "width": 2
          },
          "opacity": 0.7,
          "size": {
           "bdata": "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",
           "dtype": "i4"
          },
          "sizemin": 5,
          "sizemode": "area",
          "sizeref": 7482.524722222222,
          "symbol": "circle"
         },
         "mode": "markers",
         "name": "",
         "orientation": "v",
         "showlegend": false,
         "type": "scatter",
         "x": {
          "bdata": "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",
          "dtype": "f8"
         },
         "xaxis": "x",
         "y": {
          "bdata": "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",
          "dtype": "i4"
         },
         "yaxis": "y"
        }
       ],
       "layout": {
        "annotations": [
         {
          "bgcolor": "rgba(0,0,0,0.02)",
          "bordercolor": "rgba(0,0,0,0.1)",
          "borderwidth": 1,
          "height": 710,
          "showarrow": false,
          "text": "",
          "width": 1410,
          "x": 0,
          "xanchor": "left",
          "xref": "paper",
          "xshift": -5,
          "y": 0,
          "yanchor": "bottom",
          "yref": "paper",
          "yshift": -5
         }
        ],
        "coloraxis": {
         "cmax": 1,
         "cmin": -1,
         "colorbar": {
          "bordercolor": "rgba(149, 165, 166, 0.3)",
          "borderwidth": 1,
          "len": 0.8,
          "orientation": "h",
          "thickness": 20,
          "tickfont": {
           "color": "#7f8c8d",
           "size": 11
          },
          "tickformat": ".0%",
          "title": {
           "font": {
            "color": "#2c3e50",
            "family": "Inter, Segoe UI, Arial, sans-serif",
            "size": 14
           },
           "text": "<b>Percent Change</b>"
          },
          "x": 0.5,
          "y": -0.25
         },
         "colorscale": [
          [
           0,
           "rgb(94,79,162)"
          ],
          [
           0.1,
           "rgb(50,136,189)"
          ],
          [
           0.2,
           "rgb(102,194,165)"
          ],
          [
           0.3,
           "rgb(171,221,164)"
          ],
          [
           0.4,
           "rgb(230,245,152)"
          ],
          [
           0.5,
           "rgb(255,255,191)"
          ],
          [
           0.6,
           "rgb(254,224,139)"
          ],
          [
           0.7,
           "rgb(253,174,97)"
          ],
          [
           0.8,
           "rgb(244,109,67)"
          ],
          [
           0.9,
           "rgb(213,62,79)"
          ],
          [
           1,
           "rgb(158,1,66)"
          ]
         ]
        },
        "font": {
         "color": "#2c3e50",
         "family": "Inter, Segoe UI, Arial, sans-serif",
         "size": 12
        },
        "height": 700,
        "hovermode": "closest",
        "legend": {
         "itemsizing": "constant",
         "tracegroupgap": 0
        },
        "margin": {
         "b": 120,
         "l": 90,
         "r": 90,
         "t": 120
        },
        "paper_bgcolor": "white",
        "plot_bgcolor": "rgba(255, 255, 255, 0.95)",
        "showlegend": false,
        "template": {
         "data": {
          "bar": [
           {
            "error_x": {
             "color": "#2a3f5f"
            },
            "error_y": {
             "color": "#2a3f5f"
            },
            "marker": {
             "line": {
              "color": "#E5ECF6",
              "width": 0.5
             },
             "pattern": {
              "fillmode": "overlay",
              "size": 10,
              "solidity": 0.2
             }
            },
            "type": "bar"
           }
          ],
          "barpolar": [
           {
            "marker": {
             "line": {
              "color": "#E5ECF6",
              "width": 0.5
             },
             "pattern": {
              "fillmode": "overlay",
              "size": 10,
              "solidity": 0.2
             }
            },
            "type": "barpolar"
           }
          ],
          "carpet": [
           {
            "aaxis": {
             "endlinecolor": "#2a3f5f",
             "gridcolor": "white",
             "linecolor": "white",
             "minorgridcolor": "white",
             "startlinecolor": "#2a3f5f"
            },
            "baxis": {
             "endlinecolor": "#2a3f5f",
             "gridcolor": "white",
             "linecolor": "white",
             "minorgridcolor": "white",
             "startlinecolor": "#2a3f5f"
            },
            "type": "carpet"
           }
          ],
          "choropleth": [
           {
            "colorbar": {
             "outlinewidth": 0,
             "ticks": ""
            },
            "type": "choropleth"
           }
          ],
          "contour": [
           {
            "colorbar": {
             "outlinewidth": 0,
             "ticks": ""
            },
            "colorscale": [
             [
              0,
              "#0d0887"
             ],
             [
              0.1111111111111111,
              "#46039f"
             ],
             [
              0.2222222222222222,
              "#7201a8"
             ],
             [
              0.3333333333333333,
              "#9c179e"
             ],
             [
              0.4444444444444444,
              "#bd3786"
             ],
             [
              0.5555555555555556,
              "#d8576b"
             ],
             [
              0.6666666666666666,
              "#ed7953"
             ],
             [
              0.7777777777777778,
              "#fb9f3a"
             ],
             [
              0.8888888888888888,
              "#fdca26"
             ],
             [
              1,
              "#f0f921"
             ]
            ],
            "type": "contour"
           }
          ],
          "contourcarpet": [
           {
            "colorbar": {
             "outlinewidth": 0,
             "ticks": ""
            },
            "type": "contourcarpet"
           }
          ],
          "heatmap": [
           {
            "colorbar": {
             "outlinewidth": 0,
             "ticks": ""
            },
            "colorscale": [
             [
              0,
              "#0d0887"
             ],
             [
              0.1111111111111111,
              "#46039f"
             ],
             [
              0.2222222222222222,
              "#7201a8"
             ],
             [
              0.3333333333333333,
              "#9c179e"
             ],
             [
              0.4444444444444444,
              "#bd3786"
             ],
             [
              0.5555555555555556,
              "#d8576b"
             ],
             [
              0.6666666666666666,
              "#ed7953"
             ],
             [
              0.7777777777777778,
              "#fb9f3a"
             ],
             [
              0.8888888888888888,
              "#fdca26"
             ],
             [
              1,
              "#f0f921"
             ]
            ],
            "type": "heatmap"
           }
          ],
          "histogram": [
           {
            "marker": {
             "pattern": {
              "fillmode": "overlay",
              "size": 10,
              "solidity": 0.2
             }
            },
            "type": "histogram"
           }
          ],
          "histogram2d": [
           {
            "colorbar": {
             "outlinewidth": 0,
             "ticks": ""
            },
            "colorscale": [
             [
              0,
              "#0d0887"
             ],
             [
              0.1111111111111111,
              "#46039f"
             ],
             [
              0.2222222222222222,
              "#7201a8"
             ],
             [
              0.3333333333333333,
              "#9c179e"
             ],
             [
              0.4444444444444444,
              "#bd3786"
             ],
             [
              0.5555555555555556,
              "#d8576b"
             ],
             [
              0.6666666666666666,
              "#ed7953"
             ],
             [
              0.7777777777777778,
              "#fb9f3a"
             ],
             [
              0.8888888888888888,
              "#fdca26"
             ],
             [
              1,
              "#f0f921"
             ]
            ],
            "type": "histogram2d"
           }
          ],
          "histogram2dcontour": [
           {
            "colorbar": {
             "outlinewidth": 0,
             "ticks": ""
            },
            "colorscale": [
             [
              0,
              "#0d0887"
             ],
             [
              0.1111111111111111,
              "#46039f"
             ],
             [
              0.2222222222222222,
              "#7201a8"
             ],
             [
              0.3333333333333333,
              "#9c179e"
             ],
             [
              0.4444444444444444,
              "#bd3786"
             ],
             [
              0.5555555555555556,
              "#d8576b"
             ],
             [
              0.6666666666666666,
              "#ed7953"
             ],
             [
              0.7777777777777778,
              "#fb9f3a"
             ],
             [
              0.8888888888888888,
              "#fdca26"
             ],
             [
              1,
              "#f0f921"
             ]
            ],
            "type": "histogram2dcontour"
           }
          ],
          "mesh3d": [
           {
            "colorbar": {
             "outlinewidth": 0,
             "ticks": ""
            },
            "type": "mesh3d"
           }
          ],
          "parcoords": [
           {
            "line": {
             "colorbar": {
              "outlinewidth": 0,
              "ticks": ""
             }
            },
            "type": "parcoords"
           }
          ],
          "pie": [
           {
            "automargin": true,
            "type": "pie"
           }
          ],
          "scatter": [
           {
            "fillpattern": {
             "fillmode": "overlay",
             "size": 10,
             "solidity": 0.2
            },
            "type": "scatter"
           }
          ],
          "scatter3d": [
           {
            "line": {
             "colorbar": {
              "outlinewidth": 0,
              "ticks": ""
             }
            },
            "marker": {
             "colorbar": {
              "outlinewidth": 0,
              "ticks": ""
             }
            },
            "type": "scatter3d"
           }
          ],
          "scattercarpet": [
           {
            "marker": {
             "colorbar": {
              "outlinewidth": 0,
              "ticks": ""
             }
            },
            "type": "scattercarpet"
           }
          ],
          "scattergeo": [
           {
            "marker": {
             "colorbar": {
              "outlinewidth": 0,
              "ticks": ""
             }
            },
            "type": "scattergeo"
           }
          ],
          "scattergl": [
           {
            "marker": {
             "colorbar": {
              "outlinewidth": 0,
              "ticks": ""
             }
            },
            "type": "scattergl"
           }
          ],
          "scattermap": [
           {
            "marker": {
             "colorbar": {
              "outlinewidth": 0,
              "ticks": ""
             }
            },
            "type": "scattermap"
           }
          ],
          "scattermapbox": [
           {
            "marker": {
             "colorbar": {
              "outlinewidth": 0,
              "ticks": ""
             }
            },
            "type": "scattermapbox"
           }
          ],
          "scatterpolar": [
           {
            "marker": {
             "colorbar": {
              "outlinewidth": 0,
              "ticks": ""
             }
            },
            "type": "scatterpolar"
           }
          ],
          "scatterpolargl": [
           {
            "marker": {
             "colorbar": {
              "outlinewidth": 0,
              "ticks": ""
             }
            },
            "type": "scatterpolargl"
           }
          ],
          "scatterternary": [
           {
            "marker": {
             "colorbar": {
              "outlinewidth": 0,
              "ticks": ""
             }
            },
            "type": "scatterternary"
           }
          ],
          "surface": [
           {
            "colorbar": {
             "outlinewidth": 0,
             "ticks": ""
            },
            "colorscale": [
             [
              0,
              "#0d0887"
             ],
             [
              0.1111111111111111,
              "#46039f"
             ],
             [
              0.2222222222222222,
              "#7201a8"
             ],
             [
              0.3333333333333333,
              "#9c179e"
             ],
             [
              0.4444444444444444,
              "#bd3786"
             ],
             [
              0.5555555555555556,
              "#d8576b"
             ],
             [
              0.6666666666666666,
              "#ed7953"
             ],
             [
              0.7777777777777778,
              "#fb9f3a"
             ],
             [
              0.8888888888888888,
              "#fdca26"
             ],
             [
              1,
              "#f0f921"
             ]
            ],
            "type": "surface"
           }
          ],
          "table": [
           {
            "cells": {
             "fill": {
              "color": "#EBF0F8"
             },
             "line": {
              "color": "white"
             }
            },
            "header": {
             "fill": {
              "color": "#C8D4E3"
             },
             "line": {
              "color": "white"
             }
            },
            "type": "table"
           }
          ]
         },
         "layout": {
          "annotationdefaults": {
           "arrowcolor": "#2a3f5f",
           "arrowhead": 0,
           "arrowwidth": 1
          },
          "autotypenumbers": "strict",
          "coloraxis": {
           "colorbar": {
            "outlinewidth": 0,
            "ticks": ""
           }
          },
          "colorscale": {
           "diverging": [
            [
             0,
             "#8e0152"
            ],
            [
             0.1,
             "#c51b7d"
            ],
            [
             0.2,
             "#de77ae"
            ],
            [
             0.3,
             "#f1b6da"
            ],
            [
             0.4,
             "#fde0ef"
            ],
            [
             0.5,
             "#f7f7f7"
            ],
            [
             0.6,
             "#e6f5d0"
            ],
            [
             0.7,
             "#b8e186"
            ],
            [
             0.8,
             "#7fbc41"
            ],
            [
             0.9,
             "#4d9221"
            ],
            [
             1,
             "#276419"
            ]
           ],
           "sequential": [
            [
             0,
             "#0d0887"
            ],
            [
             0.1111111111111111,
             "#46039f"
            ],
            [
             0.2222222222222222,
             "#7201a8"
            ],
            [
             0.3333333333333333,
             "#9c179e"
            ],
            [
             0.4444444444444444,
             "#bd3786"
            ],
            [
             0.5555555555555556,
             "#d8576b"
            ],
            [
             0.6666666666666666,
             "#ed7953"
            ],
            [
             0.7777777777777778,
             "#fb9f3a"
            ],
            [
             0.8888888888888888,
             "#fdca26"
            ],
            [
             1,
             "#f0f921"
            ]
           ],
           "sequentialminus": [
            [
             0,
             "#0d0887"
            ],
            [
             0.1111111111111111,
             "#46039f"
            ],
            [
             0.2222222222222222,
             "#7201a8"
            ],
            [
             0.3333333333333333,
             "#9c179e"
            ],
            [
             0.4444444444444444,
             "#bd3786"
            ],
            [
             0.5555555555555556,
             "#d8576b"
            ],
            [
             0.6666666666666666,
             "#ed7953"
            ],
            [
             0.7777777777777778,
             "#fb9f3a"
            ],
            [
             0.8888888888888888,
             "#fdca26"
            ],
            [
             1,
             "#f0f921"
            ]
           ]
          },
          "colorway": [
           "#636efa",
           "#EF553B",
           "#00cc96",
           "#ab63fa",
           "#FFA15A",
           "#19d3f3",
           "#FF6692",
           "#B6E880",
           "#FF97FF",
           "#FECB52"
          ],
          "font": {
           "color": "#2a3f5f"
          },
          "geo": {
           "bgcolor": "white",
           "lakecolor": "white",
           "landcolor": "#E5ECF6",
           "showlakes": true,
           "showland": true,
           "subunitcolor": "white"
          },
          "hoverlabel": {
           "align": "left"
          },
          "hovermode": "closest",
          "mapbox": {
           "style": "light"
          },
          "paper_bgcolor": "white",
          "plot_bgcolor": "#E5ECF6",
          "polar": {
           "angularaxis": {
            "gridcolor": "white",
            "linecolor": "white",
            "ticks": ""
           },
           "bgcolor": "#E5ECF6",
           "radialaxis": {
            "gridcolor": "white",
            "linecolor": "white",
            "ticks": ""
           }
          },
          "scene": {
           "xaxis": {
            "backgroundcolor": "#E5ECF6",
            "gridcolor": "white",
            "gridwidth": 2,
            "linecolor": "white",
            "showbackground": true,
            "ticks": "",
            "zerolinecolor": "white"
           },
           "yaxis": {
            "backgroundcolor": "#E5ECF6",
            "gridcolor": "white",
            "gridwidth": 2,
            "linecolor": "white",
            "showbackground": true,
            "ticks": "",
            "zerolinecolor": "white"
           },
           "zaxis": {
            "backgroundcolor": "#E5ECF6",
            "gridcolor": "white",
            "gridwidth": 2,
            "linecolor": "white",
            "showbackground": true,
            "ticks": "",
            "zerolinecolor": "white"
           }
          },
          "shapedefaults": {
           "line": {
            "color": "#2a3f5f"
           }
          },
          "ternary": {
           "aaxis": {
            "gridcolor": "white",
            "linecolor": "white",
            "ticks": ""
           },
           "baxis": {
            "gridcolor": "white",
            "linecolor": "white",
            "ticks": ""
           },
           "bgcolor": "#E5ECF6",
           "caxis": {
            "gridcolor": "white",
            "linecolor": "white",
            "ticks": ""
           }
          },
          "title": {
           "x": 0.05
          },
          "xaxis": {
           "automargin": true,
           "gridcolor": "white",
           "linecolor": "white",
           "ticks": "",
           "title": {
            "standoff": 15
           },
           "zerolinecolor": "white",
           "zerolinewidth": 2
          },
          "yaxis": {
           "automargin": true,
           "gridcolor": "white",
           "linecolor": "white",
           "ticks": "",
           "title": {
            "standoff": 15
           },
           "zerolinecolor": "white",
           "zerolinewidth": 2
          }
         }
        },
        "title": {
         "font": {
          "color": "#2c3e50",
          "family": "Inter, Segoe UI, Arial, sans-serif",
          "size": 24
         },
         "text": "<b>Prescription Analysis</b><br><sub>Total Difference vs Prescription Count</sub>",
         "x": 0.5,
         "xanchor": "center"
        },
        "width": 1400,
        "xaxis": {
         "anchor": "y",
         "domain": [
          0,
          1
         ],
         "gridcolor": "rgba(189, 195, 199, 0.3)",
         "gridwidth": 1,
         "linecolor": "rgba(149, 165, 166, 0.5)",
         "linewidth": 1,
         "showline": true,
         "tickfont": {
          "color": "#7f8c8d",
          "size": 12
         },
         "tickformat": "~s",
         "title": {
          "font": {
           "color": "#34495e",
           "family": "Inter, Segoe UI, Arial, sans-serif",
           "size": 16
          },
          "text": "<b>Prescription Count</b> (log scale)"
         },
         "type": "log"
        },
        "yaxis": {
         "anchor": "x",
         "domain": [
          0,
          1
         ],
         "gridcolor": "rgba(189, 195, 199, 0.3)",
         "gridwidth": 1,
         "linecolor": "rgba(149, 165, 166, 0.5)",
         "linewidth": 1,
         "showline": true,
         "tickfont": {
          "color": "#7f8c8d",
          "size": 12
         },
         "tickformat": "$~s",
         "title": {
          "font": {
           "color": "#34495e",
           "family": "Inter, Segoe UI, Arial, sans-serif",
           "size": 16
          },
          "text": "<b>Total Difference</b> ($, log scale)"
         },
         "type": "log"
        }
       }
      }
     },
     "metadata": {},
     "output_type": "display_data"
    }
   ],
   "source": [
    "date_id = 120\n",
    "state_filter = 'XX'  # Example state filter, replace with actual state code if needed\n",
    "df = fetch_data(date_id, 'XX', ['product_group']).collect()\n",
    "\n",
    "def scatter_plot(df: pl.DataFrame):\n",
    "    fig = px.scatter(\n",
    "        df,\n",
    "        x='rx_count',\n",
    "        y='total_diff_abs',\n",
    "        size='total_diff_abs',\n",
    "        color='percent_change',\n",
    "        title='Prescription Analysis: Total Difference vs Prescription Count',\n",
    "        log_x=True,\n",
    "        log_y=True,\n",
    "        size_max=60,  # Slightly smaller max size to reduce overlap\n",
    "        color_continuous_scale='Spectral_r',  # High contrast color scale for better visibility\n",
    "    )\n",
    "\n",
    "    # Custom hovertemplate\n",
    "    hovertemplate = (\n",
    "        \"<b>Product:</b> %{customdata[0]}<br>\"\n",
    "        \"<b>Classification:</b> %{customdata[1]}<br>\"\n",
    "        \"<b>Avg Unit Change:</b> %{customdata[2]:$.2f}<br>\"\n",
    "        \"<b>Avg New NADAC:</b> %{customdata[3]:$.2f}<br>\"\n",
    "        \"<b>Avg Old NADAC:</b> %{customdata[4]:$.2f}<br>\"\n",
    "        \"<b>Total Diff:</b> %{customdata[5]:$,.0f}<br>\"\n",
    "        \"<b>Avg Diff Per Rx:</b> %{customdata[6]:$.2f}<br>\"\n",
    "        \"<b>Rx Count:</b> %{customdata[7]:,.0f}<br>\"\n",
    "        \"<b>Units:</b> %{customdata[8]:,.0f}<br>\"\n",
    "        \"<b>Avg Percent Change:</b> %{customdata[9]:.1%}<br>\"\n",
    "        \"<extra></extra>\"\n",
    "    )    # Prepare customdata for hovertemplate\n",
    "    fig.update_traces(\n",
    "        customdata=df[[\n",
    "            'product_group',\n",
    "            'classification',\n",
    "            'avg_unit_change',\n",
    "            'avg_new_nadac',\n",
    "            'avg_old_nadac',\n",
    "            'total_diff',\n",
    "            'diff_per_rx',\n",
    "            'rx_count',\n",
    "            'units',\n",
    "            'percent_change'\n",
    "        ]].to_numpy(),        hovertemplate=hovertemplate,\n",
    "        marker={\n",
    "            'sizemin': 5,\n",
    "              # Slightly smaller max size to reduce overlap\n",
    "            'line': {'width': 2, 'color': 'rgba(44, 62, 80, 0.9)'},  # Darker, thicker borders\n",
    "            'opacity': 0.7  # Reduced opacity to see overlapping bubbles\n",
    "        },\n",
    "    )\n",
    "\n",
    "    fig.update_layout(\n",
    "        title={\n",
    "            'text': '<b>Prescription Analysis</b><br><sub>Total Difference vs Prescription Count</sub>',\n",
    "            'x': 0.5,\n",
    "            'xanchor': 'center',\n",
    "            'font': {'size': 24, 'family': 'Inter, Segoe UI, Arial, sans-serif', 'color': '#2c3e50'}\n",
    "        },\n",
    "        xaxis={\n",
    "            'title': {\n",
    "                'text': '<b>Prescription Count</b> (log scale)', \n",
    "                'font': {'size': 16, 'family': 'Inter, Segoe UI, Arial, sans-serif', 'color': '#34495e'}\n",
    "            },\n",
    "            'tickformat': '~s',\n",
    "            'gridcolor': 'rgba(189, 195, 199, 0.3)',\n",
    "            'gridwidth': 1,\n",
    "            'showline': True,\n",
    "            'linecolor': 'rgba(149, 165, 166, 0.5)',\n",
    "            'linewidth': 1,\n",
    "            'tickfont': {'size': 12, 'color': '#7f8c8d'}\n",
    "        },\n",
    "        yaxis={\n",
    "            'title': {\n",
    "                'text': '<b>Total Difference</b> ($, log scale)', \n",
    "                'font': {'size': 16, 'family': 'Inter, Segoe UI, Arial, sans-serif', 'color': '#34495e'}\n",
    "            },\n",
    "            'tickformat': '$~s',\n",
    "            'gridcolor': 'rgba(189, 195, 199, 0.3)',\n",
    "            'gridwidth': 1,\n",
    "            'showline': True,\n",
    "            'linecolor': 'rgba(149, 165, 166, 0.5)',\n",
    "            'linewidth': 1,\n",
    "            'tickfont': {'size': 12, 'color': '#7f8c8d'}\n",
    "        },        coloraxis={\n",
    "            'cmin': -1,\n",
    "            'cmax': 1,\n",
    "            'colorscale': 'Spectral_r',  # High contrast color scale\n",
    "            'colorbar': {\n",
    "                'title': {\n",
    "                    'text': '<b>Percent Change</b>', \n",
    "                    'font': {'size': 14, 'family': 'Inter, Segoe UI, Arial, sans-serif', 'color': '#2c3e50'}\n",
    "                },\n",
    "                'tickformat': '.0%',\n",
    "                'orientation': 'h',\n",
    "                'x': 0.5,\n",
    "                'y': -0.25,\n",
    "                'len': 0.8,\n",
    "                'thickness': 20,\n",
    "                'tickfont': {'size': 11, 'color': '#7f8c8d'},\n",
    "                'bordercolor': 'rgba(149, 165, 166, 0.3)',\n",
    "                'borderwidth': 1\n",
    "            }\n",
    "        },\n",
    "        plot_bgcolor='rgba(255, 255, 255, 0.95)',  # Nearly white background for better contrast\n",
    "        paper_bgcolor='white',\n",
    "        font={'family': 'Inter, Segoe UI, Arial, sans-serif', 'size': 12, 'color': '#2c3e50'},\n",
    "        margin={'l': 90, 'r': 90, 't': 120, 'b': 120},        width=1400,\n",
    "        height=700,\n",
    "        showlegend=False,\n",
    "        # Configure hover mode for better interaction with overlapping points\n",
    "        hovermode='closest',\n",
    "        # Add subtle shadow effect\n",
    "        annotations=[\n",
    "            dict(\n",
    "                text=\"\",\n",
    "                showarrow=False,\n",
    "                xref=\"paper\", yref=\"paper\",\n",
    "                x=0, y=0, xanchor='left', yanchor='bottom',\n",
    "                xshift=-5, yshift=-5,\n",
    "                bordercolor=\"rgba(0,0,0,0.1)\",\n",
    "                borderwidth=1,\n",
    "                bgcolor=\"rgba(0,0,0,0.02)\",\n",
    "                width=1410, height=710\n",
    "            )\n",
    "        ]\n",
    "    )\n",
    "\n",
    "    return fig\n",
    "scatter_plot(df)"
   ]
  },
  {
   "cell_type": "code",
   "execution_count": null,
   "id": "5f79cd5f",
   "metadata": {},
   "outputs": [
    {
     "ename": "TypeError",
     "evalue": "bar_chart() missing 1 required positional argument: 'df'",
     "output_type": "error",
     "traceback": [
      "\u001b[1;31m---------------------------------------------------------------------------\u001b[0m",
      "\u001b[1;31mTypeError\u001b[0m                                 Traceback (most recent call last)",
      "Cell \u001b[1;32mIn[4], line 111\u001b[0m\n\u001b[0;32m     51\u001b[0m     fig\u001b[38;5;241m.\u001b[39mupdate_layout(\n\u001b[0;32m     52\u001b[0m         title\u001b[38;5;241m=\u001b[39m{\n\u001b[0;32m     53\u001b[0m             \u001b[38;5;124m\"\u001b[39m\u001b[38;5;124mtext\u001b[39m\u001b[38;5;124m\"\u001b[39m: \u001b[38;5;124m\"\u001b[39m\u001b[38;5;124m<b>Product-level Total Difference</b><br><sub>Diverging Bar Chart</sub>\u001b[39m\u001b[38;5;124m\"\u001b[39m,\n\u001b[1;32m   (...)\u001b[0m\n\u001b[0;32m    106\u001b[0m         hovermode\u001b[38;5;241m=\u001b[39m\u001b[38;5;124m\"\u001b[39m\u001b[38;5;124mclosest\u001b[39m\u001b[38;5;124m\"\u001b[39m\n\u001b[0;32m    107\u001b[0m     )\n\u001b[0;32m    109\u001b[0m     fig\u001b[38;5;241m.\u001b[39mshow()\n\u001b[1;32m--> 111\u001b[0m \u001b[43mbar_chart\u001b[49m\u001b[43m(\u001b[49m\u001b[43m)\u001b[49m\n",
      "\u001b[1;31mTypeError\u001b[0m: bar_chart() missing 1 required positional argument: 'df'"
     ]
    }
   ],
   "source": [
    "date_id = 120\n",
    "state_filter = 'XX'\n",
    "product_group_filter = 'Levothyroxine'  # Example state filter, replace with actual state code if needed\n",
    "df = fetch_data(date_id, 'XX', ['product', ], product_group_filter=product_group_filter).collect()\n",
    "\n",
    "def bar_chart(df):\n",
    "    fig = px.bar(\n",
    "        df.to_pandas(),\n",
    "        x=\"total_diff\",\n",
    "        y=\"product\",\n",
    "        color=\"percent_change\",\n",
    "        color_continuous_scale=\"Spectral_r\",\n",
    "        orientation=\"h\",\n",
    "        title=\"Product-level Total Difference (Diverging Bar Chart)\",\n",
    "        text=\"total_diff\",\n",
    "    )\n",
    "\n",
    "    fig.update_traces(\n",
    "        texttemplate=\"%{x:$,.0f}\",\n",
    "        textposition=\"outside\",\n",
    "        marker_line_width=2,\n",
    "        marker_line_color=\"rgba(44, 62, 80, 0.9)\",\n",
    "        opacity=0.8,\n",
    "        customdata=df.select([\n",
    "            \"product\",\n",
    "            \"classification\",\n",
    "            \"avg_unit_change\",\n",
    "            \"avg_new_nadac\",\n",
    "            \"avg_old_nadac\",\n",
    "            \"total_diff\",\n",
    "            \"diff_per_rx\",\n",
    "            \"rx_count\",\n",
    "            \"units\",\n",
    "            \"percent_change\"\n",
    "        ]).to_numpy(),\n",
    "        hovertemplate=(\n",
    "            \"<b>Product:</b> %{customdata[0]}<br>\"\n",
    "            \"<b>Classification:</b> %{customdata[1]}<br>\"\n",
    "            \"<b>Avg Unit Change:</b> %{customdata[2]:$.2f}<br>\"\n",
    "            \"<b>Avg New NADAC:</b> %{customdata[3]:$.2f}<br>\"\n",
    "            \"<b>Avg Old NADAC:</b> %{customdata[4]:$.2f}<br>\"\n",
    "            \"<b>Total Diff:</b> %{customdata[5]:$,.0f}<br>\"\n",
    "            \"<b>Avg Diff Per Rx:</b> %{customdata[6]:$.2f}<br>\"\n",
    "            \"<b>Rx Count:</b> %{customdata[7]:,.0f}<br>\"\n",
    "            \"<b>Units:</b> %{customdata[8]:,.0f}<br>\"\n",
    "            \"<b>Avg Percent Change:</b> %{customdata[9]:.1%}<br>\"\n",
    "            \"<extra></extra>\"\n",
    "        )\n",
    "    )\n",
    "\n",
    "    fig.update_layout(\n",
    "        title={\n",
    "            \"text\": \"<b>Product-level Total Difference</b><br><sub>Diverging Bar Chart</sub>\",\n",
    "            \"x\": 0.5,\n",
    "            \"xanchor\": \"center\",\n",
    "            \"font\": {\"size\": 22, \"family\": \"Inter, Segoe UI, Arial, sans-serif\", \"color\": \"#2c3e50\"}\n",
    "        },\n",
    "        xaxis={\n",
    "            \"title\": {\n",
    "                \"text\": \"<b>Total Difference</b> ($)\",\n",
    "                \"font\": {\"size\": 16, \"family\": \"Inter, Segoe UI, Arial, sans-serif\", \"color\": \"#34495e\"}\n",
    "            },\n",
    "            \"tickformat\": \"$~s\",\n",
    "            \"gridcolor\": \"rgba(189, 195, 199, 0.3)\",\n",
    "            \"gridwidth\": 1,\n",
    "            \"showline\": True,\n",
    "            \"linecolor\": \"rgba(149, 165, 166, 0.5)\",\n",
    "            \"linewidth\": 1,\n",
    "            \"tickfont\": {\"size\": 12, \"color\": \"#7f8c8d\"}\n",
    "        },\n",
    "        yaxis={\n",
    "            \"title\": {\n",
    "                \"text\": \"<b>Product</b>\",\n",
    "                \"font\": {\"size\": 16, \"family\": \"Inter, Segoe UI, Arial, sans-serif\", \"color\": \"#34495e\"}\n",
    "            },\n",
    "            \"tickfont\": {\"size\": 12, \"color\": \"#7f8c8d\"},\n",
    "            \"categoryorder\": \"total ascending\"\n",
    "        },\n",
    "        coloraxis={\n",
    "            \"cmin\": -1,\n",
    "            \"cmax\": 1,\n",
    "            \"colorscale\": \"Spectral_r\",\n",
    "            \"colorbar\": {\n",
    "                \"title\": {\n",
    "                    \"text\": \"<b>Percent Change</b>\",\n",
    "                    \"font\": {\"size\": 14, \"family\": \"Inter, Segoe UI, Arial, sans-serif\", \"color\": \"#2c3e50\"}\n",
    "                },\n",
    "                \"tickformat\": \".0%\",\n",
    "                \"orientation\": \"h\",\n",
    "                \"x\": 0.5,\n",
    "                \"y\": -0.25,\n",
    "                \"len\": 0.8,\n",
    "                \"thickness\": 20,\n",
    "                \"tickfont\": {\"size\": 11, \"color\": \"#7f8c8d\"},\n",
    "                \"bordercolor\": \"rgba(149, 165, 166, 0.3)\",\n",
    "                \"borderwidth\": 1\n",
    "            }\n",
    "        },\n",
    "        plot_bgcolor=\"rgba(255, 255, 255, 0.95)\",\n",
    "        paper_bgcolor=\"white\",\n",
    "        font={\"family\": \"Inter, Segoe UI, Arial, sans-serif\", \"size\": 12, \"color\": \"#2c3e50\"},\n",
    "        margin={\"l\": 120, \"r\": 60, \"t\": 100, \"b\": 80},\n",
    "        width=1200,\n",
    "        height=600,\n",
    "        showlegend=False,\n",
    "        hovermode=\"closest\"\n",
    "    )\n",
    "\n",
    "    fig.show()\n",
    "\n",
    "bar_chart()\n"
   ]
  },
  {
   "cell_type": "code",
   "execution_count": 5,
   "id": "4ec004a4",
   "metadata": {},
   "outputs": [
    {
     "data": {
      "text/plain": [
       "{'product': str,\n",
       " 'units': float,\n",
       " 'rx_count': float,\n",
       " 'total_diff': int,\n",
       " 'new_nadac': float,\n",
       " 'old_nadac': float,\n",
       " 'avg_new_nadac': float,\n",
       " 'avg_old_nadac': float,\n",
       " 'diff_per_rx': float,\n",
       " 'total_diff_abs': int,\n",
       " 'diff_per_rx_abs': float,\n",
       " 'classification': str,\n",
       " 'avg_unit_change': float,\n",
       " 'percent_change': float}"
      ]
     },
     "execution_count": 5,
     "metadata": {},
     "output_type": "execute_result"
    }
   ],
   "source": [
    "df.schema.to_python()"
   ]
  },
  {
   "cell_type": "code",
   "execution_count": 9,
   "id": "e4e05477",
   "metadata": {},
   "outputs": [
    {
     "data": {
      "application/vnd.microsoft.datawrangler.viewer.v0+json": {
       "columns": [
        {
         "name": "index",
         "rawType": "int64",
         "type": "integer"
        },
        {
         "name": "product_group",
         "rawType": "object",
         "type": "string"
        },
        {
         "name": "units",
         "rawType": "float64",
         "type": "float"
        },
        {
         "name": "rx_count",
         "rawType": "float64",
         "type": "float"
        },
        {
         "name": "total_diff",
         "rawType": "int64",
         "type": "integer"
        },
        {
         "name": "new_nadac",
         "rawType": "float64",
         "type": "float"
        },
        {
         "name": "old_nadac",
         "rawType": "float64",
         "type": "float"
        },
        {
         "name": "avg_new_nadac",
         "rawType": "float64",
         "type": "float"
        },
        {
         "name": "avg_old_nadac",
         "rawType": "float64",
         "type": "float"
        },
        {
         "name": "diff_per_rx",
         "rawType": "float64",
         "type": "float"
        },
        {
         "name": "total_diff_abs",
         "rawType": "int64",
         "type": "integer"
        },
        {
         "name": "diff_per_rx_abs",
         "rawType": "float64",
         "type": "float"
        },
        {
         "name": "classification",
         "rawType": "object",
         "type": "string"
        },
        {
         "name": "avg_unit_change",
         "rawType": "float64",
         "type": "float"
        },
        {
         "name": "percent_change",
         "rawType": "float64",
         "type": "float"
        }
       ],
       "ref": "29f4652b-120c-4626-bf02-aac6ab045842",
       "rows": [
        [
         "0",
         "Disulfiram",
         "122653.0",
         "4734.0",
         "-4",
         "1633110.02",
         "219247.42",
         "13.3149",
         "1.7875",
         "-0.0",
         "4",
         "0.0",
         "Decrease",
         "11.53",
         "6.4487"
        ]
       ],
       "shape": {
        "columns": 14,
        "rows": 1
       }
      },
      "text/html": [
       "<div>\n",
       "<style scoped>\n",
       "    .dataframe tbody tr th:only-of-type {\n",
       "        vertical-align: middle;\n",
       "    }\n",
       "\n",
       "    .dataframe tbody tr th {\n",
       "        vertical-align: top;\n",
       "    }\n",
       "\n",
       "    .dataframe thead th {\n",
       "        text-align: right;\n",
       "    }\n",
       "</style>\n",
       "<table border=\"1\" class=\"dataframe\">\n",
       "  <thead>\n",
       "    <tr style=\"text-align: right;\">\n",
       "      <th></th>\n",
       "      <th>product_group</th>\n",
       "      <th>units</th>\n",
       "      <th>rx_count</th>\n",
       "      <th>total_diff</th>\n",
       "      <th>new_nadac</th>\n",
       "      <th>old_nadac</th>\n",
       "      <th>avg_new_nadac</th>\n",
       "      <th>avg_old_nadac</th>\n",
       "      <th>diff_per_rx</th>\n",
       "      <th>total_diff_abs</th>\n",
       "      <th>diff_per_rx_abs</th>\n",
       "      <th>classification</th>\n",
       "      <th>avg_unit_change</th>\n",
       "      <th>percent_change</th>\n",
       "    </tr>\n",
       "  </thead>\n",
       "  <tbody>\n",
       "    <tr>\n",
       "      <th>0</th>\n",
       "      <td>Disulfiram</td>\n",
       "      <td>122653.0</td>\n",
       "      <td>4734.0</td>\n",
       "      <td>-4</td>\n",
       "      <td>1633110.02</td>\n",
       "      <td>219247.42</td>\n",
       "      <td>13.3149</td>\n",
       "      <td>1.7875</td>\n",
       "      <td>-0.0</td>\n",
       "      <td>4</td>\n",
       "      <td>0.0</td>\n",
       "      <td>Decrease</td>\n",
       "      <td>11.53</td>\n",
       "      <td>6.4487</td>\n",
       "    </tr>\n",
       "  </tbody>\n",
       "</table>\n",
       "</div>"
      ],
      "text/plain": [
       "  product_group     units  rx_count  total_diff   new_nadac  old_nadac  \\\n",
       "0    Disulfiram  122653.0    4734.0          -4  1633110.02  219247.42   \n",
       "\n",
       "   avg_new_nadac  avg_old_nadac  diff_per_rx  total_diff_abs  diff_per_rx_abs  \\\n",
       "0        13.3149         1.7875         -0.0               4              0.0   \n",
       "\n",
       "  classification  avg_unit_change  percent_change  \n",
       "0       Decrease            11.53          6.4487  "
      ]
     },
     "execution_count": 9,
     "metadata": {},
     "output_type": "execute_result"
    }
   ],
   "source": [
    "date_id = 146\n",
    "state_filter = 'XX'  # Example state filter, replace with actual state code if needed\n",
    "df = fetch_data(date_id, 'XX', ['product_group'], product_group_filter='Disulfiram').sort('total_diff',descending=True).collect()\n",
    "df.to_pandas()"
   ]
  },
  {
   "cell_type": "code",
   "execution_count": 14,
   "id": "aa396ebb",
   "metadata": {},
   "outputs": [
    {
     "data": {
      "application/vnd.microsoft.datawrangler.viewer.v0+json": {
       "columns": [
        {
         "name": "index",
         "rawType": "int64",
         "type": "integer"
        },
        {
         "name": "state",
         "rawType": "object",
         "type": "string"
        },
        {
         "name": "ndc",
         "rawType": "object",
         "type": "string"
        },
        {
         "name": "units",
         "rawType": "float64",
         "type": "float"
        },
        {
         "name": "rx_count",
         "rawType": "float64",
         "type": "float"
        },
        {
         "name": "product",
         "rawType": "object",
         "type": "string"
        },
        {
         "name": "product_group",
         "rawType": "object",
         "type": "string"
        },
        {
         "name": "unit_price",
         "rawType": "float32",
         "type": "float"
        },
        {
         "name": "effective_date",
         "rawType": "datetime64[ms]",
         "type": "unknown"
        },
        {
         "name": "year",
         "rawType": "int32",
         "type": "integer"
        },
        {
         "name": "previous_unit_price",
         "rawType": "float32",
         "type": "float"
        },
        {
         "name": "date_id",
         "rawType": "uint32",
         "type": "integer"
        },
        {
         "name": "effective_date_right",
         "rawType": "datetime64[ms]",
         "type": "unknown"
        }
       ],
       "ref": "232a6cc6-383e-4bbc-8329-d95d78cd5993",
       "rows": [
        [
         "0",
         "XX",
         "42794002908",
         "16466.0",
         "645.0",
         "Disulfiram Tab 500 MG",
         "Disulfiram",
         "13.31488",
         "2025-04-23 00:00:00",
         "2025",
         "13.31516",
         "146",
         "2025-04-01 00:00:00"
        ],
        [
         "1",
         "XX",
         "62135043230",
         "84139.0",
         "3255.0",
         "Disulfiram Tab 500 MG",
         "Disulfiram",
         "13.31488",
         "2025-04-23 00:00:00",
         "2025",
         null,
         "146",
         "2025-04-01 00:00:00"
        ],
        [
         "2",
         "XX",
         "62135043290",
         "22048.0",
         "834.0",
         "Disulfiram Tab 500 MG",
         "Disulfiram",
         "13.31488",
         "2025-04-23 00:00:00",
         "2025",
         null,
         "146",
         "2025-04-01 00:00:00"
        ]
       ],
       "shape": {
        "columns": 12,
        "rows": 3
       }
      },
      "text/html": [
       "<div>\n",
       "<style scoped>\n",
       "    .dataframe tbody tr th:only-of-type {\n",
       "        vertical-align: middle;\n",
       "    }\n",
       "\n",
       "    .dataframe tbody tr th {\n",
       "        vertical-align: top;\n",
       "    }\n",
       "\n",
       "    .dataframe thead th {\n",
       "        text-align: right;\n",
       "    }\n",
       "</style>\n",
       "<table border=\"1\" class=\"dataframe\">\n",
       "  <thead>\n",
       "    <tr style=\"text-align: right;\">\n",
       "      <th></th>\n",
       "      <th>state</th>\n",
       "      <th>ndc</th>\n",
       "      <th>units</th>\n",
       "      <th>rx_count</th>\n",
       "      <th>product</th>\n",
       "      <th>product_group</th>\n",
       "      <th>unit_price</th>\n",
       "      <th>effective_date</th>\n",
       "      <th>year</th>\n",
       "      <th>previous_unit_price</th>\n",
       "      <th>date_id</th>\n",
       "      <th>effective_date_right</th>\n",
       "    </tr>\n",
       "  </thead>\n",
       "  <tbody>\n",
       "    <tr>\n",
       "      <th>0</th>\n",
       "      <td>XX</td>\n",
       "      <td>42794002908</td>\n",
       "      <td>16466.0</td>\n",
       "      <td>645.0</td>\n",
       "      <td>Disulfiram Tab 500 MG</td>\n",
       "      <td>Disulfiram</td>\n",
       "      <td>13.31488</td>\n",
       "      <td>2025-04-23</td>\n",
       "      <td>2025</td>\n",
       "      <td>13.31516</td>\n",
       "      <td>146</td>\n",
       "      <td>2025-04-01</td>\n",
       "    </tr>\n",
       "    <tr>\n",
       "      <th>1</th>\n",
       "      <td>XX</td>\n",
       "      <td>62135043230</td>\n",
       "      <td>84139.0</td>\n",
       "      <td>3255.0</td>\n",
       "      <td>Disulfiram Tab 500 MG</td>\n",
       "      <td>Disulfiram</td>\n",
       "      <td>13.31488</td>\n",
       "      <td>2025-04-23</td>\n",
       "      <td>2025</td>\n",
       "      <td>NaN</td>\n",
       "      <td>146</td>\n",
       "      <td>2025-04-01</td>\n",
       "    </tr>\n",
       "    <tr>\n",
       "      <th>2</th>\n",
       "      <td>XX</td>\n",
       "      <td>62135043290</td>\n",
       "      <td>22048.0</td>\n",
       "      <td>834.0</td>\n",
       "      <td>Disulfiram Tab 500 MG</td>\n",
       "      <td>Disulfiram</td>\n",
       "      <td>13.31488</td>\n",
       "      <td>2025-04-23</td>\n",
       "      <td>2025</td>\n",
       "      <td>NaN</td>\n",
       "      <td>146</td>\n",
       "      <td>2025-04-01</td>\n",
       "    </tr>\n",
       "  </tbody>\n",
       "</table>\n",
       "</div>"
      ],
      "text/plain": [
       "  state          ndc    units  rx_count                product product_group  \\\n",
       "0    XX  42794002908  16466.0     645.0  Disulfiram Tab 500 MG    Disulfiram   \n",
       "1    XX  62135043230  84139.0    3255.0  Disulfiram Tab 500 MG    Disulfiram   \n",
       "2    XX  62135043290  22048.0     834.0  Disulfiram Tab 500 MG    Disulfiram   \n",
       "\n",
       "   unit_price effective_date  year  previous_unit_price  date_id  \\\n",
       "0    13.31488     2025-04-23  2025             13.31516      146   \n",
       "1    13.31488     2025-04-23  2025                  NaN      146   \n",
       "2    13.31488     2025-04-23  2025                  NaN      146   \n",
       "\n",
       "  effective_date_right  \n",
       "0           2025-04-01  \n",
       "1           2025-04-01  \n",
       "2           2025-04-01  "
      ]
     },
     "execution_count": 14,
     "metadata": {},
     "output_type": "execute_result"
    }
   ],
   "source": [
    "from helpers import load_sdud, load_nadac, load_medispan\n",
    "sdud = load_sdud().filter(c.state == 'XX')\n",
    "nadac = load_nadac().filter(c.date_id == 146)\n",
    "m = load_medispan().select(c.ndc, c.gpi_14_name.alias('product'), c.gpi_10_generic_name.alias('product_group'))\n",
    "sdud.join(m,on='ndc').filter(c.product_group == 'Disulfiram').join(nadac, on='ndc').collect().to_pandas()"
   ]
  },
  {
   "cell_type": "code",
   "execution_count": 21,
   "id": "ec37cbf2",
   "metadata": {},
   "outputs": [
    {
     "data": {
      "text/html": [
       "<div><style>\n",
       ".dataframe > thead > tr,\n",
       ".dataframe > tbody > tr {\n",
       "  text-align: right;\n",
       "  white-space: pre-wrap;\n",
       "}\n",
       "</style>\n",
       "<small>shape: (5, 7)</small><table border=\"1\" class=\"dataframe\"><thead><tr><th>ndc</th><th>unit_price</th><th>effective_date</th><th>year</th><th>previous_unit_price</th><th>date_id</th><th>effective_date_right</th></tr><tr><td>str</td><td>f32</td><td>date</td><td>i32</td><td>f32</td><td>u32</td><td>date</td></tr></thead><tbody><tr><td>&quot;62135043230&quot;</td><td>12.97255</td><td>2024-04-17</td><td>2024</td><td>null</td><td>134</td><td>2024-04-01</td></tr><tr><td>&quot;62135043230&quot;</td><td>13.31433</td><td>2025-02-19</td><td>2025</td><td>12.97255</td><td>144</td><td>2025-02-01</td></tr><tr><td>&quot;62135043230&quot;</td><td>13.31473</td><td>2025-03-19</td><td>2025</td><td>13.31433</td><td>145</td><td>2025-03-01</td></tr><tr><td>&quot;62135043230&quot;</td><td>13.31488</td><td>2025-04-23</td><td>2025</td><td>13.31473</td><td>146</td><td>2025-04-01</td></tr><tr><td>&quot;62135043230&quot;</td><td>13.31516</td><td>2025-05-21</td><td>2025</td><td>13.31488</td><td>147</td><td>2025-05-01</td></tr></tbody></table></div>"
      ],
      "text/plain": [
       "shape: (5, 7)\n",
       "┌─────────────┬────────────┬────────────────┬──────┬──────────────────┬─────────┬──────────────────┐\n",
       "│ ndc         ┆ unit_price ┆ effective_date ┆ year ┆ previous_unit_pr ┆ date_id ┆ effective_date_r │\n",
       "│ ---         ┆ ---        ┆ ---            ┆ ---  ┆ ice              ┆ ---     ┆ ight             │\n",
       "│ str         ┆ f32        ┆ date           ┆ i32  ┆ ---              ┆ u32     ┆ ---              │\n",
       "│             ┆            ┆                ┆      ┆ f32              ┆         ┆ date             │\n",
       "╞═════════════╪════════════╪════════════════╪══════╪══════════════════╪═════════╪══════════════════╡\n",
       "│ 62135043230 ┆ 12.97255   ┆ 2024-04-17     ┆ 2024 ┆ null             ┆ 134     ┆ 2024-04-01       │\n",
       "│ 62135043230 ┆ 13.31433   ┆ 2025-02-19     ┆ 2025 ┆ 12.97255         ┆ 144     ┆ 2025-02-01       │\n",
       "│ 62135043230 ┆ 13.31473   ┆ 2025-03-19     ┆ 2025 ┆ 13.31433         ┆ 145     ┆ 2025-03-01       │\n",
       "│ 62135043230 ┆ 13.31488   ┆ 2025-04-23     ┆ 2025 ┆ 13.31473         ┆ 146     ┆ 2025-04-01       │\n",
       "│ 62135043230 ┆ 13.31516   ┆ 2025-05-21     ┆ 2025 ┆ 13.31488         ┆ 147     ┆ 2025-05-01       │\n",
       "└─────────────┴────────────┴────────────────┴──────┴──────────────────┴─────────┴──────────────────┘"
      ]
     },
     "execution_count": 21,
     "metadata": {},
     "output_type": "execute_result"
    }
   ],
   "source": [
    "load_nadac().filter(c.ndc == '62135043230').sort(c.date_id).collect()"
   ]
  },
  {
   "cell_type": "code",
   "execution_count": null,
   "id": "b21fe808",
   "metadata": {},
   "outputs": [],
   "source": []
  }
 ],
 "metadata": {
  "kernelspec": {
   "display_name": ".venv",
   "language": "python",
   "name": "python3"
  },
  "language_info": {
   "codemirror_mode": {
    "name": "ipython",
    "version": 3
   },
   "file_extension": ".py",
   "mimetype": "text/x-python",
   "name": "python",
   "nbconvert_exporter": "python",
   "pygments_lexer": "ipython3",
   "version": "3.10.16"
  }
 },
 "nbformat": 4,
 "nbformat_minor": 5
}
