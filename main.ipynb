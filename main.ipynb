{
 "cells": [
  {
   "cell_type": "code",
   "execution_count": 1,
   "id": "f2395af2",
   "metadata": {},
   "outputs": [],
   "source": [
    "from helpers import fetch_data\n",
    "import polars as pl\n",
    "import pandas as pd\n",
    "from polars import col as c\n",
    "import polars as pl\n",
    "from polars import col as c\n",
    "import polars.selectors as cs\n",
    "import plotly.express as px"
   ]
  },
  {
   "cell_type": "code",
   "execution_count": 14,
   "id": "931810de",
   "metadata": {},
   "outputs": [
    {
     "data": {
      "application/vnd.microsoft.datawrangler.viewer.v0+json": {
       "columns": [
        {
         "name": "index",
         "rawType": "int64",
         "type": "integer"
        },
        {
         "name": "product_group",
         "rawType": "object",
         "type": "string"
        },
        {
         "name": "units",
         "rawType": "float64",
         "type": "float"
        },
        {
         "name": "rx_count",
         "rawType": "float64",
         "type": "float"
        },
        {
         "name": "total_diff",
         "rawType": "int64",
         "type": "integer"
        },
        {
         "name": "new_nadac",
         "rawType": "float64",
         "type": "float"
        },
        {
         "name": "old_nadac",
         "rawType": "float64",
         "type": "float"
        },
        {
         "name": "avg_new_nadac",
         "rawType": "float64",
         "type": "float"
        },
        {
         "name": "avg_old_nadac",
         "rawType": "float64",
         "type": "float"
        },
        {
         "name": "diff_per_rx",
         "rawType": "float64",
         "type": "float"
        },
        {
         "name": "total_diff_abs",
         "rawType": "int64",
         "type": "integer"
        },
        {
         "name": "diff_per_rx_abs",
         "rawType": "float64",
         "type": "float"
        },
        {
         "name": "classification",
         "rawType": "object",
         "type": "string"
        }
       ],
       "ref": "3691f43a-5c03-4f8a-aa46-fe4ad31db445",
       "rows": [
        [
         "0",
         "Antiemetic Combination - Two Ingredient",
         "1343382.109375",
         "21542.0",
         "-1310680",
         "2944371.26",
         "4255053.21",
         "2.1918",
         "3.1674",
         "-60.84",
         "1310680",
         "60.84",
         "Decrease"
        ],
        [
         "1",
         "Zonisamide",
         "43138241.048828125",
         "385097.0",
         "-418120",
         "4716258.24",
         "5134384.86",
         "0.1093",
         "0.119",
         "-1.09",
         "418120",
         "1.09",
         "Decrease"
        ],
        [
         "2",
         "Benzonatate",
         "74222195.11279297",
         "2391909.0",
         "-957964",
         "7184190.76",
         "8142166.17",
         "0.0968",
         "0.1097",
         "-0.4",
         "957964",
         "0.4",
         "Decrease"
        ],
        [
         "3",
         "Haloperidol",
         "28322187.541015625",
         "571908.0",
         "-1343743",
         "10790166.419999998",
         "12133921.08",
         "0.381",
         "0.4284",
         "-2.35",
         "1343743",
         "2.35",
         "Decrease"
        ],
        [
         "4",
         "Cilostazol",
         "6937953.0",
         "101309.0",
         "-38275",
         "859251.49",
         "897529.1899999998",
         "0.1238",
         "0.1294",
         "-0.38",
         "38275",
         "0.38",
         "Decrease"
        ],
        [
         "5",
         "Selegiline",
         "213828.0",
         "2974.0",
         "-32727",
         "178244.43",
         "210971.63000000003",
         "0.8336",
         "0.9866",
         "-11.0",
         "32727",
         "11.0",
         "Decrease"
        ],
        [
         "6",
         "Norethindrone",
         "12436746.0",
         "248013.0",
         "-534722",
         "4157479.79",
         "4692203.64",
         "0.3343",
         "0.3773",
         "-2.16",
         "534722",
         "2.16",
         "Decrease"
        ],
        [
         "7",
         "Amitriptyline",
         "86088044.17840576",
         "1888862.0",
         "-1540403",
         "6505195.689999998",
         "8045614.15",
         "0.0756",
         "0.0935",
         "-0.82",
         "1540403",
         "0.82",
         "Decrease"
        ],
        [
         "8",
         "Zolmitriptan",
         "227820.0",
         "25685.0",
         "-66057",
         "447419.42",
         "513476.93",
         "1.9639",
         "2.2539",
         "-2.57",
         "66057",
         "2.57",
         "Decrease"
        ],
        [
         "9",
         "Finasteride",
         "15349196.754882812",
         "368696.0",
         "-144953",
         "966408.4199999997",
         "1111371.21",
         "0.063",
         "0.0724",
         "-0.39",
         "144953",
         "0.39",
         "Decrease"
        ],
        [
         "10",
         "Labetalol",
         "54850367.21606445",
         "574833.0",
         "-310340",
         "8506771.11",
         "8746756.29",
         "0.1551",
         "0.1595",
         "-0.54",
         "310340",
         "0.54",
         "Decrease"
        ],
        [
         "11",
         "Sertraline",
         "380125785.0544739",
         "8355329.0",
         "-4374657",
         "29314130.27999998",
         "33688735.43999998",
         "0.0771",
         "0.0886",
         "-0.52",
         "4374657",
         "0.52",
         "Decrease"
        ],
        [
         "12",
         "Diethylpropion",
         "35479.0",
         "886.0",
         "3932",
         "26342.7",
         "22408.74",
         "0.7425",
         "0.6316",
         "4.44",
         "3932",
         "4.44",
         "Increase"
        ],
        [
         "13",
         "Methotrexate",
         "15401334.80078125",
         "485130.0",
         "-1959646",
         "2982006.4000000004",
         "4941658.350000001",
         "0.1936",
         "0.3209",
         "-4.04",
         "1959646",
         "4.04",
         "Decrease"
        ],
        [
         "14",
         "Tolterodine",
         "3538801.1103515625",
         "78964.0",
         "-1023251",
         "1903157.3400000008",
         "2926417.750000001",
         "0.5378",
         "0.827",
         "-12.96",
         "1023251",
         "12.96",
         "Decrease"
        ],
        [
         "15",
         "Ropinirole",
         "31520853.5",
         "590396.0",
         "-237515",
         "2057062.3599999996",
         "2294572.96",
         "0.0653",
         "0.0728",
         "-0.4",
         "237515",
         "0.4",
         "Decrease"
        ],
        [
         "16",
         "Tamsulosin",
         "94302765.21626282",
         "2045830.0",
         "-1066096",
         "5410149.589999999",
         "6476249.2",
         "0.0574",
         "0.0687",
         "-0.52",
         "1066096",
         "0.52",
         "Decrease"
        ],
        [
         "17",
         "Trazodone",
         "303011173.0444336",
         "7170761.0",
         "-3494539",
         "22583990.4",
         "26078537.73000001",
         "0.0745",
         "0.0861",
         "-0.49",
         "3494539",
         "0.49",
         "Decrease"
        ],
        [
         "18",
         "Dextroamphetamine",
         "6093583.0",
         "105751.0",
         "-505151",
         "4385016.57",
         "4890168.11",
         "0.7196",
         "0.8025",
         "-4.78",
         "505151",
         "4.78",
         "Decrease"
        ],
        [
         "19",
         "Thyroid",
         "4454113.0",
         "98104.0",
         "350790",
         "3567252.48",
         "3216460.34",
         "0.8009",
         "0.7221",
         "3.58",
         "350790",
         "3.58",
         "Increase"
        ],
        [
         "20",
         "Naproxen",
         "118471601.25",
         "2760185.0",
         "-530027",
         "11230969.51",
         "11760960.260000004",
         "0.0948",
         "0.0993",
         "-0.19",
         "530027",
         "0.19",
         "Decrease"
        ],
        [
         "21",
         "Choline Fenofibrate",
         "446626.0",
         "10199.0",
         "-34825",
         "206912.9",
         "241739.71",
         "0.4633",
         "0.5413",
         "-3.41",
         "34825",
         "3.41",
         "Decrease"
        ],
        [
         "22",
         "Ibuprofen",
         "482723572.6086426",
         "10847134.0",
         "6367",
         "31413885.30999999",
         "31407528.94000001",
         "0.0651",
         "0.0651",
         "0.0",
         "6367",
         "0.0",
         "Increase"
        ],
        [
         "23",
         "Nadolol",
         "3600227.078918457",
         "71508.0",
         "-743798",
         "988384.5700000001",
         "1611207.0999999996",
         "0.2745",
         "0.4475",
         "-10.4",
         "743798",
         "10.4",
         "Decrease"
        ],
        [
         "24",
         "Enalapril",
         "24916846.663330078",
         "394510.0",
         "143235",
         "2955831.59",
         "2812599.9000000004",
         "0.1186",
         "0.1129",
         "0.36",
         "143235",
         "0.36",
         "Increase"
        ],
        [
         "25",
         "Rifampin",
         "4912822.162200928",
         "81945.0",
         "142528",
         "3423979.9299999997",
         "3281451.38",
         "0.6969",
         "0.6679",
         "1.74",
         "142528",
         "1.74",
         "Increase"
        ],
        [
         "26",
         "Alendronate",
         "4520283.171875",
         "682064.0",
         "-83356",
         "1267790.5",
         "1351151.01",
         "0.2805",
         "0.2989",
         "-0.12",
         "83356",
         "0.12",
         "Decrease"
        ],
        [
         "27",
         "Propafenone",
         "1357605.0471191406",
         "14936.0",
         "-44445",
         "405056.52999999997",
         "418311.3599999999",
         "0.2984",
         "0.3081",
         "-2.98",
         "44445",
         "2.98",
         "Decrease"
        ],
        [
         "28",
         "Triphasic Contraceptives - Oral Two Ingredient",
         "36862352.63769531",
         "764304.0",
         "-656767",
         "5944153.969999998",
         "6600934.26",
         "0.1613",
         "0.1791",
         "-0.86",
         "656767",
         "0.86",
         "Decrease"
        ],
        [
         "29",
         "Chlorzoxazone",
         "1628192.0",
         "22925.0",
         "6124",
         "416605.5",
         "410480.82000000007",
         "0.2559",
         "0.2521",
         "0.27",
         "6124",
         "0.27",
         "Increase"
        ],
        [
         "30",
         "Potassium Chloride",
         "65570081.59375",
         "1300995.0",
         "-840382",
         "10424824.389999999",
         "10518766.67",
         "0.159",
         "0.1604",
         "-0.65",
         "840382",
         "0.65",
         "Decrease"
        ],
        [
         "31",
         "Anti-infective Misc. Combination - Two Ingredient",
         "35876201.98339844",
         "2053988.0",
         "-50962",
         "2241842.2800000003",
         "2292807.42",
         "0.0625",
         "0.0639",
         "-0.02",
         "50962",
         "0.02",
         "Decrease"
        ],
        [
         "32",
         "Nitrofurantoin",
         "19265841.19738388",
         "1429457.0",
         "-1150510",
         "8093564.590000002",
         "9244074.020000001",
         "0.4201",
         "0.4798",
         "-0.8",
         "1150510",
         "0.8",
         "Decrease"
        ],
        [
         "33",
         "Ketorolac",
         "2721613.5",
         "165965.0",
         "-253948",
         "1786956.9200000002",
         "2040905.1",
         "0.6566",
         "0.7499",
         "-1.53",
         "253948",
         "1.53",
         "Decrease"
        ],
        [
         "34",
         "Benazepril",
         "13050081.5",
         "214979.0",
         "-32438",
         "1070328.54",
         "1102765.74",
         "0.082",
         "0.0845",
         "-0.15",
         "32438",
         "0.15",
         "Decrease"
        ],
        [
         "35",
         "Trandolapril",
         "30129.0",
         "478.0",
         "-2720",
         "4732.36",
         "7453.620000000001",
         "0.1571",
         "0.2474",
         "-5.69",
         "2720",
         "5.69",
         "Decrease"
        ],
        [
         "36",
         "Nystatin",
         "769281.318359375",
         "8932.0",
         "-26324",
         "289665.18999999994",
         "315988.5",
         "0.3765",
         "0.4108",
         "-2.95",
         "26324",
         "2.95",
         "Decrease"
        ],
        [
         "37",
         "Exemestane",
         "1658851.0",
         "40904.0",
         "-31546",
         "1713327.69",
         "1744873.9000000001",
         "1.0328",
         "1.0519",
         "-0.77",
         "31546",
         "0.77",
         "Decrease"
        ],
        [
         "38",
         "Clonidine",
         "257857187.29382324",
         "4979703.0",
         "-22685566",
         "16201142.420000002",
         "38885320.16000001",
         "0.0628",
         "0.1508",
         "-4.56",
         "22685566",
         "4.56",
         "Decrease"
        ],
        [
         "39",
         "Salsalate",
         "47130.0",
         "663.0",
         "-51949",
         "16339.970000000001",
         "68290.43",
         "0.3467",
         "1.449",
         "-78.35",
         "51949",
         "78.35",
         "Decrease"
        ],
        [
         "40",
         "Desvenlafaxine",
         "27084313.125",
         "743895.0",
         "-3157145",
         "14935691.469999999",
         "18092839.84",
         "0.5515",
         "0.668",
         "-4.24",
         "3157145",
         "4.24",
         "Decrease"
        ],
        [
         "41",
         "Dronabinol",
         "528500.5",
         "10304.0",
         "-187468",
         "1271424.23",
         "1458893.76",
         "2.4057",
         "2.7604",
         "-18.19",
         "187468",
         "18.19",
         "Decrease"
        ],
        [
         "42",
         "Felbamate",
         "1450841.900390625",
         "10216.0",
         "-46718",
         "1925383.2999999998",
         "1351586.06",
         "1.3271",
         "0.9316",
         "-4.57",
         "46718",
         "4.57",
         "Decrease"
        ],
        [
         "43",
         "Rabeprazole",
         "1877510.5",
         "36044.0",
         "-87163",
         "399384.05000000005",
         "486550.12",
         "0.2127",
         "0.2591",
         "-2.42",
         "87163",
         "2.42",
         "Decrease"
        ],
        [
         "44",
         "Varenicline",
         "7957212.0",
         "149980.0",
         "14558204",
         "48346407.3",
         "8980032.83",
         "6.0758",
         "1.1285",
         "97.07",
         "14558204",
         "97.07",
         "Increase"
        ],
        [
         "45",
         "Itraconazole",
         "1054754.0673828125",
         "18565.0",
         "-663742",
         "1025052.22",
         "1688795.17",
         "0.9718",
         "1.6011",
         "-35.75",
         "663742",
         "35.75",
         "Decrease"
        ],
        [
         "46",
         "Megestrol",
         "3504482.5",
         "57386.0",
         "17237",
         "662109.0",
         "643617.13",
         "0.1889",
         "0.1837",
         "0.3",
         "17237",
         "0.3",
         "Increase"
        ],
        [
         "47",
         "Guanfacine",
         "137870148.43164062",
         "3610901.0",
         "589664",
         "42676181.0",
         "37757360.7",
         "0.3095",
         "0.2739",
         "0.16",
         "589664",
         "0.16",
         "Increase"
        ],
        [
         "48",
         "Cephalexin",
         "73676133.47460938",
         "3082581.0",
         "-820627",
         "8154059.61",
         "8974692.73",
         "0.1107",
         "0.1218",
         "-0.27",
         "820627",
         "0.27",
         "Decrease"
        ],
        [
         "49",
         "Metformin",
         "909052123.75",
         "9054441.0",
         "-7261143",
         "27743475.63",
         "34648228.33000002",
         "0.0305",
         "0.0381",
         "-0.8",
         "7261143",
         "0.8",
         "Decrease"
        ]
       ],
       "shape": {
        "columns": 12,
        "rows": 446
       }
      },
      "text/html": [
       "<div>\n",
       "<style scoped>\n",
       "    .dataframe tbody tr th:only-of-type {\n",
       "        vertical-align: middle;\n",
       "    }\n",
       "\n",
       "    .dataframe tbody tr th {\n",
       "        vertical-align: top;\n",
       "    }\n",
       "\n",
       "    .dataframe thead th {\n",
       "        text-align: right;\n",
       "    }\n",
       "</style>\n",
       "<table border=\"1\" class=\"dataframe\">\n",
       "  <thead>\n",
       "    <tr style=\"text-align: right;\">\n",
       "      <th></th>\n",
       "      <th>product_group</th>\n",
       "      <th>units</th>\n",
       "      <th>rx_count</th>\n",
       "      <th>total_diff</th>\n",
       "      <th>new_nadac</th>\n",
       "      <th>old_nadac</th>\n",
       "      <th>avg_new_nadac</th>\n",
       "      <th>avg_old_nadac</th>\n",
       "      <th>diff_per_rx</th>\n",
       "      <th>total_diff_abs</th>\n",
       "      <th>diff_per_rx_abs</th>\n",
       "      <th>classification</th>\n",
       "    </tr>\n",
       "  </thead>\n",
       "  <tbody>\n",
       "    <tr>\n",
       "      <th>0</th>\n",
       "      <td>Antiemetic Combination - Two Ingredient</td>\n",
       "      <td>1.343382e+06</td>\n",
       "      <td>21542.0</td>\n",
       "      <td>-1310680</td>\n",
       "      <td>2944371.26</td>\n",
       "      <td>4255053.21</td>\n",
       "      <td>2.1918</td>\n",
       "      <td>3.1674</td>\n",
       "      <td>-60.84</td>\n",
       "      <td>1310680</td>\n",
       "      <td>60.84</td>\n",
       "      <td>Decrease</td>\n",
       "    </tr>\n",
       "    <tr>\n",
       "      <th>1</th>\n",
       "      <td>Zonisamide</td>\n",
       "      <td>4.313824e+07</td>\n",
       "      <td>385097.0</td>\n",
       "      <td>-418120</td>\n",
       "      <td>4716258.24</td>\n",
       "      <td>5134384.86</td>\n",
       "      <td>0.1093</td>\n",
       "      <td>0.1190</td>\n",
       "      <td>-1.09</td>\n",
       "      <td>418120</td>\n",
       "      <td>1.09</td>\n",
       "      <td>Decrease</td>\n",
       "    </tr>\n",
       "    <tr>\n",
       "      <th>2</th>\n",
       "      <td>Benzonatate</td>\n",
       "      <td>7.422220e+07</td>\n",
       "      <td>2391909.0</td>\n",
       "      <td>-957964</td>\n",
       "      <td>7184190.76</td>\n",
       "      <td>8142166.17</td>\n",
       "      <td>0.0968</td>\n",
       "      <td>0.1097</td>\n",
       "      <td>-0.40</td>\n",
       "      <td>957964</td>\n",
       "      <td>0.40</td>\n",
       "      <td>Decrease</td>\n",
       "    </tr>\n",
       "    <tr>\n",
       "      <th>3</th>\n",
       "      <td>Haloperidol</td>\n",
       "      <td>2.832219e+07</td>\n",
       "      <td>571908.0</td>\n",
       "      <td>-1343743</td>\n",
       "      <td>10790166.42</td>\n",
       "      <td>12133921.08</td>\n",
       "      <td>0.3810</td>\n",
       "      <td>0.4284</td>\n",
       "      <td>-2.35</td>\n",
       "      <td>1343743</td>\n",
       "      <td>2.35</td>\n",
       "      <td>Decrease</td>\n",
       "    </tr>\n",
       "    <tr>\n",
       "      <th>4</th>\n",
       "      <td>Cilostazol</td>\n",
       "      <td>6.937953e+06</td>\n",
       "      <td>101309.0</td>\n",
       "      <td>-38275</td>\n",
       "      <td>859251.49</td>\n",
       "      <td>897529.19</td>\n",
       "      <td>0.1238</td>\n",
       "      <td>0.1294</td>\n",
       "      <td>-0.38</td>\n",
       "      <td>38275</td>\n",
       "      <td>0.38</td>\n",
       "      <td>Decrease</td>\n",
       "    </tr>\n",
       "    <tr>\n",
       "      <th>...</th>\n",
       "      <td>...</td>\n",
       "      <td>...</td>\n",
       "      <td>...</td>\n",
       "      <td>...</td>\n",
       "      <td>...</td>\n",
       "      <td>...</td>\n",
       "      <td>...</td>\n",
       "      <td>...</td>\n",
       "      <td>...</td>\n",
       "      <td>...</td>\n",
       "      <td>...</td>\n",
       "      <td>...</td>\n",
       "    </tr>\n",
       "    <tr>\n",
       "      <th>441</th>\n",
       "      <td>Fosinopril</td>\n",
       "      <td>4.092250e+05</td>\n",
       "      <td>7923.0</td>\n",
       "      <td>-6619</td>\n",
       "      <td>70704.38</td>\n",
       "      <td>77325.74</td>\n",
       "      <td>0.1728</td>\n",
       "      <td>0.1890</td>\n",
       "      <td>-0.84</td>\n",
       "      <td>6619</td>\n",
       "      <td>0.84</td>\n",
       "      <td>Decrease</td>\n",
       "    </tr>\n",
       "    <tr>\n",
       "      <th>442</th>\n",
       "      <td>Continuous Contraceptives Oral - Two Ingredient</td>\n",
       "      <td>2.732204e+05</td>\n",
       "      <td>5389.0</td>\n",
       "      <td>-23951</td>\n",
       "      <td>339099.26</td>\n",
       "      <td>363052.31</td>\n",
       "      <td>1.2411</td>\n",
       "      <td>1.3288</td>\n",
       "      <td>-4.44</td>\n",
       "      <td>23951</td>\n",
       "      <td>4.44</td>\n",
       "      <td>Decrease</td>\n",
       "    </tr>\n",
       "    <tr>\n",
       "      <th>443</th>\n",
       "      <td>Albuterol</td>\n",
       "      <td>2.219545e+05</td>\n",
       "      <td>2682.0</td>\n",
       "      <td>-330314</td>\n",
       "      <td>69391.86</td>\n",
       "      <td>399707.65</td>\n",
       "      <td>0.3126</td>\n",
       "      <td>1.8009</td>\n",
       "      <td>-123.16</td>\n",
       "      <td>330314</td>\n",
       "      <td>123.16</td>\n",
       "      <td>Decrease</td>\n",
       "    </tr>\n",
       "    <tr>\n",
       "      <th>444</th>\n",
       "      <td>Platelet Aggregation Inhibitor Combination - T...</td>\n",
       "      <td>2.768080e+05</td>\n",
       "      <td>3938.0</td>\n",
       "      <td>-70952</td>\n",
       "      <td>221006.27</td>\n",
       "      <td>291958.78</td>\n",
       "      <td>0.7984</td>\n",
       "      <td>1.0547</td>\n",
       "      <td>-18.02</td>\n",
       "      <td>70952</td>\n",
       "      <td>18.02</td>\n",
       "      <td>Decrease</td>\n",
       "    </tr>\n",
       "    <tr>\n",
       "      <th>445</th>\n",
       "      <td>Fluoxetine</td>\n",
       "      <td>2.946271e+08</td>\n",
       "      <td>6604345.0</td>\n",
       "      <td>-4763304</td>\n",
       "      <td>18309647.80</td>\n",
       "      <td>23036133.04</td>\n",
       "      <td>0.0621</td>\n",
       "      <td>0.0782</td>\n",
       "      <td>-0.72</td>\n",
       "      <td>4763304</td>\n",
       "      <td>0.72</td>\n",
       "      <td>Decrease</td>\n",
       "    </tr>\n",
       "  </tbody>\n",
       "</table>\n",
       "<p>446 rows × 12 columns</p>\n",
       "</div>"
      ],
      "text/plain": [
       "                                         product_group         units  \\\n",
       "0              Antiemetic Combination - Two Ingredient  1.343382e+06   \n",
       "1                                           Zonisamide  4.313824e+07   \n",
       "2                                          Benzonatate  7.422220e+07   \n",
       "3                                          Haloperidol  2.832219e+07   \n",
       "4                                           Cilostazol  6.937953e+06   \n",
       "..                                                 ...           ...   \n",
       "441                                         Fosinopril  4.092250e+05   \n",
       "442    Continuous Contraceptives Oral - Two Ingredient  2.732204e+05   \n",
       "443                                          Albuterol  2.219545e+05   \n",
       "444  Platelet Aggregation Inhibitor Combination - T...  2.768080e+05   \n",
       "445                                         Fluoxetine  2.946271e+08   \n",
       "\n",
       "      rx_count  total_diff    new_nadac    old_nadac  avg_new_nadac  \\\n",
       "0      21542.0    -1310680   2944371.26   4255053.21         2.1918   \n",
       "1     385097.0     -418120   4716258.24   5134384.86         0.1093   \n",
       "2    2391909.0     -957964   7184190.76   8142166.17         0.0968   \n",
       "3     571908.0    -1343743  10790166.42  12133921.08         0.3810   \n",
       "4     101309.0      -38275    859251.49    897529.19         0.1238   \n",
       "..         ...         ...          ...          ...            ...   \n",
       "441     7923.0       -6619     70704.38     77325.74         0.1728   \n",
       "442     5389.0      -23951    339099.26    363052.31         1.2411   \n",
       "443     2682.0     -330314     69391.86    399707.65         0.3126   \n",
       "444     3938.0      -70952    221006.27    291958.78         0.7984   \n",
       "445  6604345.0    -4763304  18309647.80  23036133.04         0.0621   \n",
       "\n",
       "     avg_old_nadac  diff_per_rx  total_diff_abs  diff_per_rx_abs  \\\n",
       "0           3.1674       -60.84         1310680            60.84   \n",
       "1           0.1190        -1.09          418120             1.09   \n",
       "2           0.1097        -0.40          957964             0.40   \n",
       "3           0.4284        -2.35         1343743             2.35   \n",
       "4           0.1294        -0.38           38275             0.38   \n",
       "..             ...          ...             ...              ...   \n",
       "441         0.1890        -0.84            6619             0.84   \n",
       "442         1.3288        -4.44           23951             4.44   \n",
       "443         1.8009      -123.16          330314           123.16   \n",
       "444         1.0547       -18.02           70952            18.02   \n",
       "445         0.0782        -0.72         4763304             0.72   \n",
       "\n",
       "    classification  \n",
       "0         Decrease  \n",
       "1         Decrease  \n",
       "2         Decrease  \n",
       "3         Decrease  \n",
       "4         Decrease  \n",
       "..             ...  \n",
       "441       Decrease  \n",
       "442       Decrease  \n",
       "443       Decrease  \n",
       "444       Decrease  \n",
       "445       Decrease  \n",
       "\n",
       "[446 rows x 12 columns]"
      ]
     },
     "execution_count": 14,
     "metadata": {},
     "output_type": "execute_result"
    }
   ],
   "source": [
    "\n",
    "\n",
    "date_id = 120\n",
    "state_filter = 'XX'  # Example state filter, replace with actual state code if needed\n",
    "df = fetch_data(date_id, 'XX', 'product_group').collect()\n",
    "df.to_pandas()"
   ]
  },
  {
   "cell_type": "code",
   "execution_count": 34,
   "id": "92c86d05",
   "metadata": {},
   "outputs": [
    {
     "data": {
      "application/vnd.plotly.v1+json": {
       "config": {
        "plotlyServerURL": "https://plot.ly"
       },
       "data": [
        {
         "customdata": [
          [
           "Antiemetic Combination - Two Ingredient",
           -60.84
          ],
          [
           "Zonisamide",
           -1.09
          ],
          [
           "Benzonatate",
           -0.4
          ],
          [
           "Haloperidol",
           -2.35
          ],
          [
           "Cilostazol",
           -0.38
          ],
          [
           "Selegiline",
           -11
          ],
          [
           "Norethindrone",
           -2.16
          ],
          [
           "Amitriptyline",
           -0.82
          ],
          [
           "Zolmitriptan",
           -2.57
          ],
          [
           "Finasteride",
           -0.39
          ],
          [
           "Labetalol",
           -0.54
          ],
          [
           "Sertraline",
           -0.52
          ],
          [
           "Diethylpropion",
           4.44
          ],
          [
           "Methotrexate",
           -4.04
          ],
          [
           "Tolterodine",
           -12.96
          ],
          [
           "Ropinirole",
           -0.4
          ],
          [
           "Tamsulosin",
           -0.52
          ],
          [
           "Trazodone",
           -0.49
          ],
          [
           "Dextroamphetamine",
           -4.78
          ],
          [
           "Thyroid",
           3.58
          ],
          [
           "Naproxen",
           -0.19
          ],
          [
           "Choline Fenofibrate",
           -3.41
          ],
          [
           "Ibuprofen",
           0
          ],
          [
           "Nadolol",
           -10.4
          ],
          [
           "Enalapril",
           0.36
          ],
          [
           "Rifampin",
           1.74
          ],
          [
           "Alendronate",
           -0.12
          ],
          [
           "Propafenone",
           -2.98
          ],
          [
           "Triphasic Contraceptives - Oral Two Ingredient",
           -0.86
          ],
          [
           "Chlorzoxazone",
           0.27
          ],
          [
           "Potassium Chloride",
           -0.65
          ],
          [
           "Anti-infective Misc. Combination - Two Ingredient",
           -0.02
          ],
          [
           "Nitrofurantoin",
           -0.8
          ],
          [
           "Ketorolac",
           -1.53
          ],
          [
           "Benazepril",
           -0.15
          ],
          [
           "Trandolapril",
           -5.69
          ],
          [
           "Nystatin",
           -2.95
          ],
          [
           "Exemestane",
           -0.77
          ],
          [
           "Clonidine",
           -4.56
          ],
          [
           "Salsalate",
           -78.35
          ],
          [
           "Desvenlafaxine",
           -4.24
          ],
          [
           "Dronabinol",
           -18.19
          ],
          [
           "Felbamate",
           -4.57
          ],
          [
           "Rabeprazole",
           -2.42
          ],
          [
           "Varenicline",
           97.07
          ],
          [
           "Itraconazole",
           -35.75
          ],
          [
           "Megestrol",
           0.3
          ],
          [
           "Guanfacine",
           0.16
          ],
          [
           "Cephalexin",
           -0.27
          ],
          [
           "Metformin",
           -0.8
          ],
          [
           "Granisetron",
           1.28
          ],
          [
           "Paroxetine",
           -0.16
          ],
          [
           "Olanzapine",
           -0.59
          ],
          [
           "Nateglinide",
           -4.43
          ],
          [
           "Risperidone",
           0.1
          ],
          [
           "Potassium & Sodium Phosphates",
           -3.34
          ],
          [
           "Prenatal without A w/ Fe Fumarate-L Methylfolate-FA-DHA",
           0.52
          ],
          [
           "Atorvastatin",
           -0.52
          ],
          [
           "Topiramate",
           -0.15
          ],
          [
           "Tranylcypromine",
           1.33
          ],
          [
           "Ziprasidone",
           -0.78
          ],
          [
           "Sucralfate",
           -0.14
          ],
          [
           "Chlorpromazine",
           -33.7
          ],
          [
           "Cyclobenzaprine",
           -0.14
          ],
          [
           "Promethazine",
           -0.01
          ],
          [
           "Spironolactone",
           -0.79
          ],
          [
           "Losartan",
           -1.02
          ],
          [
           "Darifenacin",
           -17.96
          ],
          [
           "Pindolol",
           0.65
          ],
          [
           "Fluconazole",
           -0.27
          ],
          [
           "Niacin",
           -3.17
          ],
          [
           "Aliskiren",
           -18.81
          ],
          [
           "Abacavir",
           -20.73
          ],
          [
           "Oxycodone",
           -0.89
          ],
          [
           "Levodopa Combination - Two Ingredient",
           2.22
          ],
          [
           "Angiotensin II Recept Antag & Ca Chan Block Comb - 2 Ingred",
           -1.01
          ],
          [
           "Cabergoline",
           -5.37
          ],
          [
           "Fludrocortisone",
           -1.77
          ],
          [
           "Perphenazine",
           -13.36
          ],
          [
           "Desloratadine",
           -1.21
          ],
          [
           "Solifenacin",
           -0.12
          ],
          [
           "Dapsone",
           5.27
          ],
          [
           "Progesterone",
           0.12
          ],
          [
           "Tinidazole",
           -0.55
          ],
          [
           "Penicillin Combination - Two Ingredient",
           0.14
          ],
          [
           "Olmesartan",
           -0.9
          ],
          [
           "Dexmethylphenidate",
           -18.81
          ],
          [
           "Tizanidine",
           -0.35
          ],
          [
           "Colesevelam",
           6.62
          ],
          [
           "Hydroxyzine",
           -0.17
          ],
          [
           "Combination Gout Drugs - Two Ingredient",
           6.19
          ],
          [
           "Carvedilol",
           -0.21
          ],
          [
           "Diclofenac",
           -0.87
          ],
          [
           "Calcitriol",
           -0.36
          ],
          [
           "Prednisone",
           -0.15
          ],
          [
           "Atomoxetine",
           -2.91
          ],
          [
           "Chlordiazepoxide",
           1.65
          ],
          [
           "Indapamide",
           0
          ],
          [
           "Cevimeline",
           -8.09
          ],
          [
           "Sodium Fluoride",
           0.74
          ],
          [
           "Cyproheptadine",
           -2.87
          ],
          [
           "Simvastatin",
           -0.02
          ],
          [
           "Warfarin",
           -0.51
          ],
          [
           "Colchicine",
           -20.73
          ],
          [
           "Clonazepam",
           -0.16
          ],
          [
           "Mirtazapine",
           -0.55
          ],
          [
           "Venlafaxine",
           -1.22
          ],
          [
           "ACE Inhibitors & Thiazide/Thiazide-Like - Two Ingredient",
           -0.15
          ],
          [
           "Doxazosin",
           -5.5
          ],
          [
           "Pediatric Multivitamins w/ Fluoride",
           -0.95
          ],
          [
           "Tacrolimus",
           -8.66
          ],
          [
           "Hydralazine",
           -0.39
          ],
          [
           "Codeine",
           -5.71
          ],
          [
           "Gabapentin",
           -0.34
          ],
          [
           "Acarbose",
           -0.29
          ],
          [
           "Midodrine",
           -4.51
          ],
          [
           "Fluvoxamine",
           -7.59
          ],
          [
           "Dexlansoprazole",
           54.7
          ],
          [
           "Dofetilide",
           -38.86
          ],
          [
           "Lamotrigine",
           -4.17
          ],
          [
           "Sulfonylurea-Biguanide Combination - Two Ingredient",
           -0.56
          ],
          [
           "Extended-Cycle Contraceptives - Oral Two Ingredient",
           -13.58
          ],
          [
           "Methenamine",
           -19.1
          ],
          [
           "Allopurinol",
           -0.44
          ],
          [
           "Angiotensin II Receptor Antagonists & Thiazides - Two Ingred",
           -1.44
          ],
          [
           "Tetracycline",
           -3.03
          ],
          [
           "Thiazolidinedione-Biguanide Combination - Two Ingredient",
           -0.53
          ],
          [
           "Imatinib",
           -69.58
          ],
          [
           "Chlorthalidone",
           -0.48
          ],
          [
           "Benztropine",
           -0.55
          ],
          [
           "Isoniazid",
           -0.11
          ],
          [
           "Alogliptin",
           -9.96
          ],
          [
           "Zafirlukast",
           0.49
          ],
          [
           "Ciprofloxacin",
           -0.09
          ],
          [
           "Codeine Combination - Two Ingredient",
           2.42
          ],
          [
           "Methimazole",
           0.02
          ],
          [
           "Selective Serotonin Agonist-NSAID Combination -2 Ingredient",
           -180.1
          ],
          [
           "Dicyclomine",
           0.95
          ],
          [
           "Ca Channel Blocker & HMG CoA Reductase Inhib Comb 2 Ingred",
           -21.86
          ],
          [
           "Mexiletine",
           -10.35
          ],
          [
           "Ivermectin",
           -1.32
          ],
          [
           "Ibandronate",
           -1.87
          ],
          [
           "Nebivolol",
           0.26
          ],
          [
           "Misoprostol",
           -0.18
          ],
          [
           "Lovastatin",
           -0.4
          ],
          [
           "Dipeptidyl Peptidase-4 Inhibitor-Biguanide - Two Ingredient",
           11.68
          ],
          [
           "Doxycycline",
           -0.52
          ],
          [
           "Amlodipine",
           0.04
          ],
          [
           "Desmopressin",
           -1.15
          ],
          [
           "Cyclosporine",
           -17.88
          ],
          [
           "Amphetamine",
           -75.83
          ],
          [
           "Buspirone",
           -0.02
          ],
          [
           "Lansoprazole",
           3.4
          ],
          [
           "Pravastatin",
           -1.02
          ],
          [
           "Ethosuximide",
           -22.21
          ],
          [
           "Oxcarbazepine",
           -0.05
          ],
          [
           "Estradiol Vaginal",
           -44.36
          ],
          [
           "Diazepam",
           0.17
          ],
          [
           "Rasagiline",
           -10.56
          ],
          [
           "Prochlorperazine",
           1.45
          ],
          [
           "Buprenorphine",
           -4.83
          ],
          [
           "Entacapone",
           -19.86
          ],
          [
           "Acetazolamide",
           -17.03
          ],
          [
           "Ramelteon",
           -12.43
          ],
          [
           "Tetrabenazine",
           23.11
          ],
          [
           "Baclofen",
           -0.98
          ],
          [
           "Pantoprazole",
           -0.09
          ],
          [
           "Glipizide",
           0.03
          ],
          [
           "Methazolamide",
           -144.94
          ],
          [
           "Ergocalciferol",
           0.03
          ],
          [
           "Mycophenolate",
           -15.09
          ],
          [
           "Cefuroxime",
           -1.32
          ],
          [
           "Bupropion",
           -0.84
          ],
          [
           "Naltrexone",
           -2.9
          ],
          [
           "Morphine",
           -1.08
          ],
          [
           "Loperamide",
           1.76
          ],
          [
           "Trimethoprim",
           30.71
          ],
          [
           "Nabumetone",
           -1.48
          ],
          [
           "Duloxetine",
           -1.26
          ],
          [
           "Donepezil",
           -0.04
          ],
          [
           "Methylprednisolone",
           -0.11
          ],
          [
           "Sirolimus",
           -63.96
          ],
          [
           "Trihexyphenidyl",
           0.03
          ],
          [
           "Sumatriptan",
           -0.68
          ],
          [
           "Pentoxifylline",
           -3.83
          ],
          [
           "Norethindrone (Contraceptive)",
           -0.04
          ],
          [
           "Levothyroxine",
           -3.42
          ],
          [
           "Paricalcitol",
           -0.4
          ],
          [
           "Fesoterodine",
           8.21
          ],
          [
           "Citrates",
           -7.52
          ],
          [
           "Oxazepam",
           -3.83
          ],
          [
           "Anastrozole",
           -0.35
          ],
          [
           "Codeine Combination - Four Ingredient",
           7.45
          ],
          [
           "Methocarbamol",
           -1.16
          ],
          [
           "Clozapine",
           2.92
          ],
          [
           "Vilazodone",
           0.69
          ],
          [
           "Repaglinide",
           -2.65
          ],
          [
           "Moxifloxacin",
           -2.12
          ],
          [
           "Phenobarbital",
           -5.74
          ],
          [
           "Albendazole",
           -33.9
          ],
          [
           "Hydrochlorothiazide",
           -0.12
          ],
          [
           "Alprazolam",
           -0.1
          ],
          [
           "Vancomycin",
           -18.56
          ],
          [
           "Risedronate",
           -4.1
          ],
          [
           "Clomipramine",
           -21.09
          ],
          [
           "Rufinamide",
           33.72
          ],
          [
           "Pioglitazone",
           -0.41
          ],
          [
           "Minoxidil",
           0.76
          ],
          [
           "Raloxifene",
           -2.93
          ],
          [
           "Famotidine",
           -0.15
          ],
          [
           "Azithromycin",
           -0.8
          ],
          [
           "Fluvastatin",
           -21.84
          ],
          [
           "ACE Inhibitors & Ca Channel Blocker Combination - 2 Ingred",
           -0.39
          ],
          [
           "Nortriptyline",
           -1.01
          ],
          [
           "Budesonide",
           -42.6
          ],
          [
           "Imipramine",
           -0.29
          ],
          [
           "Erythromycin Base",
           -57.75
          ],
          [
           "Zaleplon",
           -0.19
          ],
          [
           "Dantrolene",
           2.65
          ],
          [
           "Atazanavir",
           -55.34
          ],
          [
           "Desipramine",
           -12.93
          ],
          [
           "Oseltamivir",
           -5.15
          ],
          [
           "Phenazopyridine HCl",
           -1.8
          ],
          [
           "Omeprazole",
           -0.08
          ],
          [
           "Dutasteride",
           -0.86
          ],
          [
           "Dabigatran",
           272.48
          ],
          [
           "Famciclovir",
           0.63
          ],
          [
           "Diphenoxylate",
           -1.75
          ],
          [
           "Phenytoin",
           -3.28
          ],
          [
           "Doxepin",
           0.17
          ],
          [
           "Sevelamer",
           -14.87
          ],
          [
           "Tenofovir",
           -3.51
          ],
          [
           "Estradiol",
           -0.36
          ],
          [
           "Voriconazole",
           -59.78
          ],
          [
           "Ramipril",
           -0.26
          ],
          [
           "Prostatic Hypertrophy Agent Combination - Two Ingredient",
           -21.82
          ],
          [
           "Armodafinil",
           -7.12
          ],
          [
           "Intest Cholest Absorp Inhib-HMG CoA Reduct Inhib Comb 2 Ing",
           -9.89
          ],
          [
           "Omega-3-acid",
           -0.01
          ],
          [
           "Valganciclovir",
           -25.16
          ],
          [
           "Prazosin",
           -1.95
          ],
          [
           "Orphenadrine",
           5.8
          ],
          [
           "Amiloride",
           -6.71
          ],
          [
           "Loxapine",
           4.67
          ],
          [
           "Febuxostat",
           -13.23
          ],
          [
           "Ranolazine",
           -3.52
          ],
          [
           "Angiotensin II Receptor Ant-Ca Channel Blocker-Thiazides",
           2.2
          ],
          [
           "Cefpodoxime",
           -7.04
          ],
          [
           "Celecoxib",
           -1.36
          ],
          [
           "Valproic Acid",
           -0.98
          ],
          [
           "Cefprozil",
           1.3
          ],
          [
           "Prenatal Vitamins w/ Ferrous Fumarate-Folic Acid",
           0.37
          ],
          [
           "Capecitabine",
           -33.79
          ],
          [
           "Acyclovir",
           0.3
          ],
          [
           "Isosorbide Dinitrate",
           -2.05
          ],
          [
           "Leucovorin",
           26.6
          ],
          [
           "Clorazepate",
           -3.3
          ],
          [
           "Mercaptopurine",
           -8.26
          ],
          [
           "Amoxicillin",
           -0.02
          ],
          [
           "Penicillin V",
           -0.47
          ],
          [
           "Rosuvastatin",
           -0.36
          ],
          [
           "Indomethacin",
           -0.34
          ],
          [
           "Entecavir",
           -21.03
          ],
          [
           "Lacosamide",
           4.48
          ],
          [
           "Letrozole",
           -1.02
          ],
          [
           "Pregabalin",
           -1.93
          ],
          [
           "Antiretroviral Combination - Two Ingredient",
           -0.42
          ],
          [
           "Citalopram",
           0.03
          ],
          [
           "Proton Pump Inhibitor-Antacid Combination - Two Ingredient",
           -164.45
          ],
          [
           "Piroxicam",
           -0.55
          ],
          [
           "Metolazone",
           -2.13
          ],
          [
           "Clarithromycin",
           0.1
          ],
          [
           "Temazepam",
           -1.28
          ],
          [
           "Pramipexole",
           0.18
          ],
          [
           "Ritonavir",
           -15.45
          ],
          [
           "Ondansetron",
           -0.42
          ],
          [
           "Ketoconazole",
           -2.05
          ],
          [
           "Opioid Combination - Two Ingredient",
           -1.05
          ],
          [
           "Rizatriptan",
           -2.01
          ],
          [
           "Bisoprolol",
           0.41
          ],
          [
           "Carisoprodol",
           -2.42
          ],
          [
           "Lubiprostone",
           65.33
          ],
          [
           "Irbesartan",
           -2.95
          ],
          [
           "Clindamycin",
           -0.42
          ],
          [
           "Hydroxyurea",
           -2.49
          ],
          [
           "Medroxyprogesterone",
           0.12
          ],
          [
           "Levocarnitine",
           17.53
          ],
          [
           "Triphasic Contraceptives - Oral Three Ingredient",
           -7.16
          ],
          [
           "Bethanechol",
           -0.38
          ],
          [
           "Bumetanide",
           -1.82
          ],
          [
           "Modafinil",
           -1.97
          ],
          [
           "Minocycline",
           -1.8
          ],
          [
           "Tadalafil",
           -7.26
          ],
          [
           "Hyoscyamine",
           -1.43
          ],
          [
           "Candesartan",
           -7.79
          ],
          [
           "Azathioprine",
           -4.45
          ],
          [
           "Terazosin",
           -0.78
          ],
          [
           "Estazolam",
           -10.14
          ],
          [
           "Fenofibrate",
           -2.46
          ],
          [
           "Eszopiclone",
           -1.52
          ],
          [
           "Phendimetrazine",
           -0.02
          ],
          [
           "Alfuzosin",
           -1.32
          ],
          [
           "Pyridostigmine",
           -5.54
          ],
          [
           "Almotriptan",
           -26.36
          ],
          [
           "Ethambutol",
           -7.86
          ],
          [
           "Ampicillin",
           -0.22
          ],
          [
           "Paliperidone",
           -65.43
          ],
          [
           "Calcium Acetate",
           -8.03
          ],
          [
           "Naratriptan",
           -3.07
          ],
          [
           "Meclizine",
           -0.5
          ],
          [
           "Icosapent",
           89.9
          ],
          [
           "Estrogen & Progestin - Two Ingredient",
           -7.2
          ],
          [
           "Theophylline",
           -10.08
          ],
          [
           "Roflumilast",
           -6.74
          ],
          [
           "Antiretroviral Combination - Three Ingredient",
           23.65
          ],
          [
           "Oxybutynin",
           -2.32
          ],
          [
           "Digoxin",
           0.35
          ],
          [
           "Sulindac",
           0.65
          ],
          [
           "Riluzole",
           0.61
          ],
          [
           "Levofloxacin",
           -0.22
          ],
          [
           "Clobazam",
           -2.15
          ],
          [
           "Lorazepam",
           -0.02
          ],
          [
           "Carbamazepine",
           -6.27
          ],
          [
           "Liothyronine",
           -1.76
          ],
          [
           "Eplerenone",
           -1.45
          ],
          [
           "Combination Contraceptives - Oral Two Ingredient",
           -2.39
          ],
          [
           "Prasugrel",
           -9.23
          ],
          [
           "Clopidogrel",
           -0.3
          ],
          [
           "Telmisartan",
           -3.73
          ],
          [
           "Hydrocodone-Homatropine",
           9.2
          ],
          [
           "Asenapine",
           -7.22
          ],
          [
           "Phentermine",
           -0.32
          ],
          [
           "Folic Acid",
           0.03
          ],
          [
           "Silodosin",
           -8.29
          ],
          [
           "Colestipol",
           6.48
          ],
          [
           "Sildenafil",
           -1.37
          ],
          [
           "Nifedipine",
           -3.13
          ],
          [
           "Hydroxychloroquine",
           -2.33
          ],
          [
           "Beta Blocker & Diuretic Combination - Two Ingredient",
           -0.99
          ],
          [
           "Urinary Antiseptic-Antispas &/or Analgesics - 4 Ingredient",
           -28.98
          ],
          [
           "Quetiapine",
           -0.58
          ],
          [
           "Betaxolol",
           -2.96
          ],
          [
           "Cimetidine",
           -5.14
          ],
          [
           "Lisinopril",
           0.08
          ],
          [
           "Dalfampridine",
           -9.68
          ],
          [
           "Metronidazole",
           -0.22
          ],
          [
           "Protriptyline",
           -10.18
          ],
          [
           "Acebutolol",
           6.37
          ],
          [
           "Torsemide",
           -0.39
          ],
          [
           "Metoprolol",
           0.16
          ],
          [
           "Divalproex",
           -4.31
          ],
          [
           "Valacyclovir",
           -0.5
          ],
          [
           "Isotretinoin",
           -54.79
          ],
          [
           "Terbinafine",
           -0.35
          ],
          [
           "Quinine",
           -0.59
          ],
          [
           "Rivastigmine",
           -3.53
          ],
          [
           "Analgesics-Sedative Combination - Two Ingredient",
           7.17
          ],
          [
           "Cefdinir",
           -0.12
          ],
          [
           "Metoclopramide",
           0.33
          ],
          [
           "Verapamil",
           -0.71
          ],
          [
           "Anticholinergic Combination - Two Ingredient",
           -5.94
          ],
          [
           "Flavoxate",
           5.38
          ],
          [
           "Amantadine",
           -14.13
          ],
          [
           "Methylphenidate",
           -5.33
          ],
          [
           "Hydromorphone",
           -2.12
          ],
          [
           "Combination Contraceptives - Oral Three Ingredient",
           -5.02
          ],
          [
           "Galantamine",
           1.37
          ],
          [
           "Escitalopram",
           -0.23
          ],
          [
           "B-Complex w/ Vitamin C & Folic Acid",
           1.2
          ],
          [
           "Diltiazem",
           -1.23
          ],
          [
           "Atenolol",
           0.07
          ],
          [
           "Flecainide",
           -4.86
          ],
          [
           "Furosemide",
           0.04
          ],
          [
           "Glyburide",
           -0.52
          ],
          [
           "Glimepiride",
           -0.36
          ],
          [
           "Cinacalcet",
           -65.88
          ],
          [
           "Ezetimibe",
           -1.08
          ],
          [
           "Frovatriptan",
           18.4
          ],
          [
           "Cefadroxil",
           0.58
          ],
          [
           "Oxaprozin",
           -47.85
          ],
          [
           "Nitroglycerin",
           -4.05
          ],
          [
           "Levetiracetam",
           -2.26
          ],
          [
           "Meloxicam",
           0
          ],
          [
           "Felodipine",
           -2.17
          ],
          [
           "Diuretic Combination - Two Ingredient",
           -0.19
          ],
          [
           "Propranolol",
           -1.35
          ],
          [
           "Nonsteroidal Anti-inflammatory Agent Combination - 2 Ingred",
           14.23
          ],
          [
           "Griseofulvin",
           -4.42
          ],
          [
           "Analgesics-Sedative Combination - Three Ingredient",
           -1.67
          ],
          [
           "Aripiprazole",
           -1.84
          ],
          [
           "Etodolac",
           -1.68
          ],
          [
           "Sotalol",
           -1.05
          ],
          [
           "Hydrocodone Combination - Two Ingredient",
           0.29
          ],
          [
           "Memantine",
           -1
          ],
          [
           "Zolpidem",
           -0.2
          ],
          [
           "Leflunomide",
           -7.61
          ],
          [
           "Bicalutamide",
           0.03
          ],
          [
           "Esomeprazole",
           -0.86
          ],
          [
           "Gemfibrozil",
           0.02
          ],
          [
           "Amiodarone",
           -1.97
          ],
          [
           "Pilocarpine",
           -5.61
          ],
          [
           "Tramadol Combination - Two Ingredient",
           0.52
          ],
          [
           "Ursodiol",
           -11.88
          ],
          [
           "Isosorbide Mononitrate",
           -0.35
          ],
          [
           "Disulfiram",
           -7.85
          ],
          [
           "Biphasic Contraceptives - Oral Two Ingredient",
           -8.48
          ],
          [
           "Primidone",
           -0.03
          ],
          [
           "Acitretin",
           -67.19
          ],
          [
           "Montelukast",
           -0.3
          ],
          [
           "Valsartan",
           -1.08
          ],
          [
           "Methadone",
           -1.12
          ],
          [
           "Dimethyl Fumarate",
           -42.17
          ],
          [
           "Trospium",
           -0.46
          ],
          [
           "Acamprosate",
           -23.17
          ],
          [
           "Propylthiouracil",
           -8.92
          ],
          [
           "Mesalamine",
           18.36
          ],
          [
           "Dexamethasone",
           -0.62
          ],
          [
           "Antimalarial Combination - Two Ingredient",
           9.52
          ],
          [
           "Eletriptan",
           -14.02
          ],
          [
           "Cefixime",
           5.57
          ],
          [
           "Triazolam",
           -2.46
          ],
          [
           "Captopril",
           -6.02
          ],
          [
           "Fluphenazine",
           -27.39
          ],
          [
           "Lanthanum",
           334.19
          ],
          [
           "Abiraterone",
           69.2
          ],
          [
           "Tranexamic Acid",
           -7.59
          ],
          [
           "Amphetamine Mixtures - Two Ingredient",
           -4.56
          ],
          [
           "Tamoxifen",
           -2.13
          ],
          [
           "Balsalazide",
           1.12
          ],
          [
           "Glycopyrrolate",
           -6.03
          ],
          [
           "Droxidopa",
           45.39
          ],
          [
           "Bromocriptine",
           -17.63
          ],
          [
           "Hydrocortisone",
           0.1
          ],
          [
           "Mefloquine",
           -5.17
          ],
          [
           "Sulfasalazine",
           -0.39
          ],
          [
           "Lithium",
           -0.06
          ],
          [
           "Metaxalone",
           2.34
          ],
          [
           "Levocetirizine",
           -0.34
          ],
          [
           "Aprepitant",
           24.5
          ],
          [
           "Linezolid",
           0.69
          ],
          [
           "Tramadol",
           -0.45
          ],
          [
           "Fosinopril",
           -0.84
          ],
          [
           "Continuous Contraceptives Oral - Two Ingredient",
           -4.44
          ],
          [
           "Albuterol",
           -123.16
          ],
          [
           "Platelet Aggregation Inhibitor Combination - Two Ingredient",
           -18.02
          ],
          [
           "Fluoxetine",
           -0.72
          ]
         ],
         "hovertemplate": "<b>Product:</b> %{customdata[0]}<br><b>Prescription Count:</b> %{x:,}<br><b>Total Difference:</b> $%{y:,.0f}<br><b>Difference per Rx:</b> $%{customdata[1]:,.2f}<br><extra></extra>",
         "legendgroup": "Decrease",
         "marker": {
          "color": "#636efa",
          "line": {
           "color": "white",
           "width": 0.5
          },
          "opacity": 0.8,
          "size": {
           "bdata": "2P8TAEhhBgAMng4A/4AUAIOVAADXfwAAwigIADOBFwAJAgEAOTYCAES8BACBwEIA3uYdABOdDwDLnwMAcEQQAItSNQA/tQcAaxYIAAmIAAB2WQsAnEUBAJ2tAAB/BQoAvtIMABLHAAAujhEA/N8DALZ+AACgCgAA1GYAADp7AAB+J1oB7coAAJksMABM3AIAfrYAAHtUAQC+IAoAk4UMANfLbgAFRwMAHc8WAAMGAQBHkAEAXcBXAOGBBgDc4wUAczkBAIs7ZADA+wkAbRUAAJGKGgDyJlIAV4sAAFKHDgB7vgAAXSEAAG00AQCfICUAUeEBAAkpBgCYHQQAqI8SAPtXAAAJVgAACikAABQJBAABB5sBNtMLAN0CEwDgpwcAxXwQAH17AgDMagwAJcVIADgAAADgewEASr4YAM2cAACSDAQAKuhEALTZBAAelxYA1l0sAIrYAgB+Wg4Aif8CAB6INQAw5gMAXioAAGY3OgDqNAAAGjwSAIirJQDU1AgAAxQcAbB/AAAAoh0AMe8RAH09BgCETyIAWLgBAF0HAAC5sBAAQLkEANPwCADaEQAA1GkSAJUCAQAaXQMAUcIAANKYAgCFvgAAAcEAAD5rAABhLgEAcJocAKwDBgD8aAUAxFEFABHVAQAaggwAMD0KADQxAQAOhywAMnQAAGA62wA33AEAZwkmAFpFDAC9VSAApvsHAPu6BQD8ulEA3b4EADOUQwDkNhsAgjYGAN6IBQCiolMASi0AAIezAwDU2B8A3QkQADM1AwDSlAAAIqV+AXkCAAAaaQoAojoAAAv5AADTGCMA76cBAL3iAAC4VQ0AK2wXAN5/BgAuhQQARS8IAI1TAADopxYAuEMDAHI9AQDJ4AwAXMkpAAM+AADgWQEA6ekGAFt9IwC9UwAA7IUIAJYcAAD3bgIA1ncBAAjuAgBvsA0AK38KAESCAACf3gIAzOMJAB4FFgAA/gQATlwCANhEBgD8WwAAhmIAAKwuBAC/0AAANQsAABVHCQAX/CoAGT0CAIdVBQAWuwYAargGAFV1FwBH3AAAUXsOAJaUAgDkqgAAnZ0DANdbAQDraQMA/D8RALDkAACeOxMAY5MBAG3dNQBwJwEAOq4LAI4WAAAcFgIAEw8GAC3WAgAikjgAFU0AAITXJQCczRcA9EYCAByMCAD+yAYAObAEAIzrAACDMgAAPtkHAHt2AwBtPggA4BYEAAH8AgCQ4QIAaZoIAJbzAAD5OAAAXY0qABsUBQAHAAAAFJsBAO7cAwDwSAEA904BANIVAAB6vRMBm/EHAIZhAgDlDQUA7XoDAN/PAgAdxgIAKywlANG0AQC1CwkA9owAADhrKQCahAMAa/kAACYWcgDYMwoAbIYGAAsPBQDFwQMAgYYAAGNDAQCANgEAHRU0AESaFwA+ogEAMdgAALcLMwCDCAAA3OQCAKagAgDteggA/TwAAPGUAQDQvb4ALmIOANezkgBcJwIARQIAAJyHAACJ3QEAOWYCALxUAAB3oC4AgXz4AJc7BQDasVgATJIVAIShCQDfNwYAfPEAAGuoAwDha+cAmXAQAGeDBABm7REAXDpBALk3AAC+ewAAPMUAANsiNwBqWgAAon8MAMgWgQC7YgEAguYAADyeAwCoZQQAy0INAIcXBwDZZAYAUJUDAM8tGgAChAIAlRYEAE8XCAAADwAAH2IHAPTRHACuaAkAnJABAJq0BwB0RgAAhF4nADh0AgDxKwUAKXoHAIABAQD6+gAAngwcAMEpDQC22EcBx+cDANPtFQAWowQArNgAALCuAADeGQEAfdYEAMgwCADbGQAAj10AAEoKBQAoFQEAqK5IAA==",
           "dtype": "i4"
          },
          "sizemin": 5,
          "sizemode": "area",
          "sizeref": 16835.680625,
          "symbol": "circle"
         },
         "mode": "markers",
         "name": "Decrease",
         "orientation": "v",
         "showlegend": true,
         "type": "scatter",
         "x": {
          "bdata": "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",
          "dtype": "f8"
         },
         "xaxis": "x",
         "y": {
          "bdata": "2P8TAEhhBgAMng4A/4AUAIOVAADXfwAAwigIADOBFwAJAgEAOTYCAES8BACBwEIA3uYdABOdDwDLnwMAcEQQAItSNQA/tQcAaxYIAAmIAAB2WQsAnEUBAJ2tAAB/BQoAvtIMABLHAAAujhEA/N8DALZ+AACgCgAA1GYAADp7AAB+J1oB7coAAJksMABM3AIAfrYAAHtUAQC+IAoAk4UMANfLbgAFRwMAHc8WAAMGAQBHkAEAXcBXAOGBBgDc4wUAczkBAIs7ZADA+wkAbRUAAJGKGgDyJlIAV4sAAFKHDgB7vgAAXSEAAG00AQCfICUAUeEBAAkpBgCYHQQAqI8SAPtXAAAJVgAACikAABQJBAABB5sBNtMLAN0CEwDgpwcAxXwQAH17AgDMagwAJcVIADgAAADgewEASr4YAM2cAACSDAQAKuhEALTZBAAelxYA1l0sAIrYAgB+Wg4Aif8CAB6INQAw5gMAXioAAGY3OgDqNAAAGjwSAIirJQDU1AgAAxQcAbB/AAAAoh0AMe8RAH09BgCETyIAWLgBAF0HAAC5sBAAQLkEANPwCADaEQAA1GkSAJUCAQAaXQMAUcIAANKYAgCFvgAAAcEAAD5rAABhLgEAcJocAKwDBgD8aAUAxFEFABHVAQAaggwAMD0KADQxAQAOhywAMnQAAGA62wA33AEAZwkmAFpFDAC9VSAApvsHAPu6BQD8ulEA3b4EADOUQwDkNhsAgjYGAN6IBQCiolMASi0AAIezAwDU2B8A3QkQADM1AwDSlAAAIqV+AXkCAAAaaQoAojoAAAv5AADTGCMA76cBAL3iAAC4VQ0AK2wXAN5/BgAuhQQARS8IAI1TAADopxYAuEMDAHI9AQDJ4AwAXMkpAAM+AADgWQEA6ekGAFt9IwC9UwAA7IUIAJYcAAD3bgIA1ncBAAjuAgBvsA0AK38KAESCAACf3gIAzOMJAB4FFgAA/gQATlwCANhEBgD8WwAAhmIAAKwuBAC/0AAANQsAABVHCQAX/CoAGT0CAIdVBQAWuwYAargGAFV1FwBH3AAAUXsOAJaUAgDkqgAAnZ0DANdbAQDraQMA/D8RALDkAACeOxMAY5MBAG3dNQBwJwEAOq4LAI4WAAAcFgIAEw8GAC3WAgAikjgAFU0AAITXJQCczRcA9EYCAByMCAD+yAYAObAEAIzrAACDMgAAPtkHAHt2AwBtPggA4BYEAAH8AgCQ4QIAaZoIAJbzAAD5OAAAXY0qABsUBQAHAAAAFJsBAO7cAwDwSAEA904BANIVAAB6vRMBm/EHAIZhAgDlDQUA7XoDAN/PAgAdxgIAKywlANG0AQC1CwkA9owAADhrKQCahAMAa/kAACYWcgDYMwoAbIYGAAsPBQDFwQMAgYYAAGNDAQCANgEAHRU0AESaFwA+ogEAMdgAALcLMwCDCAAA3OQCAKagAgDteggA/TwAAPGUAQDQvb4ALmIOANezkgBcJwIARQIAAJyHAACJ3QEAOWYCALxUAAB3oC4AgXz4AJc7BQDasVgATJIVAIShCQDfNwYAfPEAAGuoAwDha+cAmXAQAGeDBABm7REAXDpBALk3AAC+ewAAPMUAANsiNwBqWgAAon8MAMgWgQC7YgEAguYAADyeAwCoZQQAy0INAIcXBwDZZAYAUJUDAM8tGgAChAIAlRYEAE8XCAAADwAAH2IHAPTRHACuaAkAnJABAJq0BwB0RgAAhF4nADh0AgDxKwUAKXoHAIABAQD6+gAAngwcAMEpDQC22EcBx+cDANPtFQAWowQArNgAALCuAADeGQEAfdYEAMgwCADbGQAAj10AAEoKBQAoFQEAqK5IAA==",
          "dtype": "i4"
         },
         "yaxis": "y"
        },
        {
         "customdata": [
          [
           "Antiemetic Combination - Two Ingredient",
           -60.84
          ],
          [
           "Zonisamide",
           -1.09
          ],
          [
           "Benzonatate",
           -0.4
          ],
          [
           "Haloperidol",
           -2.35
          ],
          [
           "Cilostazol",
           -0.38
          ],
          [
           "Selegiline",
           -11
          ],
          [
           "Norethindrone",
           -2.16
          ],
          [
           "Amitriptyline",
           -0.82
          ],
          [
           "Zolmitriptan",
           -2.57
          ],
          [
           "Finasteride",
           -0.39
          ],
          [
           "Labetalol",
           -0.54
          ],
          [
           "Sertraline",
           -0.52
          ],
          [
           "Diethylpropion",
           4.44
          ],
          [
           "Methotrexate",
           -4.04
          ],
          [
           "Tolterodine",
           -12.96
          ],
          [
           "Ropinirole",
           -0.4
          ],
          [
           "Tamsulosin",
           -0.52
          ],
          [
           "Trazodone",
           -0.49
          ],
          [
           "Dextroamphetamine",
           -4.78
          ],
          [
           "Thyroid",
           3.58
          ],
          [
           "Naproxen",
           -0.19
          ],
          [
           "Choline Fenofibrate",
           -3.41
          ],
          [
           "Ibuprofen",
           0
          ],
          [
           "Nadolol",
           -10.4
          ],
          [
           "Enalapril",
           0.36
          ],
          [
           "Rifampin",
           1.74
          ],
          [
           "Alendronate",
           -0.12
          ],
          [
           "Propafenone",
           -2.98
          ],
          [
           "Triphasic Contraceptives - Oral Two Ingredient",
           -0.86
          ],
          [
           "Chlorzoxazone",
           0.27
          ],
          [
           "Potassium Chloride",
           -0.65
          ],
          [
           "Anti-infective Misc. Combination - Two Ingredient",
           -0.02
          ],
          [
           "Nitrofurantoin",
           -0.8
          ],
          [
           "Ketorolac",
           -1.53
          ],
          [
           "Benazepril",
           -0.15
          ],
          [
           "Trandolapril",
           -5.69
          ],
          [
           "Nystatin",
           -2.95
          ],
          [
           "Exemestane",
           -0.77
          ],
          [
           "Clonidine",
           -4.56
          ],
          [
           "Salsalate",
           -78.35
          ],
          [
           "Desvenlafaxine",
           -4.24
          ],
          [
           "Dronabinol",
           -18.19
          ],
          [
           "Felbamate",
           -4.57
          ],
          [
           "Rabeprazole",
           -2.42
          ],
          [
           "Varenicline",
           97.07
          ],
          [
           "Itraconazole",
           -35.75
          ],
          [
           "Megestrol",
           0.3
          ],
          [
           "Guanfacine",
           0.16
          ],
          [
           "Cephalexin",
           -0.27
          ],
          [
           "Metformin",
           -0.8
          ],
          [
           "Granisetron",
           1.28
          ],
          [
           "Paroxetine",
           -0.16
          ],
          [
           "Olanzapine",
           -0.59
          ],
          [
           "Nateglinide",
           -4.43
          ],
          [
           "Risperidone",
           0.1
          ],
          [
           "Potassium & Sodium Phosphates",
           -3.34
          ],
          [
           "Prenatal without A w/ Fe Fumarate-L Methylfolate-FA-DHA",
           0.52
          ],
          [
           "Atorvastatin",
           -0.52
          ],
          [
           "Topiramate",
           -0.15
          ],
          [
           "Tranylcypromine",
           1.33
          ],
          [
           "Ziprasidone",
           -0.78
          ],
          [
           "Sucralfate",
           -0.14
          ],
          [
           "Chlorpromazine",
           -33.7
          ],
          [
           "Cyclobenzaprine",
           -0.14
          ],
          [
           "Promethazine",
           -0.01
          ],
          [
           "Spironolactone",
           -0.79
          ],
          [
           "Losartan",
           -1.02
          ],
          [
           "Darifenacin",
           -17.96
          ],
          [
           "Pindolol",
           0.65
          ],
          [
           "Fluconazole",
           -0.27
          ],
          [
           "Niacin",
           -3.17
          ],
          [
           "Aliskiren",
           -18.81
          ],
          [
           "Abacavir",
           -20.73
          ],
          [
           "Oxycodone",
           -0.89
          ],
          [
           "Levodopa Combination - Two Ingredient",
           2.22
          ],
          [
           "Angiotensin II Recept Antag & Ca Chan Block Comb - 2 Ingred",
           -1.01
          ],
          [
           "Cabergoline",
           -5.37
          ],
          [
           "Fludrocortisone",
           -1.77
          ],
          [
           "Perphenazine",
           -13.36
          ],
          [
           "Desloratadine",
           -1.21
          ],
          [
           "Solifenacin",
           -0.12
          ],
          [
           "Dapsone",
           5.27
          ],
          [
           "Progesterone",
           0.12
          ],
          [
           "Tinidazole",
           -0.55
          ],
          [
           "Penicillin Combination - Two Ingredient",
           0.14
          ],
          [
           "Olmesartan",
           -0.9
          ],
          [
           "Dexmethylphenidate",
           -18.81
          ],
          [
           "Tizanidine",
           -0.35
          ],
          [
           "Colesevelam",
           6.62
          ],
          [
           "Hydroxyzine",
           -0.17
          ],
          [
           "Combination Gout Drugs - Two Ingredient",
           6.19
          ],
          [
           "Carvedilol",
           -0.21
          ],
          [
           "Diclofenac",
           -0.87
          ],
          [
           "Calcitriol",
           -0.36
          ],
          [
           "Prednisone",
           -0.15
          ],
          [
           "Atomoxetine",
           -2.91
          ],
          [
           "Chlordiazepoxide",
           1.65
          ],
          [
           "Indapamide",
           0
          ],
          [
           "Cevimeline",
           -8.09
          ],
          [
           "Sodium Fluoride",
           0.74
          ],
          [
           "Cyproheptadine",
           -2.87
          ],
          [
           "Simvastatin",
           -0.02
          ],
          [
           "Warfarin",
           -0.51
          ],
          [
           "Colchicine",
           -20.73
          ],
          [
           "Clonazepam",
           -0.16
          ],
          [
           "Mirtazapine",
           -0.55
          ],
          [
           "Venlafaxine",
           -1.22
          ],
          [
           "ACE Inhibitors & Thiazide/Thiazide-Like - Two Ingredient",
           -0.15
          ],
          [
           "Doxazosin",
           -5.5
          ],
          [
           "Pediatric Multivitamins w/ Fluoride",
           -0.95
          ],
          [
           "Tacrolimus",
           -8.66
          ],
          [
           "Hydralazine",
           -0.39
          ],
          [
           "Codeine",
           -5.71
          ],
          [
           "Gabapentin",
           -0.34
          ],
          [
           "Acarbose",
           -0.29
          ],
          [
           "Midodrine",
           -4.51
          ],
          [
           "Fluvoxamine",
           -7.59
          ],
          [
           "Dexlansoprazole",
           54.7
          ],
          [
           "Dofetilide",
           -38.86
          ],
          [
           "Lamotrigine",
           -4.17
          ],
          [
           "Sulfonylurea-Biguanide Combination - Two Ingredient",
           -0.56
          ],
          [
           "Extended-Cycle Contraceptives - Oral Two Ingredient",
           -13.58
          ],
          [
           "Methenamine",
           -19.1
          ],
          [
           "Allopurinol",
           -0.44
          ],
          [
           "Angiotensin II Receptor Antagonists & Thiazides - Two Ingred",
           -1.44
          ],
          [
           "Tetracycline",
           -3.03
          ],
          [
           "Thiazolidinedione-Biguanide Combination - Two Ingredient",
           -0.53
          ],
          [
           "Imatinib",
           -69.58
          ],
          [
           "Chlorthalidone",
           -0.48
          ],
          [
           "Benztropine",
           -0.55
          ],
          [
           "Isoniazid",
           -0.11
          ],
          [
           "Alogliptin",
           -9.96
          ],
          [
           "Zafirlukast",
           0.49
          ],
          [
           "Ciprofloxacin",
           -0.09
          ],
          [
           "Codeine Combination - Two Ingredient",
           2.42
          ],
          [
           "Methimazole",
           0.02
          ],
          [
           "Selective Serotonin Agonist-NSAID Combination -2 Ingredient",
           -180.1
          ],
          [
           "Dicyclomine",
           0.95
          ],
          [
           "Ca Channel Blocker & HMG CoA Reductase Inhib Comb 2 Ingred",
           -21.86
          ],
          [
           "Mexiletine",
           -10.35
          ],
          [
           "Ivermectin",
           -1.32
          ],
          [
           "Ibandronate",
           -1.87
          ],
          [
           "Nebivolol",
           0.26
          ],
          [
           "Misoprostol",
           -0.18
          ],
          [
           "Lovastatin",
           -0.4
          ],
          [
           "Dipeptidyl Peptidase-4 Inhibitor-Biguanide - Two Ingredient",
           11.68
          ],
          [
           "Doxycycline",
           -0.52
          ],
          [
           "Amlodipine",
           0.04
          ],
          [
           "Desmopressin",
           -1.15
          ],
          [
           "Cyclosporine",
           -17.88
          ],
          [
           "Amphetamine",
           -75.83
          ],
          [
           "Buspirone",
           -0.02
          ],
          [
           "Lansoprazole",
           3.4
          ],
          [
           "Pravastatin",
           -1.02
          ],
          [
           "Ethosuximide",
           -22.21
          ],
          [
           "Oxcarbazepine",
           -0.05
          ],
          [
           "Estradiol Vaginal",
           -44.36
          ],
          [
           "Diazepam",
           0.17
          ],
          [
           "Rasagiline",
           -10.56
          ],
          [
           "Prochlorperazine",
           1.45
          ],
          [
           "Buprenorphine",
           -4.83
          ],
          [
           "Entacapone",
           -19.86
          ],
          [
           "Acetazolamide",
           -17.03
          ],
          [
           "Ramelteon",
           -12.43
          ],
          [
           "Tetrabenazine",
           23.11
          ],
          [
           "Baclofen",
           -0.98
          ],
          [
           "Pantoprazole",
           -0.09
          ],
          [
           "Glipizide",
           0.03
          ],
          [
           "Methazolamide",
           -144.94
          ],
          [
           "Ergocalciferol",
           0.03
          ],
          [
           "Mycophenolate",
           -15.09
          ],
          [
           "Cefuroxime",
           -1.32
          ],
          [
           "Bupropion",
           -0.84
          ],
          [
           "Naltrexone",
           -2.9
          ],
          [
           "Morphine",
           -1.08
          ],
          [
           "Loperamide",
           1.76
          ],
          [
           "Trimethoprim",
           30.71
          ],
          [
           "Nabumetone",
           -1.48
          ],
          [
           "Duloxetine",
           -1.26
          ],
          [
           "Donepezil",
           -0.04
          ],
          [
           "Methylprednisolone",
           -0.11
          ],
          [
           "Sirolimus",
           -63.96
          ],
          [
           "Trihexyphenidyl",
           0.03
          ],
          [
           "Sumatriptan",
           -0.68
          ],
          [
           "Pentoxifylline",
           -3.83
          ],
          [
           "Norethindrone (Contraceptive)",
           -0.04
          ],
          [
           "Levothyroxine",
           -3.42
          ],
          [
           "Paricalcitol",
           -0.4
          ],
          [
           "Fesoterodine",
           8.21
          ],
          [
           "Citrates",
           -7.52
          ],
          [
           "Oxazepam",
           -3.83
          ],
          [
           "Anastrozole",
           -0.35
          ],
          [
           "Codeine Combination - Four Ingredient",
           7.45
          ],
          [
           "Methocarbamol",
           -1.16
          ],
          [
           "Clozapine",
           2.92
          ],
          [
           "Vilazodone",
           0.69
          ],
          [
           "Repaglinide",
           -2.65
          ],
          [
           "Moxifloxacin",
           -2.12
          ],
          [
           "Phenobarbital",
           -5.74
          ],
          [
           "Albendazole",
           -33.9
          ],
          [
           "Hydrochlorothiazide",
           -0.12
          ],
          [
           "Alprazolam",
           -0.1
          ],
          [
           "Vancomycin",
           -18.56
          ],
          [
           "Risedronate",
           -4.1
          ],
          [
           "Clomipramine",
           -21.09
          ],
          [
           "Rufinamide",
           33.72
          ],
          [
           "Pioglitazone",
           -0.41
          ],
          [
           "Minoxidil",
           0.76
          ],
          [
           "Raloxifene",
           -2.93
          ],
          [
           "Famotidine",
           -0.15
          ],
          [
           "Azithromycin",
           -0.8
          ],
          [
           "Fluvastatin",
           -21.84
          ],
          [
           "ACE Inhibitors & Ca Channel Blocker Combination - 2 Ingred",
           -0.39
          ],
          [
           "Nortriptyline",
           -1.01
          ],
          [
           "Budesonide",
           -42.6
          ],
          [
           "Imipramine",
           -0.29
          ],
          [
           "Erythromycin Base",
           -57.75
          ],
          [
           "Zaleplon",
           -0.19
          ],
          [
           "Dantrolene",
           2.65
          ],
          [
           "Atazanavir",
           -55.34
          ],
          [
           "Desipramine",
           -12.93
          ],
          [
           "Oseltamivir",
           -5.15
          ],
          [
           "Phenazopyridine HCl",
           -1.8
          ],
          [
           "Omeprazole",
           -0.08
          ],
          [
           "Dutasteride",
           -0.86
          ],
          [
           "Dabigatran",
           272.48
          ],
          [
           "Famciclovir",
           0.63
          ],
          [
           "Diphenoxylate",
           -1.75
          ],
          [
           "Phenytoin",
           -3.28
          ],
          [
           "Doxepin",
           0.17
          ],
          [
           "Sevelamer",
           -14.87
          ],
          [
           "Tenofovir",
           -3.51
          ],
          [
           "Estradiol",
           -0.36
          ],
          [
           "Voriconazole",
           -59.78
          ],
          [
           "Ramipril",
           -0.26
          ],
          [
           "Prostatic Hypertrophy Agent Combination - Two Ingredient",
           -21.82
          ],
          [
           "Armodafinil",
           -7.12
          ],
          [
           "Intest Cholest Absorp Inhib-HMG CoA Reduct Inhib Comb 2 Ing",
           -9.89
          ],
          [
           "Omega-3-acid",
           -0.01
          ],
          [
           "Valganciclovir",
           -25.16
          ],
          [
           "Prazosin",
           -1.95
          ],
          [
           "Orphenadrine",
           5.8
          ],
          [
           "Amiloride",
           -6.71
          ],
          [
           "Loxapine",
           4.67
          ],
          [
           "Febuxostat",
           -13.23
          ],
          [
           "Ranolazine",
           -3.52
          ],
          [
           "Angiotensin II Receptor Ant-Ca Channel Blocker-Thiazides",
           2.2
          ],
          [
           "Cefpodoxime",
           -7.04
          ],
          [
           "Celecoxib",
           -1.36
          ],
          [
           "Valproic Acid",
           -0.98
          ],
          [
           "Cefprozil",
           1.3
          ],
          [
           "Prenatal Vitamins w/ Ferrous Fumarate-Folic Acid",
           0.37
          ],
          [
           "Capecitabine",
           -33.79
          ],
          [
           "Acyclovir",
           0.3
          ],
          [
           "Isosorbide Dinitrate",
           -2.05
          ],
          [
           "Leucovorin",
           26.6
          ],
          [
           "Clorazepate",
           -3.3
          ],
          [
           "Mercaptopurine",
           -8.26
          ],
          [
           "Amoxicillin",
           -0.02
          ],
          [
           "Penicillin V",
           -0.47
          ],
          [
           "Rosuvastatin",
           -0.36
          ],
          [
           "Indomethacin",
           -0.34
          ],
          [
           "Entecavir",
           -21.03
          ],
          [
           "Lacosamide",
           4.48
          ],
          [
           "Letrozole",
           -1.02
          ],
          [
           "Pregabalin",
           -1.93
          ],
          [
           "Antiretroviral Combination - Two Ingredient",
           -0.42
          ],
          [
           "Citalopram",
           0.03
          ],
          [
           "Proton Pump Inhibitor-Antacid Combination - Two Ingredient",
           -164.45
          ],
          [
           "Piroxicam",
           -0.55
          ],
          [
           "Metolazone",
           -2.13
          ],
          [
           "Clarithromycin",
           0.1
          ],
          [
           "Temazepam",
           -1.28
          ],
          [
           "Pramipexole",
           0.18
          ],
          [
           "Ritonavir",
           -15.45
          ],
          [
           "Ondansetron",
           -0.42
          ],
          [
           "Ketoconazole",
           -2.05
          ],
          [
           "Opioid Combination - Two Ingredient",
           -1.05
          ],
          [
           "Rizatriptan",
           -2.01
          ],
          [
           "Bisoprolol",
           0.41
          ],
          [
           "Carisoprodol",
           -2.42
          ],
          [
           "Lubiprostone",
           65.33
          ],
          [
           "Irbesartan",
           -2.95
          ],
          [
           "Clindamycin",
           -0.42
          ],
          [
           "Hydroxyurea",
           -2.49
          ],
          [
           "Medroxyprogesterone",
           0.12
          ],
          [
           "Levocarnitine",
           17.53
          ],
          [
           "Triphasic Contraceptives - Oral Three Ingredient",
           -7.16
          ],
          [
           "Bethanechol",
           -0.38
          ],
          [
           "Bumetanide",
           -1.82
          ],
          [
           "Modafinil",
           -1.97
          ],
          [
           "Minocycline",
           -1.8
          ],
          [
           "Tadalafil",
           -7.26
          ],
          [
           "Hyoscyamine",
           -1.43
          ],
          [
           "Candesartan",
           -7.79
          ],
          [
           "Azathioprine",
           -4.45
          ],
          [
           "Terazosin",
           -0.78
          ],
          [
           "Estazolam",
           -10.14
          ],
          [
           "Fenofibrate",
           -2.46
          ],
          [
           "Eszopiclone",
           -1.52
          ],
          [
           "Phendimetrazine",
           -0.02
          ],
          [
           "Alfuzosin",
           -1.32
          ],
          [
           "Pyridostigmine",
           -5.54
          ],
          [
           "Almotriptan",
           -26.36
          ],
          [
           "Ethambutol",
           -7.86
          ],
          [
           "Ampicillin",
           -0.22
          ],
          [
           "Paliperidone",
           -65.43
          ],
          [
           "Calcium Acetate",
           -8.03
          ],
          [
           "Naratriptan",
           -3.07
          ],
          [
           "Meclizine",
           -0.5
          ],
          [
           "Icosapent",
           89.9
          ],
          [
           "Estrogen & Progestin - Two Ingredient",
           -7.2
          ],
          [
           "Theophylline",
           -10.08
          ],
          [
           "Roflumilast",
           -6.74
          ],
          [
           "Antiretroviral Combination - Three Ingredient",
           23.65
          ],
          [
           "Oxybutynin",
           -2.32
          ],
          [
           "Digoxin",
           0.35
          ],
          [
           "Sulindac",
           0.65
          ],
          [
           "Riluzole",
           0.61
          ],
          [
           "Levofloxacin",
           -0.22
          ],
          [
           "Clobazam",
           -2.15
          ],
          [
           "Lorazepam",
           -0.02
          ],
          [
           "Carbamazepine",
           -6.27
          ],
          [
           "Liothyronine",
           -1.76
          ],
          [
           "Eplerenone",
           -1.45
          ],
          [
           "Combination Contraceptives - Oral Two Ingredient",
           -2.39
          ],
          [
           "Prasugrel",
           -9.23
          ],
          [
           "Clopidogrel",
           -0.3
          ],
          [
           "Telmisartan",
           -3.73
          ],
          [
           "Hydrocodone-Homatropine",
           9.2
          ],
          [
           "Asenapine",
           -7.22
          ],
          [
           "Phentermine",
           -0.32
          ],
          [
           "Folic Acid",
           0.03
          ],
          [
           "Silodosin",
           -8.29
          ],
          [
           "Colestipol",
           6.48
          ],
          [
           "Sildenafil",
           -1.37
          ],
          [
           "Nifedipine",
           -3.13
          ],
          [
           "Hydroxychloroquine",
           -2.33
          ],
          [
           "Beta Blocker & Diuretic Combination - Two Ingredient",
           -0.99
          ],
          [
           "Urinary Antiseptic-Antispas &/or Analgesics - 4 Ingredient",
           -28.98
          ],
          [
           "Quetiapine",
           -0.58
          ],
          [
           "Betaxolol",
           -2.96
          ],
          [
           "Cimetidine",
           -5.14
          ],
          [
           "Lisinopril",
           0.08
          ],
          [
           "Dalfampridine",
           -9.68
          ],
          [
           "Metronidazole",
           -0.22
          ],
          [
           "Protriptyline",
           -10.18
          ],
          [
           "Acebutolol",
           6.37
          ],
          [
           "Torsemide",
           -0.39
          ],
          [
           "Metoprolol",
           0.16
          ],
          [
           "Divalproex",
           -4.31
          ],
          [
           "Valacyclovir",
           -0.5
          ],
          [
           "Isotretinoin",
           -54.79
          ],
          [
           "Terbinafine",
           -0.35
          ],
          [
           "Quinine",
           -0.59
          ],
          [
           "Rivastigmine",
           -3.53
          ],
          [
           "Analgesics-Sedative Combination - Two Ingredient",
           7.17
          ],
          [
           "Cefdinir",
           -0.12
          ],
          [
           "Metoclopramide",
           0.33
          ],
          [
           "Verapamil",
           -0.71
          ],
          [
           "Anticholinergic Combination - Two Ingredient",
           -5.94
          ],
          [
           "Flavoxate",
           5.38
          ],
          [
           "Amantadine",
           -14.13
          ],
          [
           "Methylphenidate",
           -5.33
          ],
          [
           "Hydromorphone",
           -2.12
          ],
          [
           "Combination Contraceptives - Oral Three Ingredient",
           -5.02
          ],
          [
           "Galantamine",
           1.37
          ],
          [
           "Escitalopram",
           -0.23
          ],
          [
           "B-Complex w/ Vitamin C & Folic Acid",
           1.2
          ],
          [
           "Diltiazem",
           -1.23
          ],
          [
           "Atenolol",
           0.07
          ],
          [
           "Flecainide",
           -4.86
          ],
          [
           "Furosemide",
           0.04
          ],
          [
           "Glyburide",
           -0.52
          ],
          [
           "Glimepiride",
           -0.36
          ],
          [
           "Cinacalcet",
           -65.88
          ],
          [
           "Ezetimibe",
           -1.08
          ],
          [
           "Frovatriptan",
           18.4
          ],
          [
           "Cefadroxil",
           0.58
          ],
          [
           "Oxaprozin",
           -47.85
          ],
          [
           "Nitroglycerin",
           -4.05
          ],
          [
           "Levetiracetam",
           -2.26
          ],
          [
           "Meloxicam",
           0
          ],
          [
           "Felodipine",
           -2.17
          ],
          [
           "Diuretic Combination - Two Ingredient",
           -0.19
          ],
          [
           "Propranolol",
           -1.35
          ],
          [
           "Nonsteroidal Anti-inflammatory Agent Combination - 2 Ingred",
           14.23
          ],
          [
           "Griseofulvin",
           -4.42
          ],
          [
           "Analgesics-Sedative Combination - Three Ingredient",
           -1.67
          ],
          [
           "Aripiprazole",
           -1.84
          ],
          [
           "Etodolac",
           -1.68
          ],
          [
           "Sotalol",
           -1.05
          ],
          [
           "Hydrocodone Combination - Two Ingredient",
           0.29
          ],
          [
           "Memantine",
           -1
          ],
          [
           "Zolpidem",
           -0.2
          ],
          [
           "Leflunomide",
           -7.61
          ],
          [
           "Bicalutamide",
           0.03
          ],
          [
           "Esomeprazole",
           -0.86
          ],
          [
           "Gemfibrozil",
           0.02
          ],
          [
           "Amiodarone",
           -1.97
          ],
          [
           "Pilocarpine",
           -5.61
          ],
          [
           "Tramadol Combination - Two Ingredient",
           0.52
          ],
          [
           "Ursodiol",
           -11.88
          ],
          [
           "Isosorbide Mononitrate",
           -0.35
          ],
          [
           "Disulfiram",
           -7.85
          ],
          [
           "Biphasic Contraceptives - Oral Two Ingredient",
           -8.48
          ],
          [
           "Primidone",
           -0.03
          ],
          [
           "Acitretin",
           -67.19
          ],
          [
           "Montelukast",
           -0.3
          ],
          [
           "Valsartan",
           -1.08
          ],
          [
           "Methadone",
           -1.12
          ],
          [
           "Dimethyl Fumarate",
           -42.17
          ],
          [
           "Trospium",
           -0.46
          ],
          [
           "Acamprosate",
           -23.17
          ],
          [
           "Propylthiouracil",
           -8.92
          ],
          [
           "Mesalamine",
           18.36
          ],
          [
           "Dexamethasone",
           -0.62
          ],
          [
           "Antimalarial Combination - Two Ingredient",
           9.52
          ],
          [
           "Eletriptan",
           -14.02
          ],
          [
           "Cefixime",
           5.57
          ],
          [
           "Triazolam",
           -2.46
          ],
          [
           "Captopril",
           -6.02
          ],
          [
           "Fluphenazine",
           -27.39
          ],
          [
           "Lanthanum",
           334.19
          ],
          [
           "Abiraterone",
           69.2
          ],
          [
           "Tranexamic Acid",
           -7.59
          ],
          [
           "Amphetamine Mixtures - Two Ingredient",
           -4.56
          ],
          [
           "Tamoxifen",
           -2.13
          ],
          [
           "Balsalazide",
           1.12
          ],
          [
           "Glycopyrrolate",
           -6.03
          ],
          [
           "Droxidopa",
           45.39
          ],
          [
           "Bromocriptine",
           -17.63
          ],
          [
           "Hydrocortisone",
           0.1
          ],
          [
           "Mefloquine",
           -5.17
          ],
          [
           "Sulfasalazine",
           -0.39
          ],
          [
           "Lithium",
           -0.06
          ],
          [
           "Metaxalone",
           2.34
          ],
          [
           "Levocetirizine",
           -0.34
          ],
          [
           "Aprepitant",
           24.5
          ],
          [
           "Linezolid",
           0.69
          ],
          [
           "Tramadol",
           -0.45
          ],
          [
           "Fosinopril",
           -0.84
          ],
          [
           "Continuous Contraceptives Oral - Two Ingredient",
           -4.44
          ],
          [
           "Albuterol",
           -123.16
          ],
          [
           "Platelet Aggregation Inhibitor Combination - Two Ingredient",
           -18.02
          ],
          [
           "Fluoxetine",
           -0.72
          ]
         ],
         "hovertemplate": "<b>Product:</b> %{customdata[0]}<br><b>Prescription Count:</b> %{x:,}<br><b>Total Difference:</b> $%{y:,.0f}<br><b>Difference per Rx:</b> $%{customdata[1]:,.2f}<br><extra></extra>",
         "legendgroup": "Increase",
         "marker": {
          "color": "#EF553B",
          "line": {
           "color": "white",
           "width": 0.5
          },
          "opacity": 0.8,
          "size": {
           "bdata": "XA8AAEZaBQDfGAAAgy8CAMAsAgDsFwAA/CPeAFVDAABg/wgA4gsAAODDBADHKgAANQoAAHcIAACdLQQAJbYBAFD9AADoGQgAZNcBAKREAAAavgIAtcQAAChAVwCyEwAA91QXACAXAABOdgYATFMAAGxwBABQ7QQAGvwRAMSVAgC3OgQACsYBAOuxAACNOgMATPcFAF2EAwCeDQAAVDkCAGlgAQChUxoAYB0BAG30BQAh0AEAHHUAAPliHQDmJgAA8p8BAOnBBQDgEwIAomMAALdtAADH/AIA0iADAO5PDwDyciAAE/sAADQ+AADXoQAAIKoAAOcvTgB6uwAASWsHAJhkigBZwAIAw7UAAEWWAABnFAAAeQEAAJ2HAQAkqQcAFZsIAGJ+AADgtA4AFNYAAAUxAwA4FgAAPBEAAM2cAAB/8gAAqKABAIxgAQATAwEAydoBAFmCFQDzAQAAZRAAACojAAAk2BQAyZcEAHTmAADxIQAAklQNAD8yAAAaYAAAHEIAAJvcAADBRwMALV0AAA==",
           "dtype": "i4"
          },
          "sizemin": 5,
          "sizemode": "area",
          "sizeref": 16835.680625,
          "symbol": "circle"
         },
         "mode": "markers",
         "name": "Increase",
         "orientation": "v",
         "showlegend": true,
         "type": "scatter",
         "x": {
          "bdata": "AAAAAACwi0AAAAAAgPP3QAAAAMBzsGRBAAAAADgUGEEAAAAAkAH0QAAAAABAY9ZAAAAAAOBOAkEAAAAAQAXsQAAAAICKjEtBAAAAAACSokAAAACAuj5IQQAAAADAo9RAAAAAAADMnkAAAAAAAOCpQAAAAABAF/5AAAAAAADJ1EAAAAAAyhggQQAAAIBTnkxBAAAAAEDP0UAAAAAAAC6mQAAAAADQovpAAAAAAFCi8EAAAAAAIIX5QAAAAAAARMRAAAAAABBBI0EAAAAAfB0RQQAAAACQIxtBAAAAAEAX9EAAAAAAQFPYQAAAAED1HGBBAAAAAPAsFUEAAAAAyJsuQQAAAAAoRAdBAAAAAACls0AAAAAAXyY1QQAAAMA9Ul5BAAAAAFgoC0EAAAAAAFK9QAAAAADAIPlAAAAAAABW0UAAAAAAgKTHQAAAAAAOAiJBAAAAAGDh+UAAAAAAAJrGQAAAAACQHQNBAAAAAAAQxkAAAAAAAJy7QAAAAACA/85AAAAAAD4iI0EAAAAAYMTvQAAAAABAc9xAAAAAAICdxkAAAAAAQBrVQAAAAADYDiBBAAAAAMjhJEEAAAAAgGziQAAAAABY9BxBAAAAADUUQEEAAAAA0NIDQQAAAABQegtBAAAAAOAj+kAAAAAAUCbzQAAAAAAofhdBAAAAAAAX20AAAAAAUKH4QAAAAAAAyL1AAAAAAIg1AEEAAAAA4M7sQAAAAACAscBAAAAAAACAREAAAAAAZZNHQQAAAAAQ6fJAAAAAQOr9WkEAAAAAANmzQAAAAADvKVdBAAAAAADfvUAAAAAAzBgjQQAAAAAAhJBAAAAAAAA0qUAAAAAAIEngQAAAAAD2jitBAAAAgIrORkEAAAAAACqzQAAAAABwGfxAAAAAAICtwEAAAADAXslSQQAAAABAfdJAAAAAAEjLEEEAAAAAAO3QQAAAAAAQKvJAAAAAAMDh3kAAAAAAAKzEQAAAAAAAADpAAAAAAICoyEAAAAAAgIPGQAAAAAAA8IBAAAAAANhEBEEAAAAAAJTXQAAAAAAAI8FAAAAAAMDd4EA=",
          "dtype": "f8"
         },
         "xaxis": "x",
         "y": {
          "bdata": "XA8AAEZaBQDfGAAAgy8CAMAsAgDsFwAA/CPeAFVDAABg/wgA4gsAAODDBADHKgAANQoAAHcIAACdLQQAJbYBAFD9AADoGQgAZNcBAKREAAAavgIAtcQAAChAVwCyEwAA91QXACAXAABOdgYATFMAAGxwBABQ7QQAGvwRAMSVAgC3OgQACsYBAOuxAACNOgMATPcFAF2EAwCeDQAAVDkCAGlgAQChUxoAYB0BAG30BQAh0AEAHHUAAPliHQDmJgAA8p8BAOnBBQDgEwIAomMAALdtAADH/AIA0iADAO5PDwDyciAAE/sAADQ+AADXoQAAIKoAAOcvTgB6uwAASWsHAJhkigBZwAIAw7UAAEWWAABnFAAAeQEAAJ2HAQAkqQcAFZsIAGJ+AADgtA4AFNYAAAUxAwA4FgAAPBEAAM2cAAB/8gAAqKABAIxgAQATAwEAydoBAFmCFQDzAQAAZRAAACojAAAk2BQAyZcEAHTmAADxIQAAklQNAD8yAAAaYAAAHEIAAJvcAADBRwMALV0AAA==",
          "dtype": "i4"
         },
         "yaxis": "y"
        }
       ],
       "layout": {
        "coloraxis": {
         "colorbar": {
          "tickformat": "$~s",
          "title": {
           "font": {
            "size": 12
           },
           "text": "Total Difference ($)"
          }
         }
        },
        "font": {
         "family": "Arial, sans-serif",
         "size": 12
        },
        "height": 600,
        "legend": {
         "itemsizing": "constant",
         "title": {
          "text": "classification"
         },
         "tracegroupgap": 0
        },
        "margin": {
         "b": 80,
         "l": 80,
         "r": 80,
         "t": 100
        },
        "paper_bgcolor": "white",
        "plot_bgcolor": "white",
        "template": {
         "data": {
          "bar": [
           {
            "error_x": {
             "color": "#2a3f5f"
            },
            "error_y": {
             "color": "#2a3f5f"
            },
            "marker": {
             "line": {
              "color": "#E5ECF6",
              "width": 0.5
             },
             "pattern": {
              "fillmode": "overlay",
              "size": 10,
              "solidity": 0.2
             }
            },
            "type": "bar"
           }
          ],
          "barpolar": [
           {
            "marker": {
             "line": {
              "color": "#E5ECF6",
              "width": 0.5
             },
             "pattern": {
              "fillmode": "overlay",
              "size": 10,
              "solidity": 0.2
             }
            },
            "type": "barpolar"
           }
          ],
          "carpet": [
           {
            "aaxis": {
             "endlinecolor": "#2a3f5f",
             "gridcolor": "white",
             "linecolor": "white",
             "minorgridcolor": "white",
             "startlinecolor": "#2a3f5f"
            },
            "baxis": {
             "endlinecolor": "#2a3f5f",
             "gridcolor": "white",
             "linecolor": "white",
             "minorgridcolor": "white",
             "startlinecolor": "#2a3f5f"
            },
            "type": "carpet"
           }
          ],
          "choropleth": [
           {
            "colorbar": {
             "outlinewidth": 0,
             "ticks": ""
            },
            "type": "choropleth"
           }
          ],
          "contour": [
           {
            "colorbar": {
             "outlinewidth": 0,
             "ticks": ""
            },
            "colorscale": [
             [
              0,
              "#0d0887"
             ],
             [
              0.1111111111111111,
              "#46039f"
             ],
             [
              0.2222222222222222,
              "#7201a8"
             ],
             [
              0.3333333333333333,
              "#9c179e"
             ],
             [
              0.4444444444444444,
              "#bd3786"
             ],
             [
              0.5555555555555556,
              "#d8576b"
             ],
             [
              0.6666666666666666,
              "#ed7953"
             ],
             [
              0.7777777777777778,
              "#fb9f3a"
             ],
             [
              0.8888888888888888,
              "#fdca26"
             ],
             [
              1,
              "#f0f921"
             ]
            ],
            "type": "contour"
           }
          ],
          "contourcarpet": [
           {
            "colorbar": {
             "outlinewidth": 0,
             "ticks": ""
            },
            "type": "contourcarpet"
           }
          ],
          "heatmap": [
           {
            "colorbar": {
             "outlinewidth": 0,
             "ticks": ""
            },
            "colorscale": [
             [
              0,
              "#0d0887"
             ],
             [
              0.1111111111111111,
              "#46039f"
             ],
             [
              0.2222222222222222,
              "#7201a8"
             ],
             [
              0.3333333333333333,
              "#9c179e"
             ],
             [
              0.4444444444444444,
              "#bd3786"
             ],
             [
              0.5555555555555556,
              "#d8576b"
             ],
             [
              0.6666666666666666,
              "#ed7953"
             ],
             [
              0.7777777777777778,
              "#fb9f3a"
             ],
             [
              0.8888888888888888,
              "#fdca26"
             ],
             [
              1,
              "#f0f921"
             ]
            ],
            "type": "heatmap"
           }
          ],
          "histogram": [
           {
            "marker": {
             "pattern": {
              "fillmode": "overlay",
              "size": 10,
              "solidity": 0.2
             }
            },
            "type": "histogram"
           }
          ],
          "histogram2d": [
           {
            "colorbar": {
             "outlinewidth": 0,
             "ticks": ""
            },
            "colorscale": [
             [
              0,
              "#0d0887"
             ],
             [
              0.1111111111111111,
              "#46039f"
             ],
             [
              0.2222222222222222,
              "#7201a8"
             ],
             [
              0.3333333333333333,
              "#9c179e"
             ],
             [
              0.4444444444444444,
              "#bd3786"
             ],
             [
              0.5555555555555556,
              "#d8576b"
             ],
             [
              0.6666666666666666,
              "#ed7953"
             ],
             [
              0.7777777777777778,
              "#fb9f3a"
             ],
             [
              0.8888888888888888,
              "#fdca26"
             ],
             [
              1,
              "#f0f921"
             ]
            ],
            "type": "histogram2d"
           }
          ],
          "histogram2dcontour": [
           {
            "colorbar": {
             "outlinewidth": 0,
             "ticks": ""
            },
            "colorscale": [
             [
              0,
              "#0d0887"
             ],
             [
              0.1111111111111111,
              "#46039f"
             ],
             [
              0.2222222222222222,
              "#7201a8"
             ],
             [
              0.3333333333333333,
              "#9c179e"
             ],
             [
              0.4444444444444444,
              "#bd3786"
             ],
             [
              0.5555555555555556,
              "#d8576b"
             ],
             [
              0.6666666666666666,
              "#ed7953"
             ],
             [
              0.7777777777777778,
              "#fb9f3a"
             ],
             [
              0.8888888888888888,
              "#fdca26"
             ],
             [
              1,
              "#f0f921"
             ]
            ],
            "type": "histogram2dcontour"
           }
          ],
          "mesh3d": [
           {
            "colorbar": {
             "outlinewidth": 0,
             "ticks": ""
            },
            "type": "mesh3d"
           }
          ],
          "parcoords": [
           {
            "line": {
             "colorbar": {
              "outlinewidth": 0,
              "ticks": ""
             }
            },
            "type": "parcoords"
           }
          ],
          "pie": [
           {
            "automargin": true,
            "type": "pie"
           }
          ],
          "scatter": [
           {
            "fillpattern": {
             "fillmode": "overlay",
             "size": 10,
             "solidity": 0.2
            },
            "type": "scatter"
           }
          ],
          "scatter3d": [
           {
            "line": {
             "colorbar": {
              "outlinewidth": 0,
              "ticks": ""
             }
            },
            "marker": {
             "colorbar": {
              "outlinewidth": 0,
              "ticks": ""
             }
            },
            "type": "scatter3d"
           }
          ],
          "scattercarpet": [
           {
            "marker": {
             "colorbar": {
              "outlinewidth": 0,
              "ticks": ""
             }
            },
            "type": "scattercarpet"
           }
          ],
          "scattergeo": [
           {
            "marker": {
             "colorbar": {
              "outlinewidth": 0,
              "ticks": ""
             }
            },
            "type": "scattergeo"
           }
          ],
          "scattergl": [
           {
            "marker": {
             "colorbar": {
              "outlinewidth": 0,
              "ticks": ""
             }
            },
            "type": "scattergl"
           }
          ],
          "scattermap": [
           {
            "marker": {
             "colorbar": {
              "outlinewidth": 0,
              "ticks": ""
             }
            },
            "type": "scattermap"
           }
          ],
          "scattermapbox": [
           {
            "marker": {
             "colorbar": {
              "outlinewidth": 0,
              "ticks": ""
             }
            },
            "type": "scattermapbox"
           }
          ],
          "scatterpolar": [
           {
            "marker": {
             "colorbar": {
              "outlinewidth": 0,
              "ticks": ""
             }
            },
            "type": "scatterpolar"
           }
          ],
          "scatterpolargl": [
           {
            "marker": {
             "colorbar": {
              "outlinewidth": 0,
              "ticks": ""
             }
            },
            "type": "scatterpolargl"
           }
          ],
          "scatterternary": [
           {
            "marker": {
             "colorbar": {
              "outlinewidth": 0,
              "ticks": ""
             }
            },
            "type": "scatterternary"
           }
          ],
          "surface": [
           {
            "colorbar": {
             "outlinewidth": 0,
             "ticks": ""
            },
            "colorscale": [
             [
              0,
              "#0d0887"
             ],
             [
              0.1111111111111111,
              "#46039f"
             ],
             [
              0.2222222222222222,
              "#7201a8"
             ],
             [
              0.3333333333333333,
              "#9c179e"
             ],
             [
              0.4444444444444444,
              "#bd3786"
             ],
             [
              0.5555555555555556,
              "#d8576b"
             ],
             [
              0.6666666666666666,
              "#ed7953"
             ],
             [
              0.7777777777777778,
              "#fb9f3a"
             ],
             [
              0.8888888888888888,
              "#fdca26"
             ],
             [
              1,
              "#f0f921"
             ]
            ],
            "type": "surface"
           }
          ],
          "table": [
           {
            "cells": {
             "fill": {
              "color": "#EBF0F8"
             },
             "line": {
              "color": "white"
             }
            },
            "header": {
             "fill": {
              "color": "#C8D4E3"
             },
             "line": {
              "color": "white"
             }
            },
            "type": "table"
           }
          ]
         },
         "layout": {
          "annotationdefaults": {
           "arrowcolor": "#2a3f5f",
           "arrowhead": 0,
           "arrowwidth": 1
          },
          "autotypenumbers": "strict",
          "coloraxis": {
           "colorbar": {
            "outlinewidth": 0,
            "ticks": ""
           }
          },
          "colorscale": {
           "diverging": [
            [
             0,
             "#8e0152"
            ],
            [
             0.1,
             "#c51b7d"
            ],
            [
             0.2,
             "#de77ae"
            ],
            [
             0.3,
             "#f1b6da"
            ],
            [
             0.4,
             "#fde0ef"
            ],
            [
             0.5,
             "#f7f7f7"
            ],
            [
             0.6,
             "#e6f5d0"
            ],
            [
             0.7,
             "#b8e186"
            ],
            [
             0.8,
             "#7fbc41"
            ],
            [
             0.9,
             "#4d9221"
            ],
            [
             1,
             "#276419"
            ]
           ],
           "sequential": [
            [
             0,
             "#0d0887"
            ],
            [
             0.1111111111111111,
             "#46039f"
            ],
            [
             0.2222222222222222,
             "#7201a8"
            ],
            [
             0.3333333333333333,
             "#9c179e"
            ],
            [
             0.4444444444444444,
             "#bd3786"
            ],
            [
             0.5555555555555556,
             "#d8576b"
            ],
            [
             0.6666666666666666,
             "#ed7953"
            ],
            [
             0.7777777777777778,
             "#fb9f3a"
            ],
            [
             0.8888888888888888,
             "#fdca26"
            ],
            [
             1,
             "#f0f921"
            ]
           ],
           "sequentialminus": [
            [
             0,
             "#0d0887"
            ],
            [
             0.1111111111111111,
             "#46039f"
            ],
            [
             0.2222222222222222,
             "#7201a8"
            ],
            [
             0.3333333333333333,
             "#9c179e"
            ],
            [
             0.4444444444444444,
             "#bd3786"
            ],
            [
             0.5555555555555556,
             "#d8576b"
            ],
            [
             0.6666666666666666,
             "#ed7953"
            ],
            [
             0.7777777777777778,
             "#fb9f3a"
            ],
            [
             0.8888888888888888,
             "#fdca26"
            ],
            [
             1,
             "#f0f921"
            ]
           ]
          },
          "colorway": [
           "#636efa",
           "#EF553B",
           "#00cc96",
           "#ab63fa",
           "#FFA15A",
           "#19d3f3",
           "#FF6692",
           "#B6E880",
           "#FF97FF",
           "#FECB52"
          ],
          "font": {
           "color": "#2a3f5f"
          },
          "geo": {
           "bgcolor": "white",
           "lakecolor": "white",
           "landcolor": "#E5ECF6",
           "showlakes": true,
           "showland": true,
           "subunitcolor": "white"
          },
          "hoverlabel": {
           "align": "left"
          },
          "hovermode": "closest",
          "mapbox": {
           "style": "light"
          },
          "paper_bgcolor": "white",
          "plot_bgcolor": "#E5ECF6",
          "polar": {
           "angularaxis": {
            "gridcolor": "white",
            "linecolor": "white",
            "ticks": ""
           },
           "bgcolor": "#E5ECF6",
           "radialaxis": {
            "gridcolor": "white",
            "linecolor": "white",
            "ticks": ""
           }
          },
          "scene": {
           "xaxis": {
            "backgroundcolor": "#E5ECF6",
            "gridcolor": "white",
            "gridwidth": 2,
            "linecolor": "white",
            "showbackground": true,
            "ticks": "",
            "zerolinecolor": "white"
           },
           "yaxis": {
            "backgroundcolor": "#E5ECF6",
            "gridcolor": "white",
            "gridwidth": 2,
            "linecolor": "white",
            "showbackground": true,
            "ticks": "",
            "zerolinecolor": "white"
           },
           "zaxis": {
            "backgroundcolor": "#E5ECF6",
            "gridcolor": "white",
            "gridwidth": 2,
            "linecolor": "white",
            "showbackground": true,
            "ticks": "",
            "zerolinecolor": "white"
           }
          },
          "shapedefaults": {
           "line": {
            "color": "#2a3f5f"
           }
          },
          "ternary": {
           "aaxis": {
            "gridcolor": "white",
            "linecolor": "white",
            "ticks": ""
           },
           "baxis": {
            "gridcolor": "white",
            "linecolor": "white",
            "ticks": ""
           },
           "bgcolor": "#E5ECF6",
           "caxis": {
            "gridcolor": "white",
            "linecolor": "white",
            "ticks": ""
           }
          },
          "title": {
           "x": 0.05
          },
          "xaxis": {
           "automargin": true,
           "gridcolor": "white",
           "linecolor": "white",
           "ticks": "",
           "title": {
            "standoff": 15
           },
           "zerolinecolor": "white",
           "zerolinewidth": 2
          },
          "yaxis": {
           "automargin": true,
           "gridcolor": "white",
           "linecolor": "white",
           "ticks": "",
           "title": {
            "standoff": 15
           },
           "zerolinecolor": "white",
           "zerolinewidth": 2
          }
         }
        },
        "title": {
         "font": {
          "family": "Arial, sans-serif",
          "size": 18
         },
         "text": "Prescription Analysis: Total Difference vs Prescription Count",
         "x": 0.5,
         "xanchor": "center"
        },
        "width": 1200,
        "xaxis": {
         "anchor": "y",
         "domain": [
          0,
          1
         ],
         "gridcolor": "lightgray",
         "gridwidth": 0.5,
         "tickformat": "~s",
         "title": {
          "font": {
           "size": 14
          },
          "text": "Prescription Count (log scale)"
         },
         "type": "log"
        },
        "yaxis": {
         "anchor": "x",
         "domain": [
          0,
          1
         ],
         "gridcolor": "lightgray",
         "gridwidth": 0.5,
         "tickformat": "$~s",
         "title": {
          "font": {
           "size": 14
          },
          "text": "Total Difference ($, log scale)"
         },
         "type": "log"
        }
       }
      }
     },
     "metadata": {},
     "output_type": "display_data"
    }
   ],
   "source": [
    "\n",
    "def scatter_plot(df):\n",
    "    fig = px.scatter(\n",
    "        df,\n",
    "        x='rx_count',\n",
    "        y='total_diff_abs',\n",
    "        size='total_diff_abs',\n",
    "        color='classification',\n",
    "        hover_data={'rx_count': True, 'total_diff': ':$,.0f', 'diff_per_rx': ':$,.2f'},\n",
    "        labels={\n",
    "            'rx_count': 'Prescription Count',\n",
    "            'total_diff': 'Total Difference ($)',\n",
    "            'diff_per_rx': 'Difference per Rx ($)'\n",
    "        },\n",
    "        title='Prescription Analysis: Total Difference vs Prescription Count',\n",
    "        log_x=True,\n",
    "        log_y=True,\n",
    "        size_max=40,\n",
    "    )\n",
    "\n",
    "    # Update layout for professional appearance and custom x-axis tick formatting\n",
    "    fig.update_layout(\n",
    "        title={\n",
    "            'text': 'Prescription Analysis: Total Difference vs Prescription Count',\n",
    "            'x': 0.5,\n",
    "            'xanchor': 'center',\n",
    "            'font': {'size': 18, 'family': 'Arial, sans-serif'}\n",
    "        },\n",
    "        xaxis={\n",
    "            'title': {'text': 'Prescription Count (log scale)', 'font': {'size': 14}},\n",
    "            'tickformat': '~s',  # SI prefix, e.g., 1K, 1M\n",
    "            'gridcolor': 'lightgray',\n",
    "            'gridwidth': 0.5\n",
    "        },\n",
    "        yaxis={\n",
    "            'title': {'text': 'Total Difference ($, log scale)', 'font': {'size': 14}},\n",
    "            'tickformat': '$~s',  # SI prefix with dollar sign, e.g., $1K, $1M\n",
    "            'gridcolor': 'lightgray',\n",
    "            'gridwidth': 0.5\n",
    "        },\n",
    "        coloraxis_colorbar={\n",
    "            'title': {'text': 'Total Difference ($)', 'font': {'size': 12}},\n",
    "            'tickformat': '$~s'  # SI prefix with dollar sign\n",
    "        },\n",
    "        plot_bgcolor='white',\n",
    "        paper_bgcolor='white',\n",
    "        font={'family': 'Arial, sans-serif', 'size': 12},\n",
    "        margin={'l': 80, 'r': 80, 't': 100, 'b': 80},\n",
    "        width=1200,\n",
    "        height=600\n",
    "    )\n",
    "\n",
    "    # Update traces for better appearance\n",
    "    fig.update_traces(\n",
    "        marker={\n",
    "            'sizemin': 5,\n",
    "            'line': {'width': 0.5, 'color': 'white'},\n",
    "            'opacity': 0.8\n",
    "        },\n",
    "        hovertemplate=\n",
    "            '<b>Product:</b> %{customdata[0]}<br>' +\n",
    "            '<b>Prescription Count:</b> %{x:,}<br>' +\n",
    "            '<b>Total Difference:</b> $%{y:,.0f}<br>' +\n",
    "            '<b>Difference per Rx:</b> $%{customdata[1]:,.2f}<br>' +\n",
    "            '<extra></extra>',\n",
    "        customdata=df[['product_group', 'diff_per_rx']].to_numpy()\n",
    "    )\n",
    "    return fig\n",
    "\n",
    "scatter_plot(df)\n"
   ]
  },
  {
   "cell_type": "code",
   "execution_count": null,
   "id": "5f79cd5f",
   "metadata": {},
   "outputs": [],
   "source": []
  },
  {
   "cell_type": "code",
   "execution_count": null,
   "id": "4ec004a4",
   "metadata": {},
   "outputs": [],
   "source": []
  }
 ],
 "metadata": {
  "kernelspec": {
   "display_name": ".venv",
   "language": "python",
   "name": "python3"
  },
  "language_info": {
   "codemirror_mode": {
    "name": "ipython",
    "version": 3
   },
   "file_extension": ".py",
   "mimetype": "text/x-python",
   "name": "python",
   "nbconvert_exporter": "python",
   "pygments_lexer": "ipython3",
   "version": "3.10.16"
  }
 },
 "nbformat": 4,
 "nbformat_minor": 5
}
